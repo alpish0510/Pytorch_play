{
  "nbformat": 4,
  "nbformat_minor": 0,
  "metadata": {
    "colab": {
      "provenance": [],
      "gpuType": "T4",
      "authorship_tag": "ABX9TyP/3kkhh5PQZQpyXlg1OuaB",
      "include_colab_link": true
    },
    "kernelspec": {
      "name": "python3",
      "display_name": "Python 3"
    },
    "language_info": {
      "name": "python"
    },
    "accelerator": "GPU"
  },
  "cells": [
    {
      "cell_type": "markdown",
      "metadata": {
        "id": "view-in-github",
        "colab_type": "text"
      },
      "source": [
        "<a href=\"https://colab.research.google.com/github/alpish0510/Pytorch_play/blob/main/DL.ipynb\" target=\"_parent\"><img src=\"https://colab.research.google.com/assets/colab-badge.svg\" alt=\"Open In Colab\"/></a>"
      ]
    },
    {
      "cell_type": "code",
      "execution_count": 6,
      "metadata": {
        "id": "2drnHwtNVXuL"
      },
      "outputs": [],
      "source": [
        "import torch\n",
        "import numpy as np\n"
      ]
    },
    {
      "cell_type": "markdown",
      "source": [
        "## Tensors"
      ],
      "metadata": {
        "id": "47Vf7WcbbX9M"
      }
    },
    {
      "cell_type": "code",
      "source": [
        "tens_2d=torch.zeros(2,2) # a 2d tensor (2x2 matrix)\n",
        "tens_3d=torch.zeros(3,3,3) # a 3d tensor\n",
        "tens_2d,tens_3d"
      ],
      "metadata": {
        "colab": {
          "base_uri": "https://localhost:8080/"
        },
        "id": "2NADRMp_Z9ux",
        "outputId": "29d1e00a-25da-49ec-b9b9-72d8211b5f1f"
      },
      "execution_count": 17,
      "outputs": [
        {
          "output_type": "execute_result",
          "data": {
            "text/plain": [
              "(tensor([[0., 0.],\n",
              "         [0., 0.]]),\n",
              " tensor([[[0., 0., 0.],\n",
              "          [0., 0., 0.],\n",
              "          [0., 0., 0.]],\n",
              " \n",
              "         [[0., 0., 0.],\n",
              "          [0., 0., 0.],\n",
              "          [0., 0., 0.]],\n",
              " \n",
              "         [[0., 0., 0.],\n",
              "          [0., 0., 0.],\n",
              "          [0., 0., 0.]]]))"
            ]
          },
          "metadata": {},
          "execution_count": 17
        }
      ]
    },
    {
      "cell_type": "code",
      "source": [
        "## Converting a numpy array to a tensor\n",
        "arr=np.random.rand(3,3)\n",
        "print(arr)\n",
        "\n",
        "tens_from_arr=torch.tensor(arr)\n",
        "#tens_from_arr=torch.Tensor(arr)  # Using this, the tensor is float32 dtype\n",
        "print(tens_from_arr)"
      ],
      "metadata": {
        "colab": {
          "base_uri": "https://localhost:8080/"
        },
        "id": "cT3D2aFbm7x6",
        "outputId": "421eefa5-b65e-4cea-f83d-a4b1d66a616c"
      },
      "execution_count": 25,
      "outputs": [
        {
          "output_type": "stream",
          "name": "stdout",
          "text": [
            "[[0.32305566 0.15102017 0.06692667]\n",
            " [0.07721004 0.76222954 0.39757306]\n",
            " [0.72738645 0.23915217 0.79537248]]\n",
            "tensor([[0.3231, 0.1510, 0.0669],\n",
            "        [0.0772, 0.7622, 0.3976],\n",
            "        [0.7274, 0.2392, 0.7954]], dtype=torch.float64)\n"
          ]
        }
      ]
    },
    {
      "cell_type": "code",
      "source": [
        "tens_from_arr.dtype"
      ],
      "metadata": {
        "colab": {
          "base_uri": "https://localhost:8080/"
        },
        "id": "CVXLyPZcni_Q",
        "outputId": "6cca0f74-eb6e-44d8-c592-199458bc8ace"
      },
      "execution_count": 27,
      "outputs": [
        {
          "output_type": "execute_result",
          "data": {
            "text/plain": [
              "torch.float64"
            ]
          },
          "metadata": {},
          "execution_count": 27
        }
      ]
    },
    {
      "cell_type": "markdown",
      "source": [
        "### Tensor Operations"
      ],
      "metadata": {
        "id": "u9ks3EHgp-bl"
      }
    },
    {
      "cell_type": "code",
      "source": [
        "# make a tensor\n",
        "tens=torch.arange(50)\n",
        "tens\n"
      ],
      "metadata": {
        "colab": {
          "base_uri": "https://localhost:8080/"
        },
        "id": "-sjiI98yocnw",
        "outputId": "450ff5c5-03d3-461e-86ba-6bed3ef7d0bf"
      },
      "execution_count": 42,
      "outputs": [
        {
          "output_type": "execute_result",
          "data": {
            "text/plain": [
              "tensor([ 0,  1,  2,  3,  4,  5,  6,  7,  8,  9, 10, 11, 12, 13, 14, 15, 16, 17,\n",
              "        18, 19, 20, 21, 22, 23, 24, 25, 26, 27, 28, 29, 30, 31, 32, 33, 34, 35,\n",
              "        36, 37, 38, 39, 40, 41, 42, 43, 44, 45, 46, 47, 48, 49])"
            ]
          },
          "metadata": {},
          "execution_count": 42
        }
      ]
    },
    {
      "cell_type": "code",
      "source": [
        "# reshaping\n",
        "tens.reshape(5,10) # if one knows the shape of the tensor"
      ],
      "metadata": {
        "colab": {
          "base_uri": "https://localhost:8080/"
        },
        "id": "Gy6FWrbTo3mj",
        "outputId": "c149aa20-97f5-4eb8-d45b-2c93438bcda4"
      },
      "execution_count": 43,
      "outputs": [
        {
          "output_type": "execute_result",
          "data": {
            "text/plain": [
              "tensor([[ 0,  1,  2,  3,  4,  5,  6,  7,  8,  9],\n",
              "        [10, 11, 12, 13, 14, 15, 16, 17, 18, 19],\n",
              "        [20, 21, 22, 23, 24, 25, 26, 27, 28, 29],\n",
              "        [30, 31, 32, 33, 34, 35, 36, 37, 38, 39],\n",
              "        [40, 41, 42, 43, 44, 45, 46, 47, 48, 49]])"
            ]
          },
          "metadata": {},
          "execution_count": 43
        }
      ]
    },
    {
      "cell_type": "code",
      "source": [
        "tens.reshape(2,-1),tens.reshape(-1,5) # if one doesn't know the exact shape, use -1."
      ],
      "metadata": {
        "colab": {
          "base_uri": "https://localhost:8080/"
        },
        "id": "t0SJYhPnpRKM",
        "outputId": "f143633e-d689-4fdc-ffdc-cd704bd661ce"
      },
      "execution_count": 44,
      "outputs": [
        {
          "output_type": "execute_result",
          "data": {
            "text/plain": [
              "(tensor([[ 0,  1,  2,  3,  4,  5,  6,  7,  8,  9, 10, 11, 12, 13, 14, 15, 16, 17,\n",
              "          18, 19, 20, 21, 22, 23, 24],\n",
              "         [25, 26, 27, 28, 29, 30, 31, 32, 33, 34, 35, 36, 37, 38, 39, 40, 41, 42,\n",
              "          43, 44, 45, 46, 47, 48, 49]]),\n",
              " tensor([[ 0,  1,  2,  3,  4],\n",
              "         [ 5,  6,  7,  8,  9],\n",
              "         [10, 11, 12, 13, 14],\n",
              "         [15, 16, 17, 18, 19],\n",
              "         [20, 21, 22, 23, 24],\n",
              "         [25, 26, 27, 28, 29],\n",
              "         [30, 31, 32, 33, 34],\n",
              "         [35, 36, 37, 38, 39],\n",
              "         [40, 41, 42, 43, 44],\n",
              "         [45, 46, 47, 48, 49]]))"
            ]
          },
          "metadata": {},
          "execution_count": 44
        }
      ]
    },
    {
      "cell_type": "code",
      "source": [
        "## using view\n",
        "tens.view(2,25)"
      ],
      "metadata": {
        "colab": {
          "base_uri": "https://localhost:8080/"
        },
        "id": "EO_FVX6KqEp7",
        "outputId": "846e86f0-7938-4bb5-fe4d-08d60891872e"
      },
      "execution_count": 48,
      "outputs": [
        {
          "output_type": "execute_result",
          "data": {
            "text/plain": [
              "tensor([[ 0,  1,  2,  3,  4,  5,  6,  7,  8,  9, 10, 11, 12, 13, 14, 15, 16, 17,\n",
              "         18, 19, 20, 21, 22, 23, 24],\n",
              "        [25, 26, 27, 28, 29, 30, 31, 32, 33, 34, 35, 36, 37, 38, 39, 40, 41, 42,\n",
              "         43, 44, 45, 46, 47, 48, 49]])"
            ]
          },
          "metadata": {},
          "execution_count": 48
        }
      ]
    },
    {
      "cell_type": "code",
      "source": [
        "## example slicing\n",
        "print(tens.view(2,25)[:,1])\n",
        "\n",
        "print(tens.reshape(-1,5)[:,2]) ## gives the numbers as a 1D tensor\n",
        "print(tens.reshape(-1,5)[:,2:]) ## keeps the shape of the tensor conserved\n"
      ],
      "metadata": {
        "colab": {
          "base_uri": "https://localhost:8080/"
        },
        "id": "pH5_KqSUqu7G",
        "outputId": "08b08c60-db8c-4827-fb6c-593d19f346c9"
      },
      "execution_count": 53,
      "outputs": [
        {
          "output_type": "stream",
          "name": "stdout",
          "text": [
            "tensor([ 1, 26])\n",
            "tensor([ 2,  7, 12, 17, 22, 27, 32, 37, 42, 47])\n",
            "tensor([[ 2,  3,  4],\n",
            "        [ 7,  8,  9],\n",
            "        [12, 13, 14],\n",
            "        [17, 18, 19],\n",
            "        [22, 23, 24],\n",
            "        [27, 28, 29],\n",
            "        [32, 33, 34],\n",
            "        [37, 38, 39],\n",
            "        [42, 43, 44],\n",
            "        [47, 48, 49]])\n"
          ]
        }
      ]
    },
    {
      "cell_type": "code",
      "source": [],
      "metadata": {
        "id": "9nkWgebNrL35"
      },
      "execution_count": null,
      "outputs": []
    }
  ]
}