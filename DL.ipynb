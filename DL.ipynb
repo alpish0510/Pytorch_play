{
  "nbformat": 4,
  "nbformat_minor": 0,
  "metadata": {
    "colab": {
      "provenance": [],
      "gpuType": "T4",
      "authorship_tag": "ABX9TyPRqpGtdARtW7PszW1bmkTR",
      "include_colab_link": true
    },
    "kernelspec": {
      "name": "python3",
      "display_name": "Python 3"
    },
    "language_info": {
      "name": "python"
    },
    "accelerator": "GPU"
  },
  "cells": [
    {
      "cell_type": "markdown",
      "metadata": {
        "id": "view-in-github",
        "colab_type": "text"
      },
      "source": [
        "<a href=\"https://colab.research.google.com/github/alpish0510/Pytorch_play/blob/main/DL.ipynb\" target=\"_parent\"><img src=\"https://colab.research.google.com/assets/colab-badge.svg\" alt=\"Open In Colab\"/></a>"
      ]
    },
    {
      "cell_type": "code",
      "execution_count": 48,
      "metadata": {
        "id": "2drnHwtNVXuL"
      },
      "outputs": [],
      "source": [
        "import torch\n",
        "import numpy as np\n"
      ]
    },
    {
      "cell_type": "markdown",
      "source": [
        "## Tensors"
      ],
      "metadata": {
        "id": "47Vf7WcbbX9M"
      }
    },
    {
      "cell_type": "code",
      "source": [
        "tens_2d=torch.zeros(2,2) # a 2d tensor (2x2 matrix)\n",
        "tens_3d=torch.zeros(3,3,3) # a 3d tensor\n",
        "tens_2d,tens_3d"
      ],
      "metadata": {
        "colab": {
          "base_uri": "https://localhost:8080/"
        },
        "id": "2NADRMp_Z9ux",
        "outputId": "564661a8-62f0-4421-d7a9-34a5ea7113f0"
      },
      "execution_count": 49,
      "outputs": [
        {
          "output_type": "execute_result",
          "data": {
            "text/plain": [
              "(tensor([[0., 0.],\n",
              "         [0., 0.]]),\n",
              " tensor([[[0., 0., 0.],\n",
              "          [0., 0., 0.],\n",
              "          [0., 0., 0.]],\n",
              " \n",
              "         [[0., 0., 0.],\n",
              "          [0., 0., 0.],\n",
              "          [0., 0., 0.]],\n",
              " \n",
              "         [[0., 0., 0.],\n",
              "          [0., 0., 0.],\n",
              "          [0., 0., 0.]]]))"
            ]
          },
          "metadata": {},
          "execution_count": 49
        }
      ]
    },
    {
      "cell_type": "code",
      "source": [
        "## Converting a numpy array to a tensor\n",
        "arr=np.random.rand(3,3)\n",
        "arr50=np.random.rand(1,50)\n",
        "print(arr)\n",
        "\n",
        "tens_from_arr=torch.tensor(arr)\n",
        "tens50rand=torch.tensor(arr50)\n",
        "#tens_from_arr=torch.Tensor(arr)  # Using this, the tensor is float32 dtype\n",
        "print(tens_from_arr)"
      ],
      "metadata": {
        "colab": {
          "base_uri": "https://localhost:8080/"
        },
        "id": "cT3D2aFbm7x6",
        "outputId": "1302658b-d75d-4194-e7d9-0f415bdc9c82"
      },
      "execution_count": 50,
      "outputs": [
        {
          "output_type": "stream",
          "name": "stdout",
          "text": [
            "[[0.68464057 0.79589252 0.46533427]\n",
            " [0.64693087 0.28452148 0.72753319]\n",
            " [0.63471718 0.2816038  0.8519651 ]]\n",
            "tensor([[0.6846, 0.7959, 0.4653],\n",
            "        [0.6469, 0.2845, 0.7275],\n",
            "        [0.6347, 0.2816, 0.8520]], dtype=torch.float64)\n"
          ]
        }
      ]
    },
    {
      "cell_type": "code",
      "source": [
        "tens_from_arr.dtype"
      ],
      "metadata": {
        "colab": {
          "base_uri": "https://localhost:8080/"
        },
        "id": "CVXLyPZcni_Q",
        "outputId": "1bfe563e-c129-44c0-9b33-d007cbb2deea"
      },
      "execution_count": 51,
      "outputs": [
        {
          "output_type": "execute_result",
          "data": {
            "text/plain": [
              "torch.float64"
            ]
          },
          "metadata": {},
          "execution_count": 51
        }
      ]
    },
    {
      "cell_type": "markdown",
      "source": [
        "### Tensor Operations"
      ],
      "metadata": {
        "id": "u9ks3EHgp-bl"
      }
    },
    {
      "cell_type": "code",
      "source": [
        "# make a tensor\n",
        "tens=torch.arange(50)\n",
        "\n",
        "tens\n"
      ],
      "metadata": {
        "colab": {
          "base_uri": "https://localhost:8080/"
        },
        "id": "-sjiI98yocnw",
        "outputId": "f11be6bc-8481-4ecb-ef2c-1ab5c7b2c8f5"
      },
      "execution_count": 52,
      "outputs": [
        {
          "output_type": "execute_result",
          "data": {
            "text/plain": [
              "tensor([ 0,  1,  2,  3,  4,  5,  6,  7,  8,  9, 10, 11, 12, 13, 14, 15, 16, 17,\n",
              "        18, 19, 20, 21, 22, 23, 24, 25, 26, 27, 28, 29, 30, 31, 32, 33, 34, 35,\n",
              "        36, 37, 38, 39, 40, 41, 42, 43, 44, 45, 46, 47, 48, 49])"
            ]
          },
          "metadata": {},
          "execution_count": 52
        }
      ]
    },
    {
      "cell_type": "code",
      "source": [
        "# reshaping\n",
        "tens.reshape(5,10) # if one knows the shape of the tensor"
      ],
      "metadata": {
        "colab": {
          "base_uri": "https://localhost:8080/"
        },
        "id": "Gy6FWrbTo3mj",
        "outputId": "cf1eacde-b8a5-49ca-b6c4-c0abdb4b4135"
      },
      "execution_count": 53,
      "outputs": [
        {
          "output_type": "execute_result",
          "data": {
            "text/plain": [
              "tensor([[ 0,  1,  2,  3,  4,  5,  6,  7,  8,  9],\n",
              "        [10, 11, 12, 13, 14, 15, 16, 17, 18, 19],\n",
              "        [20, 21, 22, 23, 24, 25, 26, 27, 28, 29],\n",
              "        [30, 31, 32, 33, 34, 35, 36, 37, 38, 39],\n",
              "        [40, 41, 42, 43, 44, 45, 46, 47, 48, 49]])"
            ]
          },
          "metadata": {},
          "execution_count": 53
        }
      ]
    },
    {
      "cell_type": "code",
      "source": [
        "tens.reshape(2,-1),tens.reshape(-1,5) # if one doesn't know the exact shape, use -1."
      ],
      "metadata": {
        "colab": {
          "base_uri": "https://localhost:8080/"
        },
        "id": "t0SJYhPnpRKM",
        "outputId": "a6cfc019-d3de-42c0-f0ca-abb7fa7df02b"
      },
      "execution_count": 54,
      "outputs": [
        {
          "output_type": "execute_result",
          "data": {
            "text/plain": [
              "(tensor([[ 0,  1,  2,  3,  4,  5,  6,  7,  8,  9, 10, 11, 12, 13, 14, 15, 16, 17,\n",
              "          18, 19, 20, 21, 22, 23, 24],\n",
              "         [25, 26, 27, 28, 29, 30, 31, 32, 33, 34, 35, 36, 37, 38, 39, 40, 41, 42,\n",
              "          43, 44, 45, 46, 47, 48, 49]]),\n",
              " tensor([[ 0,  1,  2,  3,  4],\n",
              "         [ 5,  6,  7,  8,  9],\n",
              "         [10, 11, 12, 13, 14],\n",
              "         [15, 16, 17, 18, 19],\n",
              "         [20, 21, 22, 23, 24],\n",
              "         [25, 26, 27, 28, 29],\n",
              "         [30, 31, 32, 33, 34],\n",
              "         [35, 36, 37, 38, 39],\n",
              "         [40, 41, 42, 43, 44],\n",
              "         [45, 46, 47, 48, 49]]))"
            ]
          },
          "metadata": {},
          "execution_count": 54
        }
      ]
    },
    {
      "cell_type": "code",
      "source": [
        "## using view\n",
        "tens.view(2,25)"
      ],
      "metadata": {
        "colab": {
          "base_uri": "https://localhost:8080/"
        },
        "id": "EO_FVX6KqEp7",
        "outputId": "82d9c3a0-ac0a-4591-90cd-72a7a3a96bdd"
      },
      "execution_count": 55,
      "outputs": [
        {
          "output_type": "execute_result",
          "data": {
            "text/plain": [
              "tensor([[ 0,  1,  2,  3,  4,  5,  6,  7,  8,  9, 10, 11, 12, 13, 14, 15, 16, 17,\n",
              "         18, 19, 20, 21, 22, 23, 24],\n",
              "        [25, 26, 27, 28, 29, 30, 31, 32, 33, 34, 35, 36, 37, 38, 39, 40, 41, 42,\n",
              "         43, 44, 45, 46, 47, 48, 49]])"
            ]
          },
          "metadata": {},
          "execution_count": 55
        }
      ]
    },
    {
      "cell_type": "code",
      "source": [
        "## example slicing\n",
        "print(tens.view(2,25)[:,1])\n",
        "\n",
        "print(tens.reshape(-1,5)[:,2]) ## gives the numbers as a 1D tensor\n",
        "print(tens.reshape(-1,5)[:,2:]) ## keeps the shape of the tensor conserved\n"
      ],
      "metadata": {
        "colab": {
          "base_uri": "https://localhost:8080/"
        },
        "id": "pH5_KqSUqu7G",
        "outputId": "e93077f9-cccb-4aba-b48c-626cc5e78072"
      },
      "execution_count": 56,
      "outputs": [
        {
          "output_type": "stream",
          "name": "stdout",
          "text": [
            "tensor([ 1, 26])\n",
            "tensor([ 2,  7, 12, 17, 22, 27, 32, 37, 42, 47])\n",
            "tensor([[ 2,  3,  4],\n",
            "        [ 7,  8,  9],\n",
            "        [12, 13, 14],\n",
            "        [17, 18, 19],\n",
            "        [22, 23, 24],\n",
            "        [27, 28, 29],\n",
            "        [32, 33, 34],\n",
            "        [37, 38, 39],\n",
            "        [42, 43, 44],\n",
            "        [47, 48, 49]])\n"
          ]
        }
      ]
    },
    {
      "cell_type": "code",
      "source": [
        "## Math operations\n",
        "print(tens+tens)\n",
        "print(torch.add(tens,tens))\n",
        "print(torch.sub(tens,tens))\n",
        "print(torch.mul(tens,tens50rand))\n",
        "print(torch.div(tens,tens50rand))\n",
        "print(torch.remainder(tens,tens50rand))"
      ],
      "metadata": {
        "colab": {
          "base_uri": "https://localhost:8080/"
        },
        "id": "9nkWgebNrL35",
        "outputId": "ebf98570-7a02-4a73-cec2-def065d100f1"
      },
      "execution_count": 57,
      "outputs": [
        {
          "output_type": "stream",
          "name": "stdout",
          "text": [
            "tensor([ 0,  2,  4,  6,  8, 10, 12, 14, 16, 18, 20, 22, 24, 26, 28, 30, 32, 34,\n",
            "        36, 38, 40, 42, 44, 46, 48, 50, 52, 54, 56, 58, 60, 62, 64, 66, 68, 70,\n",
            "        72, 74, 76, 78, 80, 82, 84, 86, 88, 90, 92, 94, 96, 98])\n",
            "tensor([ 0,  2,  4,  6,  8, 10, 12, 14, 16, 18, 20, 22, 24, 26, 28, 30, 32, 34,\n",
            "        36, 38, 40, 42, 44, 46, 48, 50, 52, 54, 56, 58, 60, 62, 64, 66, 68, 70,\n",
            "        72, 74, 76, 78, 80, 82, 84, 86, 88, 90, 92, 94, 96, 98])\n",
            "tensor([0, 0, 0, 0, 0, 0, 0, 0, 0, 0, 0, 0, 0, 0, 0, 0, 0, 0, 0, 0, 0, 0, 0, 0,\n",
            "        0, 0, 0, 0, 0, 0, 0, 0, 0, 0, 0, 0, 0, 0, 0, 0, 0, 0, 0, 0, 0, 0, 0, 0,\n",
            "        0, 0])\n",
            "tensor([[ 0.0000,  0.2961,  1.6243,  2.2005,  3.9529,  1.9799,  4.8051,  4.9155,\n",
            "          7.0693,  2.6303,  1.7188,  5.2602,  6.4697,  7.2529,  5.7246,  8.1746,\n",
            "          5.8896, 16.0761, 13.8830, 15.6269, 14.7585, 18.7421, 13.1575, 17.7068,\n",
            "          7.4980,  1.6852,  9.5625,  2.0584, 27.5884,  7.7045, 21.6725, 26.5561,\n",
            "          2.3029,  1.4240,  6.8486, 25.5905, 23.0189, 12.7978, 17.6143, 33.6216,\n",
            "         30.9272, 39.4934, 23.8006, 26.7327, 37.0767, 39.3164, 32.8456, 35.7386,\n",
            "          0.7469, 22.6699]], dtype=torch.float64)\n",
            "tensor([[0.0000e+00, 3.3776e+00, 2.4626e+00, 4.0900e+00, 4.0476e+00, 1.2627e+01,\n",
            "         7.4921e+00, 9.9684e+00, 9.0532e+00, 3.0795e+01, 5.8181e+01, 2.3003e+01,\n",
            "         2.2258e+01, 2.3301e+01, 3.4238e+01, 2.7524e+01, 4.3467e+01, 1.7977e+01,\n",
            "         2.3338e+01, 2.3101e+01, 2.7103e+01, 2.3530e+01, 3.6785e+01, 2.9876e+01,\n",
            "         7.6821e+01, 3.7087e+02, 7.0692e+01, 3.5415e+02, 2.8418e+01, 1.0916e+02,\n",
            "         4.1527e+01, 3.6188e+01, 4.4465e+02, 7.6476e+02, 1.6879e+02, 4.7869e+01,\n",
            "         5.6302e+01, 1.0697e+02, 8.1979e+01, 4.5239e+01, 5.1734e+01, 4.2564e+01,\n",
            "         7.4116e+01, 6.9166e+01, 5.2216e+01, 5.1505e+01, 6.4423e+01, 6.1810e+01,\n",
            "         3.0849e+03, 1.0591e+02]], dtype=torch.float64)\n",
            "tensor([[0.0000, 0.1118, 0.3757, 0.0660, 0.0471, 0.2481, 0.3941, 0.6800, 0.0470,\n",
            "         0.2323, 0.0312, 0.0015, 0.1390, 0.1679, 0.0975, 0.2856, 0.1718, 0.9239,\n",
            "         0.2606, 0.0833, 0.0760, 0.4729, 0.4696, 0.6741, 0.2564, 0.0589, 0.2547,\n",
            "         0.0116, 0.4116, 0.0416, 0.3809, 0.1607, 0.0470, 0.0329, 0.1599, 0.6356,\n",
            "         0.1928, 0.3360, 0.4536, 0.2058, 0.5678, 0.5434, 0.0656, 0.1034, 0.1821,\n",
            "         0.4414, 0.3017, 0.6158, 0.0147, 0.4216]], dtype=torch.float64)\n"
          ]
        }
      ]
    },
    {
      "cell_type": "code",
      "source": [
        "## Some more operations\n",
        "\n",
        "print(torch.pow(tens,tens50rand))"
      ],
      "metadata": {
        "colab": {
          "base_uri": "https://localhost:8080/"
        },
        "id": "r7btl4JOMQBh",
        "outputId": "d49a3046-11d0-4deb-fa36-528cdffc10ce"
      },
      "execution_count": 59,
      "outputs": [
        {
          "output_type": "stream",
          "name": "stdout",
          "text": [
            "tensor([[ 0.0000,  1.0000,  1.7558,  2.2386,  3.9353,  1.8914,  4.1993,  3.9214,\n",
            "          6.2810,  1.9006,  1.4855,  3.1477,  3.8179,  4.1830,  2.9420,  4.3746,\n",
            "          2.7748, 14.5739,  9.2932, 11.2650,  9.1214, 15.1376,  6.3512, 11.1773,\n",
            "          2.6990,  1.2423,  3.3145,  1.2857, 26.6615,  2.4464, 11.6707, 18.9484,\n",
            "          1.2833,  1.1629,  2.0346, 13.4572,  9.8883,  3.4867,  5.3987, 23.5312,\n",
            "         17.3253, 35.7699,  8.3150, 10.3636, 24.2581, 27.8234, 15.3911, 18.6834,\n",
            "          1.0621,  6.0530]], dtype=torch.float64)\n"
          ]
        }
      ]
    },
    {
      "cell_type": "markdown",
      "source": [
        "## Basic Neural Networks"
      ],
      "metadata": {
        "id": "XkocWMx8NOrk"
      }
    },
    {
      "cell_type": "code",
      "source": [
        "import torch.nn as nn\n",
        "import torch.nn.functional as F\n",
        "import matplotlib.pyplot as plt\n",
        "import pandas as pd\n",
        "%matplotlib inline\n"
      ],
      "metadata": {
        "id": "_YYuceeRNN3Q"
      },
      "execution_count": 125,
      "outputs": []
    },
    {
      "cell_type": "code",
      "source": [
        "class Model(nn.Module):\n",
        "  #input layer (4 features of flower)\n",
        "  #HL1(n neurons)-->HL2(n nurons)-->Output (one of three types of flowers)\n",
        "\n",
        "  def __init__(self,input_features=4,hl1=8,hl2=10, out_features=3):\n",
        "    super().__init__()\n",
        "    self.fc1=nn.Linear(input_features,hl1)\n",
        "    self.fc2=nn.Linear(hl1,hl2)\n",
        "    self.out=nn.Linear(hl2,out_features)\n",
        "\n",
        "  def fwd(self, x):\n",
        "    x=F.relu(self.fc1(x))\n",
        "    x=F.relu(self.fc2(x))\n",
        "    x=self.out(x)\n",
        "\n",
        "    return x"
      ],
      "metadata": {
        "id": "paqT-k1pO0S8"
      },
      "execution_count": 126,
      "outputs": []
    },
    {
      "cell_type": "code",
      "source": [
        "# Picking a random seed\n",
        "torch.manual_seed(99)\n",
        "\n",
        "# Start an instance of the class\n",
        "model=Model()\n"
      ],
      "metadata": {
        "id": "WnDT4t-kRF0E"
      },
      "execution_count": 127,
      "outputs": []
    },
    {
      "cell_type": "code",
      "source": [
        "#loading data\n",
        "\n",
        "url=\"https://gist.githubusercontent.com/curran/a08a1080b88344b0c8a7/raw/0e7a9b0a5d22642a06d3d5b9bcbad9890c8ee534/iris.csv\"\n",
        "data=pd.read_csv(url)\n",
        "data.head()"
      ],
      "metadata": {
        "colab": {
          "base_uri": "https://localhost:8080/",
          "height": 204
        },
        "id": "AfxA_Az2Sm5A",
        "outputId": "32053a76-7bde-4189-dd78-c7ac0ba439fb"
      },
      "execution_count": 128,
      "outputs": [
        {
          "output_type": "execute_result",
          "data": {
            "text/plain": [
              "   sepal_length  sepal_width  petal_length  petal_width species\n",
              "0           5.1          3.5           1.4          0.2  setosa\n",
              "1           4.9          3.0           1.4          0.2  setosa\n",
              "2           4.7          3.2           1.3          0.2  setosa\n",
              "3           4.6          3.1           1.5          0.2  setosa\n",
              "4           5.0          3.6           1.4          0.2  setosa"
            ],
            "text/html": [
              "\n",
              "  <div id=\"df-cf91412f-b0c4-4589-bb65-0f06386fc29c\" class=\"colab-df-container\">\n",
              "    <div>\n",
              "<style scoped>\n",
              "    .dataframe tbody tr th:only-of-type {\n",
              "        vertical-align: middle;\n",
              "    }\n",
              "\n",
              "    .dataframe tbody tr th {\n",
              "        vertical-align: top;\n",
              "    }\n",
              "\n",
              "    .dataframe thead th {\n",
              "        text-align: right;\n",
              "    }\n",
              "</style>\n",
              "<table border=\"1\" class=\"dataframe\">\n",
              "  <thead>\n",
              "    <tr style=\"text-align: right;\">\n",
              "      <th></th>\n",
              "      <th>sepal_length</th>\n",
              "      <th>sepal_width</th>\n",
              "      <th>petal_length</th>\n",
              "      <th>petal_width</th>\n",
              "      <th>species</th>\n",
              "    </tr>\n",
              "  </thead>\n",
              "  <tbody>\n",
              "    <tr>\n",
              "      <th>0</th>\n",
              "      <td>5.1</td>\n",
              "      <td>3.5</td>\n",
              "      <td>1.4</td>\n",
              "      <td>0.2</td>\n",
              "      <td>setosa</td>\n",
              "    </tr>\n",
              "    <tr>\n",
              "      <th>1</th>\n",
              "      <td>4.9</td>\n",
              "      <td>3.0</td>\n",
              "      <td>1.4</td>\n",
              "      <td>0.2</td>\n",
              "      <td>setosa</td>\n",
              "    </tr>\n",
              "    <tr>\n",
              "      <th>2</th>\n",
              "      <td>4.7</td>\n",
              "      <td>3.2</td>\n",
              "      <td>1.3</td>\n",
              "      <td>0.2</td>\n",
              "      <td>setosa</td>\n",
              "    </tr>\n",
              "    <tr>\n",
              "      <th>3</th>\n",
              "      <td>4.6</td>\n",
              "      <td>3.1</td>\n",
              "      <td>1.5</td>\n",
              "      <td>0.2</td>\n",
              "      <td>setosa</td>\n",
              "    </tr>\n",
              "    <tr>\n",
              "      <th>4</th>\n",
              "      <td>5.0</td>\n",
              "      <td>3.6</td>\n",
              "      <td>1.4</td>\n",
              "      <td>0.2</td>\n",
              "      <td>setosa</td>\n",
              "    </tr>\n",
              "  </tbody>\n",
              "</table>\n",
              "</div>\n",
              "    <div class=\"colab-df-buttons\">\n",
              "\n",
              "  <div class=\"colab-df-container\">\n",
              "    <button class=\"colab-df-convert\" onclick=\"convertToInteractive('df-cf91412f-b0c4-4589-bb65-0f06386fc29c')\"\n",
              "            title=\"Convert this dataframe to an interactive table.\"\n",
              "            style=\"display:none;\">\n",
              "\n",
              "  <svg xmlns=\"http://www.w3.org/2000/svg\" height=\"24px\" viewBox=\"0 -960 960 960\">\n",
              "    <path d=\"M120-120v-720h720v720H120Zm60-500h600v-160H180v160Zm220 220h160v-160H400v160Zm0 220h160v-160H400v160ZM180-400h160v-160H180v160Zm440 0h160v-160H620v160ZM180-180h160v-160H180v160Zm440 0h160v-160H620v160Z\"/>\n",
              "  </svg>\n",
              "    </button>\n",
              "\n",
              "  <style>\n",
              "    .colab-df-container {\n",
              "      display:flex;\n",
              "      gap: 12px;\n",
              "    }\n",
              "\n",
              "    .colab-df-convert {\n",
              "      background-color: #E8F0FE;\n",
              "      border: none;\n",
              "      border-radius: 50%;\n",
              "      cursor: pointer;\n",
              "      display: none;\n",
              "      fill: #1967D2;\n",
              "      height: 32px;\n",
              "      padding: 0 0 0 0;\n",
              "      width: 32px;\n",
              "    }\n",
              "\n",
              "    .colab-df-convert:hover {\n",
              "      background-color: #E2EBFA;\n",
              "      box-shadow: 0px 1px 2px rgba(60, 64, 67, 0.3), 0px 1px 3px 1px rgba(60, 64, 67, 0.15);\n",
              "      fill: #174EA6;\n",
              "    }\n",
              "\n",
              "    .colab-df-buttons div {\n",
              "      margin-bottom: 4px;\n",
              "    }\n",
              "\n",
              "    [theme=dark] .colab-df-convert {\n",
              "      background-color: #3B4455;\n",
              "      fill: #D2E3FC;\n",
              "    }\n",
              "\n",
              "    [theme=dark] .colab-df-convert:hover {\n",
              "      background-color: #434B5C;\n",
              "      box-shadow: 0px 1px 3px 1px rgba(0, 0, 0, 0.15);\n",
              "      filter: drop-shadow(0px 1px 2px rgba(0, 0, 0, 0.3));\n",
              "      fill: #FFFFFF;\n",
              "    }\n",
              "  </style>\n",
              "\n",
              "    <script>\n",
              "      const buttonEl =\n",
              "        document.querySelector('#df-cf91412f-b0c4-4589-bb65-0f06386fc29c button.colab-df-convert');\n",
              "      buttonEl.style.display =\n",
              "        google.colab.kernel.accessAllowed ? 'block' : 'none';\n",
              "\n",
              "      async function convertToInteractive(key) {\n",
              "        const element = document.querySelector('#df-cf91412f-b0c4-4589-bb65-0f06386fc29c');\n",
              "        const dataTable =\n",
              "          await google.colab.kernel.invokeFunction('convertToInteractive',\n",
              "                                                    [key], {});\n",
              "        if (!dataTable) return;\n",
              "\n",
              "        const docLinkHtml = 'Like what you see? Visit the ' +\n",
              "          '<a target=\"_blank\" href=https://colab.research.google.com/notebooks/data_table.ipynb>data table notebook</a>'\n",
              "          + ' to learn more about interactive tables.';\n",
              "        element.innerHTML = '';\n",
              "        dataTable['output_type'] = 'display_data';\n",
              "        await google.colab.output.renderOutput(dataTable, element);\n",
              "        const docLink = document.createElement('div');\n",
              "        docLink.innerHTML = docLinkHtml;\n",
              "        element.appendChild(docLink);\n",
              "      }\n",
              "    </script>\n",
              "  </div>\n",
              "\n",
              "\n",
              "<div id=\"df-53287294-9640-4f57-8295-bea4bbc098c9\">\n",
              "  <button class=\"colab-df-quickchart\" onclick=\"quickchart('df-53287294-9640-4f57-8295-bea4bbc098c9')\"\n",
              "            title=\"Suggest charts\"\n",
              "            style=\"display:none;\">\n",
              "\n",
              "<svg xmlns=\"http://www.w3.org/2000/svg\" height=\"24px\"viewBox=\"0 0 24 24\"\n",
              "     width=\"24px\">\n",
              "    <g>\n",
              "        <path d=\"M19 3H5c-1.1 0-2 .9-2 2v14c0 1.1.9 2 2 2h14c1.1 0 2-.9 2-2V5c0-1.1-.9-2-2-2zM9 17H7v-7h2v7zm4 0h-2V7h2v10zm4 0h-2v-4h2v4z\"/>\n",
              "    </g>\n",
              "</svg>\n",
              "  </button>\n",
              "\n",
              "<style>\n",
              "  .colab-df-quickchart {\n",
              "      --bg-color: #E8F0FE;\n",
              "      --fill-color: #1967D2;\n",
              "      --hover-bg-color: #E2EBFA;\n",
              "      --hover-fill-color: #174EA6;\n",
              "      --disabled-fill-color: #AAA;\n",
              "      --disabled-bg-color: #DDD;\n",
              "  }\n",
              "\n",
              "  [theme=dark] .colab-df-quickchart {\n",
              "      --bg-color: #3B4455;\n",
              "      --fill-color: #D2E3FC;\n",
              "      --hover-bg-color: #434B5C;\n",
              "      --hover-fill-color: #FFFFFF;\n",
              "      --disabled-bg-color: #3B4455;\n",
              "      --disabled-fill-color: #666;\n",
              "  }\n",
              "\n",
              "  .colab-df-quickchart {\n",
              "    background-color: var(--bg-color);\n",
              "    border: none;\n",
              "    border-radius: 50%;\n",
              "    cursor: pointer;\n",
              "    display: none;\n",
              "    fill: var(--fill-color);\n",
              "    height: 32px;\n",
              "    padding: 0;\n",
              "    width: 32px;\n",
              "  }\n",
              "\n",
              "  .colab-df-quickchart:hover {\n",
              "    background-color: var(--hover-bg-color);\n",
              "    box-shadow: 0 1px 2px rgba(60, 64, 67, 0.3), 0 1px 3px 1px rgba(60, 64, 67, 0.15);\n",
              "    fill: var(--button-hover-fill-color);\n",
              "  }\n",
              "\n",
              "  .colab-df-quickchart-complete:disabled,\n",
              "  .colab-df-quickchart-complete:disabled:hover {\n",
              "    background-color: var(--disabled-bg-color);\n",
              "    fill: var(--disabled-fill-color);\n",
              "    box-shadow: none;\n",
              "  }\n",
              "\n",
              "  .colab-df-spinner {\n",
              "    border: 2px solid var(--fill-color);\n",
              "    border-color: transparent;\n",
              "    border-bottom-color: var(--fill-color);\n",
              "    animation:\n",
              "      spin 1s steps(1) infinite;\n",
              "  }\n",
              "\n",
              "  @keyframes spin {\n",
              "    0% {\n",
              "      border-color: transparent;\n",
              "      border-bottom-color: var(--fill-color);\n",
              "      border-left-color: var(--fill-color);\n",
              "    }\n",
              "    20% {\n",
              "      border-color: transparent;\n",
              "      border-left-color: var(--fill-color);\n",
              "      border-top-color: var(--fill-color);\n",
              "    }\n",
              "    30% {\n",
              "      border-color: transparent;\n",
              "      border-left-color: var(--fill-color);\n",
              "      border-top-color: var(--fill-color);\n",
              "      border-right-color: var(--fill-color);\n",
              "    }\n",
              "    40% {\n",
              "      border-color: transparent;\n",
              "      border-right-color: var(--fill-color);\n",
              "      border-top-color: var(--fill-color);\n",
              "    }\n",
              "    60% {\n",
              "      border-color: transparent;\n",
              "      border-right-color: var(--fill-color);\n",
              "    }\n",
              "    80% {\n",
              "      border-color: transparent;\n",
              "      border-right-color: var(--fill-color);\n",
              "      border-bottom-color: var(--fill-color);\n",
              "    }\n",
              "    90% {\n",
              "      border-color: transparent;\n",
              "      border-bottom-color: var(--fill-color);\n",
              "    }\n",
              "  }\n",
              "</style>\n",
              "\n",
              "  <script>\n",
              "    async function quickchart(key) {\n",
              "      const quickchartButtonEl =\n",
              "        document.querySelector('#' + key + ' button');\n",
              "      quickchartButtonEl.disabled = true;  // To prevent multiple clicks.\n",
              "      quickchartButtonEl.classList.add('colab-df-spinner');\n",
              "      try {\n",
              "        const charts = await google.colab.kernel.invokeFunction(\n",
              "            'suggestCharts', [key], {});\n",
              "      } catch (error) {\n",
              "        console.error('Error during call to suggestCharts:', error);\n",
              "      }\n",
              "      quickchartButtonEl.classList.remove('colab-df-spinner');\n",
              "      quickchartButtonEl.classList.add('colab-df-quickchart-complete');\n",
              "    }\n",
              "    (() => {\n",
              "      let quickchartButtonEl =\n",
              "        document.querySelector('#df-53287294-9640-4f57-8295-bea4bbc098c9 button');\n",
              "      quickchartButtonEl.style.display =\n",
              "        google.colab.kernel.accessAllowed ? 'block' : 'none';\n",
              "    })();\n",
              "  </script>\n",
              "</div>\n",
              "    </div>\n",
              "  </div>\n"
            ],
            "application/vnd.google.colaboratory.intrinsic+json": {
              "type": "dataframe",
              "variable_name": "data",
              "summary": "{\n  \"name\": \"data\",\n  \"rows\": 150,\n  \"fields\": [\n    {\n      \"column\": \"sepal_length\",\n      \"properties\": {\n        \"dtype\": \"number\",\n        \"std\": 0.828066127977863,\n        \"min\": 4.3,\n        \"max\": 7.9,\n        \"num_unique_values\": 35,\n        \"samples\": [\n          6.2,\n          4.5,\n          5.6\n        ],\n        \"semantic_type\": \"\",\n        \"description\": \"\"\n      }\n    },\n    {\n      \"column\": \"sepal_width\",\n      \"properties\": {\n        \"dtype\": \"number\",\n        \"std\": 0.4335943113621737,\n        \"min\": 2.0,\n        \"max\": 4.4,\n        \"num_unique_values\": 23,\n        \"samples\": [\n          2.3,\n          4.0,\n          3.5\n        ],\n        \"semantic_type\": \"\",\n        \"description\": \"\"\n      }\n    },\n    {\n      \"column\": \"petal_length\",\n      \"properties\": {\n        \"dtype\": \"number\",\n        \"std\": 1.7644204199522626,\n        \"min\": 1.0,\n        \"max\": 6.9,\n        \"num_unique_values\": 43,\n        \"samples\": [\n          6.7,\n          3.8,\n          3.7\n        ],\n        \"semantic_type\": \"\",\n        \"description\": \"\"\n      }\n    },\n    {\n      \"column\": \"petal_width\",\n      \"properties\": {\n        \"dtype\": \"number\",\n        \"std\": 0.7631607417008411,\n        \"min\": 0.1,\n        \"max\": 2.5,\n        \"num_unique_values\": 22,\n        \"samples\": [\n          0.2,\n          1.2,\n          1.3\n        ],\n        \"semantic_type\": \"\",\n        \"description\": \"\"\n      }\n    },\n    {\n      \"column\": \"species\",\n      \"properties\": {\n        \"dtype\": \"category\",\n        \"num_unique_values\": 3,\n        \"samples\": [\n          \"setosa\",\n          \"versicolor\",\n          \"virginica\"\n        ],\n        \"semantic_type\": \"\",\n        \"description\": \"\"\n      }\n    }\n  ]\n}"
            }
          },
          "metadata": {},
          "execution_count": 128
        }
      ]
    },
    {
      "cell_type": "code",
      "source": [
        "# Setting the last column name string as numbers\n",
        "data['species']=data['species'].replace('setosa',0.0)\n",
        "data['species']=data['species'].replace('versicolor',1.0)\n",
        "data['species']=data['species'].replace('virginica',2.0)"
      ],
      "metadata": {
        "id": "sEFa5gqgTF8q"
      },
      "execution_count": 129,
      "outputs": []
    },
    {
      "cell_type": "code",
      "source": [
        "# Training, testing and splitting\n",
        "X=data.drop('species',axis=1)\n",
        "X=X.values\n",
        "y=data['species']\n",
        "y=y.values"
      ],
      "metadata": {
        "id": "4ltBmpgBT8Mm"
      },
      "execution_count": 130,
      "outputs": []
    },
    {
      "cell_type": "code",
      "source": [
        "from sklearn.model_selection import train_test_split"
      ],
      "metadata": {
        "id": "EICgkWUMUmn6"
      },
      "execution_count": 131,
      "outputs": []
    },
    {
      "cell_type": "code",
      "source": [
        "# Splitting the data into testing and training sets\n",
        "\n",
        "X_train,X_test,y_train,y_test= train_test_split(X,y,test_size=0.2,random_state=41)\n",
        "\n"
      ],
      "metadata": {
        "id": "DpnMdmHcU0M0"
      },
      "execution_count": 132,
      "outputs": []
    },
    {
      "cell_type": "code",
      "source": [
        "# Saving in float tensors\n",
        "X_train=torch.FloatTensor(X_train)\n",
        "X_test=torch.FloatTensor(X_test)\n",
        "y_train=torch.LongTensor(y_train)    #LongTensor cause the labels are saved as float and we want them a integers\n",
        "y_test=torch.LongTensor(y_test)"
      ],
      "metadata": {
        "id": "veA1EEiSVYlV"
      },
      "execution_count": 142,
      "outputs": []
    },
    {
      "cell_type": "code",
      "source": [
        "X_train.shape,X_test.shape"
      ],
      "metadata": {
        "colab": {
          "base_uri": "https://localhost:8080/"
        },
        "id": "n1n43MxpV1aB",
        "outputId": "9c631391-3a6b-4eb4-c259-9fd8e4bb1d0f"
      },
      "execution_count": 134,
      "outputs": [
        {
          "output_type": "execute_result",
          "data": {
            "text/plain": [
              "(torch.Size([120, 4]), torch.Size([30, 4]))"
            ]
          },
          "metadata": {},
          "execution_count": 134
        }
      ]
    },
    {
      "cell_type": "code",
      "source": [
        "# Error criterion (how far the predictions are from the actual data)\n",
        "crit=nn.CrossEntropyLoss()\n",
        "#optimizer\n",
        "optimizer=torch.optim.Adam(model.parameters(),lr=0.01)   #lr (learning rate)"
      ],
      "metadata": {
        "id": "fL635AC0Xean"
      },
      "execution_count": 135,
      "outputs": []
    },
    {
      "cell_type": "code",
      "source": [
        "# Start training\n",
        "## chose an epoch (one epoch = one run through all hidden layers(hls))\n",
        "epch=200\n",
        "losses=[]\n",
        "for i in range(epch):\n",
        "  #pushing the training data through the nural network\n",
        "  y_pred=model.fwd(X_train)\n",
        "  #measuring the loss\n",
        "  loss=crit(y_pred,y_train)\n",
        "  losses.append(loss.detach().numpy())\n",
        "\n",
        "  if i%10 ==0:            #print the loss for every 10th epoch\n",
        "    print(f\"Epoch: {i} and loss: {loss}\")\n",
        "\n",
        "  #Back propagation: take the error--->feed it back to the network to make it fix the weights so the learning is better\n",
        "  optimizer.zero_grad()\n",
        "  loss.backward()\n",
        "  optimizer.step()\n"
      ],
      "metadata": {
        "colab": {
          "base_uri": "https://localhost:8080/"
        },
        "id": "WhN4_3vwYb27",
        "outputId": "7141b389-939c-4652-87c6-70ce8647968b"
      },
      "execution_count": 136,
      "outputs": [
        {
          "output_type": "stream",
          "name": "stdout",
          "text": [
            "Epoch: 0 and loss: 1.3038057088851929\n",
            "Epoch: 10 and loss: 0.704721987247467\n",
            "Epoch: 20 and loss: 0.4283543527126312\n",
            "Epoch: 30 and loss: 0.2533787190914154\n",
            "Epoch: 40 and loss: 0.14658811688423157\n",
            "Epoch: 50 and loss: 0.0905458927154541\n",
            "Epoch: 60 and loss: 0.06374860554933548\n",
            "Epoch: 70 and loss: 0.05018516257405281\n",
            "Epoch: 80 and loss: 0.042408231645822525\n",
            "Epoch: 90 and loss: 0.03737090900540352\n",
            "Epoch: 100 and loss: 0.033795204013586044\n",
            "Epoch: 110 and loss: 0.031068680807948112\n",
            "Epoch: 120 and loss: 0.028887640684843063\n",
            "Epoch: 130 and loss: 0.02708158642053604\n",
            "Epoch: 140 and loss: 0.025548595935106277\n",
            "Epoch: 150 and loss: 0.024220168590545654\n",
            "Epoch: 160 and loss: 0.023050794377923012\n",
            "Epoch: 170 and loss: 0.022007236257195473\n",
            "Epoch: 180 and loss: 0.02106531150639057\n",
            "Epoch: 190 and loss: 0.020206430926918983\n"
          ]
        }
      ]
    },
    {
      "cell_type": "code",
      "source": [
        "plt.plot(np.arange(epch),losses)\n",
        "plt.xlabel(\"Epochs\")\n",
        "plt.ylabel(\"Loss\")"
      ],
      "metadata": {
        "colab": {
          "base_uri": "https://localhost:8080/",
          "height": 466
        },
        "id": "F5ZJHruNbZCH",
        "outputId": "0025d6c7-8412-43a1-c1bf-2c66830ebf63"
      },
      "execution_count": 138,
      "outputs": [
        {
          "output_type": "execute_result",
          "data": {
            "text/plain": [
              "Text(0, 0.5, 'Loss')"
            ]
          },
          "metadata": {},
          "execution_count": 138
        },
        {
          "output_type": "display_data",
          "data": {
            "text/plain": [
              "<Figure size 640x480 with 1 Axes>"
            ],
            "image/png": "[encoded data removed]"
          },
          "metadata": {}
        }
      ]
    },
    {
      "cell_type": "code",
      "source": [
        "# using the test set for tesing the neural network\n",
        "\n",
        "with torch.no_grad():  # turning off back propagation\n",
        "  y_eval=model.fwd(X_test) #predictions\n",
        "  loss=crit(y_eval,y_test)"
      ],
      "metadata": {
        "id": "RH-wNbMccMn1"
      },
      "execution_count": 143,
      "outputs": []
    },
    {
      "cell_type": "code",
      "source": [
        "loss"
      ],
      "metadata": {
        "colab": {
          "base_uri": "https://localhost:8080/"
        },
        "id": "qMqKoaItdO5W",
        "outputId": "3a085235-0928-4bfa-fe1a-b2616fa024d5"
      },
      "execution_count": 144,
      "outputs": [
        {
          "output_type": "execute_result",
          "data": {
            "text/plain": [
              "tensor(0.1686)"
            ]
          },
          "metadata": {},
          "execution_count": 144
        }
      ]
    },
    {
      "cell_type": "code",
      "source": [
        "correct=0\n",
        "with torch.no_grad():\n",
        "  for i,data in enumerate(X_test):\n",
        "    y_val=model.fwd(data)\n",
        "\n",
        "    print(f\"{i+1}.) {str(y_val)} \\t {y_test[i]} \\t {y_val.argmax().item()==y_test[i]} \")\n",
        "\n",
        "    if y_val.argmax().item()==y_test[i]:\n",
        "      correct +=1\n",
        "print(f\"We got {correct} correct!\")"
      ],
      "metadata": {
        "colab": {
          "base_uri": "https://localhost:8080/"
        },
        "id": "3KDW-g_IdZrs",
        "outputId": "4e7939f1-a99e-4b87-a7e6-b928dffa2442"
      },
      "execution_count": 148,
      "outputs": [
        {
          "output_type": "stream",
          "name": "stdout",
          "text": [
            "1.) tensor([-6.7063,  0.7879,  5.5015]) \t 2 \t True \n",
            "2.) tensor([-9.6512, -2.6464, 10.3957]) \t 2 \t True \n",
            "3.) tensor([-10.0235,  -1.7236,  10.0053]) \t 2 \t True \n",
            "4.) tensor([-3.0646,  6.7743, -1.3444]) \t 1 \t True \n",
            "5.) tensor([-8.3919, -0.3106,  7.7698]) \t 2 \t True \n",
            "6.) tensor([-0.9279,  6.9600, -3.2589]) \t 1 \t True \n",
            "7.) tensor([-6.1617,  2.1031,  4.2707]) \t 2 \t True \n",
            "8.) tensor([-2.9091,  7.1195, -1.5767]) \t 1 \t True \n",
            "9.) tensor([-7.2741,  0.9655,  6.0158]) \t 2 \t True \n",
            "10.) tensor([-10.3856,  -2.9565,  11.2545]) \t 2 \t True \n",
            "11.) tensor([-5.8892,  2.5929,  3.8108]) \t 2 \t True \n",
            "12.) tensor([ 13.7716,   6.2736, -15.9754]) \t 0 \t True \n",
            "13.) tensor([ 12.4934,   5.7002, -14.5113]) \t 0 \t True \n",
            "14.) tensor([ 0.5506,  5.9790, -4.0034]) \t 1 \t True \n",
            "15.) tensor([ 11.7782,   6.1596, -14.1355]) \t 0 \t True \n",
            "16.) tensor([-5.4819,  3.4289,  2.8273]) \t 2 \t False \n",
            "17.) tensor([ 12.5512,   5.9214, -14.6756]) \t 0 \t True \n",
            "18.) tensor([-6.5494,  1.4631,  5.0443]) \t 1 \t False \n",
            "19.) tensor([ 13.1130,   6.0434, -15.2399]) \t 0 \t True \n",
            "20.) tensor([ 10.7874,   5.2781, -12.7018]) \t 0 \t True \n",
            "21.) tensor([-0.1116,  6.3688, -3.6761]) \t 1 \t True \n",
            "22.) tensor([-9.4637, -1.6141,  9.5793]) \t 2 \t True \n",
            "23.) tensor([ 11.9952,   6.2068, -14.3483]) \t 0 \t True \n",
            "24.) tensor([ 13.2273,   5.9908, -15.3403]) \t 0 \t True \n",
            "25.) tensor([ 0.1554,  6.7028, -4.0233]) \t 1 \t True \n",
            "26.) tensor([-0.9901,  6.5223, -3.0533]) \t 1 \t True \n",
            "27.) tensor([-3.4003,  6.6824, -0.9540]) \t 1 \t True \n",
            "28.) tensor([-0.6680,  6.8214, -3.4280]) \t 1 \t True \n",
            "29.) tensor([ 13.5998,   6.1879, -15.7758]) \t 0 \t True \n",
            "30.) tensor([-3.6349,  5.9023, -0.3208]) \t 1 \t True \n",
            "We got 28 correct!\n"
          ]
        }
      ]
    }
  ]
}