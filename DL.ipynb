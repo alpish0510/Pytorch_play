{
  "nbformat": 4,
  "nbformat_minor": 0,
  "metadata": {
    "colab": {
      "provenance": [],
      "authorship_tag": "ABX9TyMOe73gF/nk1PGIDwmDnupI",
      "include_colab_link": true
    },
    "kernelspec": {
      "name": "python3",
      "display_name": "Python 3"
    },
    "language_info": {
      "name": "python"
    }
  },
  "cells": [
    {
      "cell_type": "markdown",
      "metadata": {
        "id": "view-in-github",
        "colab_type": "text"
      },
      "source": [
        "<a href=\"https://colab.research.google.com/github/alpish0510/Pytorch_play/blob/main/DL.ipynb\" target=\"_parent\"><img src=\"https://colab.research.google.com/assets/colab-badge.svg\" alt=\"Open In Colab\"/></a>"
      ]
    },
    {
      "cell_type": "code",
      "execution_count": 1,
      "metadata": {
        "id": "2drnHwtNVXuL"
      },
      "outputs": [],
      "source": [
        "import torch\n",
        "import numpy as np\n"
      ]
    },
    {
      "cell_type": "markdown",
      "source": [
        "## Tensors"
      ],
      "metadata": {
        "id": "47Vf7WcbbX9M"
      }
    },
    {
      "cell_type": "code",
      "source": [
        "tens_2d=torch.zeros(2,2) # a 2d tensor (2x2 matrix)\n",
        "tens_3d=torch.zeros(3,3,3) # a 3d tensor\n",
        "tens_2d,tens_3d"
      ],
      "metadata": {
        "colab": {
          "base_uri": "https://localhost:8080/"
        },
        "id": "2NADRMp_Z9ux",
        "outputId": "0efa61a2-c758-446c-c2cd-4896184526e1"
      },
      "execution_count": 2,
      "outputs": [
        {
          "output_type": "execute_result",
          "data": {
            "text/plain": [
              "(tensor([[0., 0.],\n",
              "         [0., 0.]]),\n",
              " tensor([[[0., 0., 0.],\n",
              "          [0., 0., 0.],\n",
              "          [0., 0., 0.]],\n",
              " \n",
              "         [[0., 0., 0.],\n",
              "          [0., 0., 0.],\n",
              "          [0., 0., 0.]],\n",
              " \n",
              "         [[0., 0., 0.],\n",
              "          [0., 0., 0.],\n",
              "          [0., 0., 0.]]]))"
            ]
          },
          "metadata": {},
          "execution_count": 2
        }
      ]
    },
    {
      "cell_type": "code",
      "source": [
        "## Converting a numpy array to a tensor\n",
        "arr=np.random.rand(3,3)\n",
        "arr50=np.random.rand(1,50)\n",
        "print(arr)\n",
        "\n",
        "tens_from_arr=torch.tensor(arr)\n",
        "tens50rand=torch.tensor(arr50)\n",
        "#tens_from_arr=torch.Tensor(arr)  # Using this, the tensor is float32 dtype\n",
        "print(tens_from_arr)"
      ],
      "metadata": {
        "colab": {
          "base_uri": "https://localhost:8080/"
        },
        "id": "cT3D2aFbm7x6",
        "outputId": "14013149-de63-493d-908d-2dcc83619877"
      },
      "execution_count": 3,
      "outputs": [
        {
          "output_type": "stream",
          "name": "stdout",
          "text": [
            "[[0.05243103 0.33173429 0.45318033]\n",
            " [0.17443193 0.86722579 0.30062869]\n",
            " [0.40012785 0.28123944 0.87007893]]\n",
            "tensor([[0.0524, 0.3317, 0.4532],\n",
            "        [0.1744, 0.8672, 0.3006],\n",
            "        [0.4001, 0.2812, 0.8701]], dtype=torch.float64)\n"
          ]
        }
      ]
    },
    {
      "cell_type": "code",
      "source": [
        "tens_from_arr.dtype"
      ],
      "metadata": {
        "colab": {
          "base_uri": "https://localhost:8080/"
        },
        "id": "CVXLyPZcni_Q",
        "outputId": "e6ac4377-de44-44ee-d19d-759a410e8357"
      },
      "execution_count": 4,
      "outputs": [
        {
          "output_type": "execute_result",
          "data": {
            "text/plain": [
              "torch.float64"
            ]
          },
          "metadata": {},
          "execution_count": 4
        }
      ]
    },
    {
      "cell_type": "markdown",
      "source": [
        "### Tensor Operations"
      ],
      "metadata": {
        "id": "u9ks3EHgp-bl"
      }
    },
    {
      "cell_type": "code",
      "source": [
        "# make a tensor\n",
        "tens=torch.arange(50)\n",
        "\n",
        "tens\n"
      ],
      "metadata": {
        "colab": {
          "base_uri": "https://localhost:8080/"
        },
        "id": "-sjiI98yocnw",
        "outputId": "150a9b90-d2a8-4369-b925-07edb0e26b1f"
      },
      "execution_count": 5,
      "outputs": [
        {
          "output_type": "execute_result",
          "data": {
            "text/plain": [
              "tensor([ 0,  1,  2,  3,  4,  5,  6,  7,  8,  9, 10, 11, 12, 13, 14, 15, 16, 17,\n",
              "        18, 19, 20, 21, 22, 23, 24, 25, 26, 27, 28, 29, 30, 31, 32, 33, 34, 35,\n",
              "        36, 37, 38, 39, 40, 41, 42, 43, 44, 45, 46, 47, 48, 49])"
            ]
          },
          "metadata": {},
          "execution_count": 5
        }
      ]
    },
    {
      "cell_type": "code",
      "source": [
        "# reshaping\n",
        "tens.reshape(5,10) # if one knows the shape of the tensor"
      ],
      "metadata": {
        "colab": {
          "base_uri": "https://localhost:8080/"
        },
        "id": "Gy6FWrbTo3mj",
        "outputId": "ceac555f-878f-4d36-c135-cf33cbe75567"
      },
      "execution_count": 6,
      "outputs": [
        {
          "output_type": "execute_result",
          "data": {
            "text/plain": [
              "tensor([[ 0,  1,  2,  3,  4,  5,  6,  7,  8,  9],\n",
              "        [10, 11, 12, 13, 14, 15, 16, 17, 18, 19],\n",
              "        [20, 21, 22, 23, 24, 25, 26, 27, 28, 29],\n",
              "        [30, 31, 32, 33, 34, 35, 36, 37, 38, 39],\n",
              "        [40, 41, 42, 43, 44, 45, 46, 47, 48, 49]])"
            ]
          },
          "metadata": {},
          "execution_count": 6
        }
      ]
    },
    {
      "cell_type": "code",
      "source": [
        "tens.reshape(2,-1),tens.reshape(-1,5) # if one doesn't know the exact shape, use -1."
      ],
      "metadata": {
        "colab": {
          "base_uri": "https://localhost:8080/"
        },
        "id": "t0SJYhPnpRKM",
        "outputId": "cd9b8cdd-f6c2-479f-cfde-91fcb9606fb1"
      },
      "execution_count": 7,
      "outputs": [
        {
          "output_type": "execute_result",
          "data": {
            "text/plain": [
              "(tensor([[ 0,  1,  2,  3,  4,  5,  6,  7,  8,  9, 10, 11, 12, 13, 14, 15, 16, 17,\n",
              "          18, 19, 20, 21, 22, 23, 24],\n",
              "         [25, 26, 27, 28, 29, 30, 31, 32, 33, 34, 35, 36, 37, 38, 39, 40, 41, 42,\n",
              "          43, 44, 45, 46, 47, 48, 49]]),\n",
              " tensor([[ 0,  1,  2,  3,  4],\n",
              "         [ 5,  6,  7,  8,  9],\n",
              "         [10, 11, 12, 13, 14],\n",
              "         [15, 16, 17, 18, 19],\n",
              "         [20, 21, 22, 23, 24],\n",
              "         [25, 26, 27, 28, 29],\n",
              "         [30, 31, 32, 33, 34],\n",
              "         [35, 36, 37, 38, 39],\n",
              "         [40, 41, 42, 43, 44],\n",
              "         [45, 46, 47, 48, 49]]))"
            ]
          },
          "metadata": {},
          "execution_count": 7
        }
      ]
    },
    {
      "cell_type": "code",
      "source": [
        "## using view\n",
        "tens.view(2,25)"
      ],
      "metadata": {
        "colab": {
          "base_uri": "https://localhost:8080/"
        },
        "id": "EO_FVX6KqEp7",
        "outputId": "51d0a409-de0e-4abd-f0f9-3154215215ac"
      },
      "execution_count": 8,
      "outputs": [
        {
          "output_type": "execute_result",
          "data": {
            "text/plain": [
              "tensor([[ 0,  1,  2,  3,  4,  5,  6,  7,  8,  9, 10, 11, 12, 13, 14, 15, 16, 17,\n",
              "         18, 19, 20, 21, 22, 23, 24],\n",
              "        [25, 26, 27, 28, 29, 30, 31, 32, 33, 34, 35, 36, 37, 38, 39, 40, 41, 42,\n",
              "         43, 44, 45, 46, 47, 48, 49]])"
            ]
          },
          "metadata": {},
          "execution_count": 8
        }
      ]
    },
    {
      "cell_type": "code",
      "source": [
        "## example slicing\n",
        "print(tens.view(2,25)[:,1])\n",
        "\n",
        "print(tens.reshape(-1,5)[:,2]) ## gives the numbers as a 1D tensor\n",
        "print(tens.reshape(-1,5)[:,2:]) ## keeps the shape of the tensor conserved\n"
      ],
      "metadata": {
        "colab": {
          "base_uri": "https://localhost:8080/"
        },
        "id": "pH5_KqSUqu7G",
        "outputId": "77854b14-2457-48f7-a172-7c63e406024b"
      },
      "execution_count": 9,
      "outputs": [
        {
          "output_type": "stream",
          "name": "stdout",
          "text": [
            "tensor([ 1, 26])\n",
            "tensor([ 2,  7, 12, 17, 22, 27, 32, 37, 42, 47])\n",
            "tensor([[ 2,  3,  4],\n",
            "        [ 7,  8,  9],\n",
            "        [12, 13, 14],\n",
            "        [17, 18, 19],\n",
            "        [22, 23, 24],\n",
            "        [27, 28, 29],\n",
            "        [32, 33, 34],\n",
            "        [37, 38, 39],\n",
            "        [42, 43, 44],\n",
            "        [47, 48, 49]])\n"
          ]
        }
      ]
    },
    {
      "cell_type": "code",
      "source": [
        "## Math operations\n",
        "print(tens+tens)\n",
        "print(torch.add(tens,tens))\n",
        "print(torch.sub(tens,tens))\n",
        "print(torch.mul(tens,tens50rand))\n",
        "print(torch.div(tens,tens50rand))\n",
        "print(torch.remainder(tens,tens50rand))"
      ],
      "metadata": {
        "colab": {
          "base_uri": "https://localhost:8080/"
        },
        "id": "9nkWgebNrL35",
        "outputId": "759bb5ba-0b39-44ea-90bc-b33b80658ab0"
      },
      "execution_count": 10,
      "outputs": [
        {
          "output_type": "stream",
          "name": "stdout",
          "text": [
            "tensor([ 0,  2,  4,  6,  8, 10, 12, 14, 16, 18, 20, 22, 24, 26, 28, 30, 32, 34,\n",
            "        36, 38, 40, 42, 44, 46, 48, 50, 52, 54, 56, 58, 60, 62, 64, 66, 68, 70,\n",
            "        72, 74, 76, 78, 80, 82, 84, 86, 88, 90, 92, 94, 96, 98])\n",
            "tensor([ 0,  2,  4,  6,  8, 10, 12, 14, 16, 18, 20, 22, 24, 26, 28, 30, 32, 34,\n",
            "        36, 38, 40, 42, 44, 46, 48, 50, 52, 54, 56, 58, 60, 62, 64, 66, 68, 70,\n",
            "        72, 74, 76, 78, 80, 82, 84, 86, 88, 90, 92, 94, 96, 98])\n",
            "tensor([0, 0, 0, 0, 0, 0, 0, 0, 0, 0, 0, 0, 0, 0, 0, 0, 0, 0, 0, 0, 0, 0, 0, 0,\n",
            "        0, 0, 0, 0, 0, 0, 0, 0, 0, 0, 0, 0, 0, 0, 0, 0, 0, 0, 0, 0, 0, 0, 0, 0,\n",
            "        0, 0])\n",
            "tensor([[ 0.0000,  0.4956,  0.9215,  0.4125,  3.7293,  3.9520,  0.1938,  3.5050,\n",
            "          1.1371,  5.5298,  7.7093,  1.7717,  9.1891,  0.6347,  9.9128,  0.6864,\n",
            "          8.8948,  1.4150,  6.5957,  0.5897,  8.2092, 18.6579, 16.4550,  3.4285,\n",
            "          5.2156, 24.6488, 22.3092,  1.1863, 25.0266,  9.0867, 14.9363, 15.7356,\n",
            "         17.9701, 26.1616, 31.5604, 21.7664, 11.6108, 12.5324,  4.6052, 23.1052,\n",
            "         15.8530, 28.2691, 31.1999, 17.6009, 39.1715, 20.2510, 14.4629, 40.9931,\n",
            "         41.5741,  5.8556]], dtype=torch.float64)\n",
            "tensor([[  0.0000,   2.0177,   4.3407,  21.8180,   4.2904,   6.3259, 185.7914,\n",
            "          13.9799,  56.2819,  14.6479,  12.9714,  68.2968,  15.6708, 266.2472,\n",
            "          19.7724, 327.7958,  28.7809, 204.2389,  49.1228, 612.2230,  48.7256,\n",
            "          23.6361,  29.4135, 154.2953, 110.4375,  25.3562,  30.3014, 614.4946,\n",
            "          31.3267,  92.5526,  60.2558,  61.0717,  56.9837,  41.6259,  36.6282,\n",
            "          56.2795, 111.6202, 109.2366, 313.5607,  65.8293, 100.9270,  59.4643,\n",
            "          56.5386, 105.0512,  49.4236,  99.9951, 146.3059,  53.8871,  55.4191,\n",
            "         410.0377]], dtype=torch.float64)\n",
            "tensor([[0.0000, 0.0088, 0.1570, 0.1125, 0.2707, 0.2576, 0.0256, 0.4906, 0.0401,\n",
            "         0.3981, 0.7488, 0.0478, 0.5137, 0.0121, 0.5469, 0.0364, 0.4341, 0.0199,\n",
            "         0.0450, 0.0069, 0.2978, 0.5652, 0.3093, 0.0440, 0.0951, 0.3512, 0.2586,\n",
            "         0.0217, 0.2920, 0.1731, 0.1273, 0.0364, 0.5524, 0.4962, 0.5831, 0.1738,\n",
            "         0.2000, 0.0801, 0.0679, 0.4913, 0.3674, 0.3201, 0.4001, 0.0210, 0.3772,\n",
            "         0.4478, 0.0962, 0.7737, 0.3630, 0.0045]], dtype=torch.float64)\n"
          ]
        }
      ]
    },
    {
      "cell_type": "code",
      "source": [
        "## Some more operations\n",
        "\n",
        "print(torch.pow(tens,tens50rand))"
      ],
      "metadata": {
        "colab": {
          "base_uri": "https://localhost:8080/"
        },
        "id": "r7btl4JOMQBh",
        "outputId": "89dce502-d20a-45d7-de0c-32a5313db254"
      },
      "execution_count": 11,
      "outputs": [
        {
          "output_type": "stream",
          "name": "stdout",
          "text": [
            "tensor([[ 0.0000,  1.0000,  1.3763,  1.1631,  3.6418,  3.5683,  1.0596,  2.6495,\n",
            "          1.3439,  3.8575,  5.9011,  1.4714,  6.7049,  1.1334,  6.4792,  1.1319,\n",
            "          4.6709,  1.2660,  2.8838,  1.0957,  3.4200, 14.9538, 10.0942,  1.5958,\n",
            "          1.9950, 23.8948, 16.3724,  1.1558, 19.6552,  2.8722,  5.4378,  5.7150,\n",
            "          7.0023, 15.9898, 26.3991,  9.1254,  3.1764,  3.3976,  1.5540,  8.7622,\n",
            "          4.3146, 12.9419, 16.0635,  4.6625, 29.0472,  5.5460,  3.3326, 28.7338,\n",
            "         28.5871,  1.5921]], dtype=torch.float64)\n"
          ]
        }
      ]
    },
    {
      "cell_type": "markdown",
      "source": [
        "## Basic Neural Networks"
      ],
      "metadata": {
        "id": "XkocWMx8NOrk"
      }
    },
    {
      "cell_type": "code",
      "source": [
        "import torch.nn as nn\n",
        "import torch.nn.functional as F\n",
        "import matplotlib.pyplot as plt\n",
        "import pandas as pd\n",
        "%matplotlib inline\n"
      ],
      "metadata": {
        "id": "_YYuceeRNN3Q"
      },
      "execution_count": 12,
      "outputs": []
    },
    {
      "cell_type": "code",
      "source": [
        "class Model(nn.Module):\n",
        "  #input layer (4 features of flower)\n",
        "  #HL1(n neurons)-->HL2(n nurons)-->Output (one of three types of flowers)\n",
        "\n",
        "  def __init__(self,input_features=4,hl1=10,hl2=10, out_features=3):\n",
        "    super().__init__()\n",
        "    self.fc1=nn.Linear(input_features,hl1)\n",
        "    self.fc2=nn.Linear(hl1,hl2)\n",
        "    self.out=nn.Linear(hl2,out_features)\n",
        "\n",
        "  def forward(self, x):\n",
        "    x=F.relu(self.fc1(x))\n",
        "    x=F.relu(self.fc2(x))\n",
        "    x=self.out(x)\n",
        "\n",
        "    return x"
      ],
      "metadata": {
        "id": "paqT-k1pO0S8"
      },
      "execution_count": 13,
      "outputs": []
    },
    {
      "cell_type": "code",
      "source": [
        "# Picking a random seed\n",
        "torch.manual_seed(99)\n",
        "\n",
        "# Start an instance of the class\n",
        "model=Model()\n"
      ],
      "metadata": {
        "id": "WnDT4t-kRF0E"
      },
      "execution_count": 14,
      "outputs": []
    },
    {
      "cell_type": "code",
      "source": [
        "#loading data\n",
        "\n",
        "url=\"https://gist.githubusercontent.com/curran/a08a1080b88344b0c8a7/raw/0e7a9b0a5d22642a06d3d5b9bcbad9890c8ee534/iris.csv\"\n",
        "data=pd.read_csv(url)\n",
        "data.head()"
      ],
      "metadata": {
        "colab": {
          "base_uri": "https://localhost:8080/",
          "height": 204
        },
        "id": "AfxA_Az2Sm5A",
        "outputId": "48de072c-e037-41a6-ea91-c629fbe90262"
      },
      "execution_count": 15,
      "outputs": [
        {
          "output_type": "execute_result",
          "data": {
            "text/plain": [
              "   sepal_length  sepal_width  petal_length  petal_width species\n",
              "0           5.1          3.5           1.4          0.2  setosa\n",
              "1           4.9          3.0           1.4          0.2  setosa\n",
              "2           4.7          3.2           1.3          0.2  setosa\n",
              "3           4.6          3.1           1.5          0.2  setosa\n",
              "4           5.0          3.6           1.4          0.2  setosa"
            ],
            "text/html": [
              "\n",
              "  <div id=\"df-286e8087-b0ab-49dd-9b3e-24f9225dd2ca\" class=\"colab-df-container\">\n",
              "    <div>\n",
              "<style scoped>\n",
              "    .dataframe tbody tr th:only-of-type {\n",
              "        vertical-align: middle;\n",
              "    }\n",
              "\n",
              "    .dataframe tbody tr th {\n",
              "        vertical-align: top;\n",
              "    }\n",
              "\n",
              "    .dataframe thead th {\n",
              "        text-align: right;\n",
              "    }\n",
              "</style>\n",
              "<table border=\"1\" class=\"dataframe\">\n",
              "  <thead>\n",
              "    <tr style=\"text-align: right;\">\n",
              "      <th></th>\n",
              "      <th>sepal_length</th>\n",
              "      <th>sepal_width</th>\n",
              "      <th>petal_length</th>\n",
              "      <th>petal_width</th>\n",
              "      <th>species</th>\n",
              "    </tr>\n",
              "  </thead>\n",
              "  <tbody>\n",
              "    <tr>\n",
              "      <th>0</th>\n",
              "      <td>5.1</td>\n",
              "      <td>3.5</td>\n",
              "      <td>1.4</td>\n",
              "      <td>0.2</td>\n",
              "      <td>setosa</td>\n",
              "    </tr>\n",
              "    <tr>\n",
              "      <th>1</th>\n",
              "      <td>4.9</td>\n",
              "      <td>3.0</td>\n",
              "      <td>1.4</td>\n",
              "      <td>0.2</td>\n",
              "      <td>setosa</td>\n",
              "    </tr>\n",
              "    <tr>\n",
              "      <th>2</th>\n",
              "      <td>4.7</td>\n",
              "      <td>3.2</td>\n",
              "      <td>1.3</td>\n",
              "      <td>0.2</td>\n",
              "      <td>setosa</td>\n",
              "    </tr>\n",
              "    <tr>\n",
              "      <th>3</th>\n",
              "      <td>4.6</td>\n",
              "      <td>3.1</td>\n",
              "      <td>1.5</td>\n",
              "      <td>0.2</td>\n",
              "      <td>setosa</td>\n",
              "    </tr>\n",
              "    <tr>\n",
              "      <th>4</th>\n",
              "      <td>5.0</td>\n",
              "      <td>3.6</td>\n",
              "      <td>1.4</td>\n",
              "      <td>0.2</td>\n",
              "      <td>setosa</td>\n",
              "    </tr>\n",
              "  </tbody>\n",
              "</table>\n",
              "</div>\n",
              "    <div class=\"colab-df-buttons\">\n",
              "\n",
              "  <div class=\"colab-df-container\">\n",
              "    <button class=\"colab-df-convert\" onclick=\"convertToInteractive('df-286e8087-b0ab-49dd-9b3e-24f9225dd2ca')\"\n",
              "            title=\"Convert this dataframe to an interactive table.\"\n",
              "            style=\"display:none;\">\n",
              "\n",
              "  <svg xmlns=\"http://www.w3.org/2000/svg\" height=\"24px\" viewBox=\"0 -960 960 960\">\n",
              "    <path d=\"M120-120v-720h720v720H120Zm60-500h600v-160H180v160Zm220 220h160v-160H400v160Zm0 220h160v-160H400v160ZM180-400h160v-160H180v160Zm440 0h160v-160H620v160ZM180-180h160v-160H180v160Zm440 0h160v-160H620v160Z\"/>\n",
              "  </svg>\n",
              "    </button>\n",
              "\n",
              "  <style>\n",
              "    .colab-df-container {\n",
              "      display:flex;\n",
              "      gap: 12px;\n",
              "    }\n",
              "\n",
              "    .colab-df-convert {\n",
              "      background-color: #E8F0FE;\n",
              "      border: none;\n",
              "      border-radius: 50%;\n",
              "      cursor: pointer;\n",
              "      display: none;\n",
              "      fill: #1967D2;\n",
              "      height: 32px;\n",
              "      padding: 0 0 0 0;\n",
              "      width: 32px;\n",
              "    }\n",
              "\n",
              "    .colab-df-convert:hover {\n",
              "      background-color: #E2EBFA;\n",
              "      box-shadow: 0px 1px 2px rgba(60, 64, 67, 0.3), 0px 1px 3px 1px rgba(60, 64, 67, 0.15);\n",
              "      fill: #174EA6;\n",
              "    }\n",
              "\n",
              "    .colab-df-buttons div {\n",
              "      margin-bottom: 4px;\n",
              "    }\n",
              "\n",
              "    [theme=dark] .colab-df-convert {\n",
              "      background-color: #3B4455;\n",
              "      fill: #D2E3FC;\n",
              "    }\n",
              "\n",
              "    [theme=dark] .colab-df-convert:hover {\n",
              "      background-color: #434B5C;\n",
              "      box-shadow: 0px 1px 3px 1px rgba(0, 0, 0, 0.15);\n",
              "      filter: drop-shadow(0px 1px 2px rgba(0, 0, 0, 0.3));\n",
              "      fill: #FFFFFF;\n",
              "    }\n",
              "  </style>\n",
              "\n",
              "    <script>\n",
              "      const buttonEl =\n",
              "        document.querySelector('#df-286e8087-b0ab-49dd-9b3e-24f9225dd2ca button.colab-df-convert');\n",
              "      buttonEl.style.display =\n",
              "        google.colab.kernel.accessAllowed ? 'block' : 'none';\n",
              "\n",
              "      async function convertToInteractive(key) {\n",
              "        const element = document.querySelector('#df-286e8087-b0ab-49dd-9b3e-24f9225dd2ca');\n",
              "        const dataTable =\n",
              "          await google.colab.kernel.invokeFunction('convertToInteractive',\n",
              "                                                    [key], {});\n",
              "        if (!dataTable) return;\n",
              "\n",
              "        const docLinkHtml = 'Like what you see? Visit the ' +\n",
              "          '<a target=\"_blank\" href=https://colab.research.google.com/notebooks/data_table.ipynb>data table notebook</a>'\n",
              "          + ' to learn more about interactive tables.';\n",
              "        element.innerHTML = '';\n",
              "        dataTable['output_type'] = 'display_data';\n",
              "        await google.colab.output.renderOutput(dataTable, element);\n",
              "        const docLink = document.createElement('div');\n",
              "        docLink.innerHTML = docLinkHtml;\n",
              "        element.appendChild(docLink);\n",
              "      }\n",
              "    </script>\n",
              "  </div>\n",
              "\n",
              "\n",
              "<div id=\"df-1a739bf9-496a-47e9-9223-705bafb383a0\">\n",
              "  <button class=\"colab-df-quickchart\" onclick=\"quickchart('df-1a739bf9-496a-47e9-9223-705bafb383a0')\"\n",
              "            title=\"Suggest charts\"\n",
              "            style=\"display:none;\">\n",
              "\n",
              "<svg xmlns=\"http://www.w3.org/2000/svg\" height=\"24px\"viewBox=\"0 0 24 24\"\n",
              "     width=\"24px\">\n",
              "    <g>\n",
              "        <path d=\"M19 3H5c-1.1 0-2 .9-2 2v14c0 1.1.9 2 2 2h14c1.1 0 2-.9 2-2V5c0-1.1-.9-2-2-2zM9 17H7v-7h2v7zm4 0h-2V7h2v10zm4 0h-2v-4h2v4z\"/>\n",
              "    </g>\n",
              "</svg>\n",
              "  </button>\n",
              "\n",
              "<style>\n",
              "  .colab-df-quickchart {\n",
              "      --bg-color: #E8F0FE;\n",
              "      --fill-color: #1967D2;\n",
              "      --hover-bg-color: #E2EBFA;\n",
              "      --hover-fill-color: #174EA6;\n",
              "      --disabled-fill-color: #AAA;\n",
              "      --disabled-bg-color: #DDD;\n",
              "  }\n",
              "\n",
              "  [theme=dark] .colab-df-quickchart {\n",
              "      --bg-color: #3B4455;\n",
              "      --fill-color: #D2E3FC;\n",
              "      --hover-bg-color: #434B5C;\n",
              "      --hover-fill-color: #FFFFFF;\n",
              "      --disabled-bg-color: #3B4455;\n",
              "      --disabled-fill-color: #666;\n",
              "  }\n",
              "\n",
              "  .colab-df-quickchart {\n",
              "    background-color: var(--bg-color);\n",
              "    border: none;\n",
              "    border-radius: 50%;\n",
              "    cursor: pointer;\n",
              "    display: none;\n",
              "    fill: var(--fill-color);\n",
              "    height: 32px;\n",
              "    padding: 0;\n",
              "    width: 32px;\n",
              "  }\n",
              "\n",
              "  .colab-df-quickchart:hover {\n",
              "    background-color: var(--hover-bg-color);\n",
              "    box-shadow: 0 1px 2px rgba(60, 64, 67, 0.3), 0 1px 3px 1px rgba(60, 64, 67, 0.15);\n",
              "    fill: var(--button-hover-fill-color);\n",
              "  }\n",
              "\n",
              "  .colab-df-quickchart-complete:disabled,\n",
              "  .colab-df-quickchart-complete:disabled:hover {\n",
              "    background-color: var(--disabled-bg-color);\n",
              "    fill: var(--disabled-fill-color);\n",
              "    box-shadow: none;\n",
              "  }\n",
              "\n",
              "  .colab-df-spinner {\n",
              "    border: 2px solid var(--fill-color);\n",
              "    border-color: transparent;\n",
              "    border-bottom-color: var(--fill-color);\n",
              "    animation:\n",
              "      spin 1s steps(1) infinite;\n",
              "  }\n",
              "\n",
              "  @keyframes spin {\n",
              "    0% {\n",
              "      border-color: transparent;\n",
              "      border-bottom-color: var(--fill-color);\n",
              "      border-left-color: var(--fill-color);\n",
              "    }\n",
              "    20% {\n",
              "      border-color: transparent;\n",
              "      border-left-color: var(--fill-color);\n",
              "      border-top-color: var(--fill-color);\n",
              "    }\n",
              "    30% {\n",
              "      border-color: transparent;\n",
              "      border-left-color: var(--fill-color);\n",
              "      border-top-color: var(--fill-color);\n",
              "      border-right-color: var(--fill-color);\n",
              "    }\n",
              "    40% {\n",
              "      border-color: transparent;\n",
              "      border-right-color: var(--fill-color);\n",
              "      border-top-color: var(--fill-color);\n",
              "    }\n",
              "    60% {\n",
              "      border-color: transparent;\n",
              "      border-right-color: var(--fill-color);\n",
              "    }\n",
              "    80% {\n",
              "      border-color: transparent;\n",
              "      border-right-color: var(--fill-color);\n",
              "      border-bottom-color: var(--fill-color);\n",
              "    }\n",
              "    90% {\n",
              "      border-color: transparent;\n",
              "      border-bottom-color: var(--fill-color);\n",
              "    }\n",
              "  }\n",
              "</style>\n",
              "\n",
              "  <script>\n",
              "    async function quickchart(key) {\n",
              "      const quickchartButtonEl =\n",
              "        document.querySelector('#' + key + ' button');\n",
              "      quickchartButtonEl.disabled = true;  // To prevent multiple clicks.\n",
              "      quickchartButtonEl.classList.add('colab-df-spinner');\n",
              "      try {\n",
              "        const charts = await google.colab.kernel.invokeFunction(\n",
              "            'suggestCharts', [key], {});\n",
              "      } catch (error) {\n",
              "        console.error('Error during call to suggestCharts:', error);\n",
              "      }\n",
              "      quickchartButtonEl.classList.remove('colab-df-spinner');\n",
              "      quickchartButtonEl.classList.add('colab-df-quickchart-complete');\n",
              "    }\n",
              "    (() => {\n",
              "      let quickchartButtonEl =\n",
              "        document.querySelector('#df-1a739bf9-496a-47e9-9223-705bafb383a0 button');\n",
              "      quickchartButtonEl.style.display =\n",
              "        google.colab.kernel.accessAllowed ? 'block' : 'none';\n",
              "    })();\n",
              "  </script>\n",
              "</div>\n",
              "    </div>\n",
              "  </div>\n"
            ],
            "application/vnd.google.colaboratory.intrinsic+json": {
              "type": "dataframe",
              "variable_name": "data",
              "summary": "{\n  \"name\": \"data\",\n  \"rows\": 150,\n  \"fields\": [\n    {\n      \"column\": \"sepal_length\",\n      \"properties\": {\n        \"dtype\": \"number\",\n        \"std\": 0.828066127977863,\n        \"min\": 4.3,\n        \"max\": 7.9,\n        \"num_unique_values\": 35,\n        \"samples\": [\n          6.2,\n          4.5,\n          5.6\n        ],\n        \"semantic_type\": \"\",\n        \"description\": \"\"\n      }\n    },\n    {\n      \"column\": \"sepal_width\",\n      \"properties\": {\n        \"dtype\": \"number\",\n        \"std\": 0.4335943113621737,\n        \"min\": 2.0,\n        \"max\": 4.4,\n        \"num_unique_values\": 23,\n        \"samples\": [\n          2.3,\n          4.0,\n          3.5\n        ],\n        \"semantic_type\": \"\",\n        \"description\": \"\"\n      }\n    },\n    {\n      \"column\": \"petal_length\",\n      \"properties\": {\n        \"dtype\": \"number\",\n        \"std\": 1.7644204199522626,\n        \"min\": 1.0,\n        \"max\": 6.9,\n        \"num_unique_values\": 43,\n        \"samples\": [\n          6.7,\n          3.8,\n          3.7\n        ],\n        \"semantic_type\": \"\",\n        \"description\": \"\"\n      }\n    },\n    {\n      \"column\": \"petal_width\",\n      \"properties\": {\n        \"dtype\": \"number\",\n        \"std\": 0.7631607417008411,\n        \"min\": 0.1,\n        \"max\": 2.5,\n        \"num_unique_values\": 22,\n        \"samples\": [\n          0.2,\n          1.2,\n          1.3\n        ],\n        \"semantic_type\": \"\",\n        \"description\": \"\"\n      }\n    },\n    {\n      \"column\": \"species\",\n      \"properties\": {\n        \"dtype\": \"category\",\n        \"num_unique_values\": 3,\n        \"samples\": [\n          \"setosa\",\n          \"versicolor\",\n          \"virginica\"\n        ],\n        \"semantic_type\": \"\",\n        \"description\": \"\"\n      }\n    }\n  ]\n}"
            }
          },
          "metadata": {},
          "execution_count": 15
        }
      ]
    },
    {
      "cell_type": "code",
      "source": [
        "# Setting the last column name string as numbers\n",
        "data['species']=data['species'].replace('setosa',0.0)\n",
        "data['species']=data['species'].replace('versicolor',1.0)\n",
        "data['species']=data['species'].replace('virginica',2.0)"
      ],
      "metadata": {
        "id": "sEFa5gqgTF8q"
      },
      "execution_count": 16,
      "outputs": []
    },
    {
      "cell_type": "code",
      "source": [
        "data.head()"
      ],
      "metadata": {
        "colab": {
          "base_uri": "https://localhost:8080/",
          "height": 204
        },
        "id": "EchnuaRRjO46",
        "outputId": "fa13b4d3-3d50-4dd0-ebc2-322623f34f93"
      },
      "execution_count": 17,
      "outputs": [
        {
          "output_type": "execute_result",
          "data": {
            "text/plain": [
              "   sepal_length  sepal_width  petal_length  petal_width  species\n",
              "0           5.1          3.5           1.4          0.2      0.0\n",
              "1           4.9          3.0           1.4          0.2      0.0\n",
              "2           4.7          3.2           1.3          0.2      0.0\n",
              "3           4.6          3.1           1.5          0.2      0.0\n",
              "4           5.0          3.6           1.4          0.2      0.0"
            ],
            "text/html": [
              "\n",
              "  <div id=\"df-58912173-d827-4c7a-b93b-73872c1b1124\" class=\"colab-df-container\">\n",
              "    <div>\n",
              "<style scoped>\n",
              "    .dataframe tbody tr th:only-of-type {\n",
              "        vertical-align: middle;\n",
              "    }\n",
              "\n",
              "    .dataframe tbody tr th {\n",
              "        vertical-align: top;\n",
              "    }\n",
              "\n",
              "    .dataframe thead th {\n",
              "        text-align: right;\n",
              "    }\n",
              "</style>\n",
              "<table border=\"1\" class=\"dataframe\">\n",
              "  <thead>\n",
              "    <tr style=\"text-align: right;\">\n",
              "      <th></th>\n",
              "      <th>sepal_length</th>\n",
              "      <th>sepal_width</th>\n",
              "      <th>petal_length</th>\n",
              "      <th>petal_width</th>\n",
              "      <th>species</th>\n",
              "    </tr>\n",
              "  </thead>\n",
              "  <tbody>\n",
              "    <tr>\n",
              "      <th>0</th>\n",
              "      <td>5.1</td>\n",
              "      <td>3.5</td>\n",
              "      <td>1.4</td>\n",
              "      <td>0.2</td>\n",
              "      <td>0.0</td>\n",
              "    </tr>\n",
              "    <tr>\n",
              "      <th>1</th>\n",
              "      <td>4.9</td>\n",
              "      <td>3.0</td>\n",
              "      <td>1.4</td>\n",
              "      <td>0.2</td>\n",
              "      <td>0.0</td>\n",
              "    </tr>\n",
              "    <tr>\n",
              "      <th>2</th>\n",
              "      <td>4.7</td>\n",
              "      <td>3.2</td>\n",
              "      <td>1.3</td>\n",
              "      <td>0.2</td>\n",
              "      <td>0.0</td>\n",
              "    </tr>\n",
              "    <tr>\n",
              "      <th>3</th>\n",
              "      <td>4.6</td>\n",
              "      <td>3.1</td>\n",
              "      <td>1.5</td>\n",
              "      <td>0.2</td>\n",
              "      <td>0.0</td>\n",
              "    </tr>\n",
              "    <tr>\n",
              "      <th>4</th>\n",
              "      <td>5.0</td>\n",
              "      <td>3.6</td>\n",
              "      <td>1.4</td>\n",
              "      <td>0.2</td>\n",
              "      <td>0.0</td>\n",
              "    </tr>\n",
              "  </tbody>\n",
              "</table>\n",
              "</div>\n",
              "    <div class=\"colab-df-buttons\">\n",
              "\n",
              "  <div class=\"colab-df-container\">\n",
              "    <button class=\"colab-df-convert\" onclick=\"convertToInteractive('df-58912173-d827-4c7a-b93b-73872c1b1124')\"\n",
              "            title=\"Convert this dataframe to an interactive table.\"\n",
              "            style=\"display:none;\">\n",
              "\n",
              "  <svg xmlns=\"http://www.w3.org/2000/svg\" height=\"24px\" viewBox=\"0 -960 960 960\">\n",
              "    <path d=\"M120-120v-720h720v720H120Zm60-500h600v-160H180v160Zm220 220h160v-160H400v160Zm0 220h160v-160H400v160ZM180-400h160v-160H180v160Zm440 0h160v-160H620v160ZM180-180h160v-160H180v160Zm440 0h160v-160H620v160Z\"/>\n",
              "  </svg>\n",
              "    </button>\n",
              "\n",
              "  <style>\n",
              "    .colab-df-container {\n",
              "      display:flex;\n",
              "      gap: 12px;\n",
              "    }\n",
              "\n",
              "    .colab-df-convert {\n",
              "      background-color: #E8F0FE;\n",
              "      border: none;\n",
              "      border-radius: 50%;\n",
              "      cursor: pointer;\n",
              "      display: none;\n",
              "      fill: #1967D2;\n",
              "      height: 32px;\n",
              "      padding: 0 0 0 0;\n",
              "      width: 32px;\n",
              "    }\n",
              "\n",
              "    .colab-df-convert:hover {\n",
              "      background-color: #E2EBFA;\n",
              "      box-shadow: 0px 1px 2px rgba(60, 64, 67, 0.3), 0px 1px 3px 1px rgba(60, 64, 67, 0.15);\n",
              "      fill: #174EA6;\n",
              "    }\n",
              "\n",
              "    .colab-df-buttons div {\n",
              "      margin-bottom: 4px;\n",
              "    }\n",
              "\n",
              "    [theme=dark] .colab-df-convert {\n",
              "      background-color: #3B4455;\n",
              "      fill: #D2E3FC;\n",
              "    }\n",
              "\n",
              "    [theme=dark] .colab-df-convert:hover {\n",
              "      background-color: #434B5C;\n",
              "      box-shadow: 0px 1px 3px 1px rgba(0, 0, 0, 0.15);\n",
              "      filter: drop-shadow(0px 1px 2px rgba(0, 0, 0, 0.3));\n",
              "      fill: #FFFFFF;\n",
              "    }\n",
              "  </style>\n",
              "\n",
              "    <script>\n",
              "      const buttonEl =\n",
              "        document.querySelector('#df-58912173-d827-4c7a-b93b-73872c1b1124 button.colab-df-convert');\n",
              "      buttonEl.style.display =\n",
              "        google.colab.kernel.accessAllowed ? 'block' : 'none';\n",
              "\n",
              "      async function convertToInteractive(key) {\n",
              "        const element = document.querySelector('#df-58912173-d827-4c7a-b93b-73872c1b1124');\n",
              "        const dataTable =\n",
              "          await google.colab.kernel.invokeFunction('convertToInteractive',\n",
              "                                                    [key], {});\n",
              "        if (!dataTable) return;\n",
              "\n",
              "        const docLinkHtml = 'Like what you see? Visit the ' +\n",
              "          '<a target=\"_blank\" href=https://colab.research.google.com/notebooks/data_table.ipynb>data table notebook</a>'\n",
              "          + ' to learn more about interactive tables.';\n",
              "        element.innerHTML = '';\n",
              "        dataTable['output_type'] = 'display_data';\n",
              "        await google.colab.output.renderOutput(dataTable, element);\n",
              "        const docLink = document.createElement('div');\n",
              "        docLink.innerHTML = docLinkHtml;\n",
              "        element.appendChild(docLink);\n",
              "      }\n",
              "    </script>\n",
              "  </div>\n",
              "\n",
              "\n",
              "<div id=\"df-2529f27c-bfc2-42b8-9810-32e3fff65a8d\">\n",
              "  <button class=\"colab-df-quickchart\" onclick=\"quickchart('df-2529f27c-bfc2-42b8-9810-32e3fff65a8d')\"\n",
              "            title=\"Suggest charts\"\n",
              "            style=\"display:none;\">\n",
              "\n",
              "<svg xmlns=\"http://www.w3.org/2000/svg\" height=\"24px\"viewBox=\"0 0 24 24\"\n",
              "     width=\"24px\">\n",
              "    <g>\n",
              "        <path d=\"M19 3H5c-1.1 0-2 .9-2 2v14c0 1.1.9 2 2 2h14c1.1 0 2-.9 2-2V5c0-1.1-.9-2-2-2zM9 17H7v-7h2v7zm4 0h-2V7h2v10zm4 0h-2v-4h2v4z\"/>\n",
              "    </g>\n",
              "</svg>\n",
              "  </button>\n",
              "\n",
              "<style>\n",
              "  .colab-df-quickchart {\n",
              "      --bg-color: #E8F0FE;\n",
              "      --fill-color: #1967D2;\n",
              "      --hover-bg-color: #E2EBFA;\n",
              "      --hover-fill-color: #174EA6;\n",
              "      --disabled-fill-color: #AAA;\n",
              "      --disabled-bg-color: #DDD;\n",
              "  }\n",
              "\n",
              "  [theme=dark] .colab-df-quickchart {\n",
              "      --bg-color: #3B4455;\n",
              "      --fill-color: #D2E3FC;\n",
              "      --hover-bg-color: #434B5C;\n",
              "      --hover-fill-color: #FFFFFF;\n",
              "      --disabled-bg-color: #3B4455;\n",
              "      --disabled-fill-color: #666;\n",
              "  }\n",
              "\n",
              "  .colab-df-quickchart {\n",
              "    background-color: var(--bg-color);\n",
              "    border: none;\n",
              "    border-radius: 50%;\n",
              "    cursor: pointer;\n",
              "    display: none;\n",
              "    fill: var(--fill-color);\n",
              "    height: 32px;\n",
              "    padding: 0;\n",
              "    width: 32px;\n",
              "  }\n",
              "\n",
              "  .colab-df-quickchart:hover {\n",
              "    background-color: var(--hover-bg-color);\n",
              "    box-shadow: 0 1px 2px rgba(60, 64, 67, 0.3), 0 1px 3px 1px rgba(60, 64, 67, 0.15);\n",
              "    fill: var(--button-hover-fill-color);\n",
              "  }\n",
              "\n",
              "  .colab-df-quickchart-complete:disabled,\n",
              "  .colab-df-quickchart-complete:disabled:hover {\n",
              "    background-color: var(--disabled-bg-color);\n",
              "    fill: var(--disabled-fill-color);\n",
              "    box-shadow: none;\n",
              "  }\n",
              "\n",
              "  .colab-df-spinner {\n",
              "    border: 2px solid var(--fill-color);\n",
              "    border-color: transparent;\n",
              "    border-bottom-color: var(--fill-color);\n",
              "    animation:\n",
              "      spin 1s steps(1) infinite;\n",
              "  }\n",
              "\n",
              "  @keyframes spin {\n",
              "    0% {\n",
              "      border-color: transparent;\n",
              "      border-bottom-color: var(--fill-color);\n",
              "      border-left-color: var(--fill-color);\n",
              "    }\n",
              "    20% {\n",
              "      border-color: transparent;\n",
              "      border-left-color: var(--fill-color);\n",
              "      border-top-color: var(--fill-color);\n",
              "    }\n",
              "    30% {\n",
              "      border-color: transparent;\n",
              "      border-left-color: var(--fill-color);\n",
              "      border-top-color: var(--fill-color);\n",
              "      border-right-color: var(--fill-color);\n",
              "    }\n",
              "    40% {\n",
              "      border-color: transparent;\n",
              "      border-right-color: var(--fill-color);\n",
              "      border-top-color: var(--fill-color);\n",
              "    }\n",
              "    60% {\n",
              "      border-color: transparent;\n",
              "      border-right-color: var(--fill-color);\n",
              "    }\n",
              "    80% {\n",
              "      border-color: transparent;\n",
              "      border-right-color: var(--fill-color);\n",
              "      border-bottom-color: var(--fill-color);\n",
              "    }\n",
              "    90% {\n",
              "      border-color: transparent;\n",
              "      border-bottom-color: var(--fill-color);\n",
              "    }\n",
              "  }\n",
              "</style>\n",
              "\n",
              "  <script>\n",
              "    async function quickchart(key) {\n",
              "      const quickchartButtonEl =\n",
              "        document.querySelector('#' + key + ' button');\n",
              "      quickchartButtonEl.disabled = true;  // To prevent multiple clicks.\n",
              "      quickchartButtonEl.classList.add('colab-df-spinner');\n",
              "      try {\n",
              "        const charts = await google.colab.kernel.invokeFunction(\n",
              "            'suggestCharts', [key], {});\n",
              "      } catch (error) {\n",
              "        console.error('Error during call to suggestCharts:', error);\n",
              "      }\n",
              "      quickchartButtonEl.classList.remove('colab-df-spinner');\n",
              "      quickchartButtonEl.classList.add('colab-df-quickchart-complete');\n",
              "    }\n",
              "    (() => {\n",
              "      let quickchartButtonEl =\n",
              "        document.querySelector('#df-2529f27c-bfc2-42b8-9810-32e3fff65a8d button');\n",
              "      quickchartButtonEl.style.display =\n",
              "        google.colab.kernel.accessAllowed ? 'block' : 'none';\n",
              "    })();\n",
              "  </script>\n",
              "</div>\n",
              "    </div>\n",
              "  </div>\n"
            ],
            "application/vnd.google.colaboratory.intrinsic+json": {
              "type": "dataframe",
              "variable_name": "data",
              "summary": "{\n  \"name\": \"data\",\n  \"rows\": 150,\n  \"fields\": [\n    {\n      \"column\": \"sepal_length\",\n      \"properties\": {\n        \"dtype\": \"number\",\n        \"std\": 0.828066127977863,\n        \"min\": 4.3,\n        \"max\": 7.9,\n        \"num_unique_values\": 35,\n        \"samples\": [\n          6.2,\n          4.5,\n          5.6\n        ],\n        \"semantic_type\": \"\",\n        \"description\": \"\"\n      }\n    },\n    {\n      \"column\": \"sepal_width\",\n      \"properties\": {\n        \"dtype\": \"number\",\n        \"std\": 0.4335943113621737,\n        \"min\": 2.0,\n        \"max\": 4.4,\n        \"num_unique_values\": 23,\n        \"samples\": [\n          2.3,\n          4.0,\n          3.5\n        ],\n        \"semantic_type\": \"\",\n        \"description\": \"\"\n      }\n    },\n    {\n      \"column\": \"petal_length\",\n      \"properties\": {\n        \"dtype\": \"number\",\n        \"std\": 1.7644204199522626,\n        \"min\": 1.0,\n        \"max\": 6.9,\n        \"num_unique_values\": 43,\n        \"samples\": [\n          6.7,\n          3.8,\n          3.7\n        ],\n        \"semantic_type\": \"\",\n        \"description\": \"\"\n      }\n    },\n    {\n      \"column\": \"petal_width\",\n      \"properties\": {\n        \"dtype\": \"number\",\n        \"std\": 0.7631607417008411,\n        \"min\": 0.1,\n        \"max\": 2.5,\n        \"num_unique_values\": 22,\n        \"samples\": [\n          0.2,\n          1.2,\n          1.3\n        ],\n        \"semantic_type\": \"\",\n        \"description\": \"\"\n      }\n    },\n    {\n      \"column\": \"species\",\n      \"properties\": {\n        \"dtype\": \"number\",\n        \"std\": 0.8192319205190405,\n        \"min\": 0.0,\n        \"max\": 2.0,\n        \"num_unique_values\": 3,\n        \"samples\": [\n          0.0,\n          1.0,\n          2.0\n        ],\n        \"semantic_type\": \"\",\n        \"description\": \"\"\n      }\n    }\n  ]\n}"
            }
          },
          "metadata": {},
          "execution_count": 17
        }
      ]
    },
    {
      "cell_type": "code",
      "source": [
        "# Training, testing and splitting\n",
        "X=data.drop('species',axis=1)\n",
        "X=X.values\n",
        "y=data['species']\n",
        "y=y.values"
      ],
      "metadata": {
        "id": "4ltBmpgBT8Mm"
      },
      "execution_count": 18,
      "outputs": []
    },
    {
      "cell_type": "code",
      "source": [
        "from sklearn.model_selection import train_test_split"
      ],
      "metadata": {
        "id": "EICgkWUMUmn6"
      },
      "execution_count": 19,
      "outputs": []
    },
    {
      "cell_type": "code",
      "source": [
        "# Splitting the data into testing and training sets\n",
        "\n",
        "X_train,X_test,y_train,y_test= train_test_split(X,y,test_size=0.2,random_state=99)\n",
        "\n"
      ],
      "metadata": {
        "id": "DpnMdmHcU0M0"
      },
      "execution_count": 20,
      "outputs": []
    },
    {
      "cell_type": "code",
      "source": [
        "# Saving in float tensors\n",
        "X_train=torch.FloatTensor(X_train)\n",
        "X_test=torch.FloatTensor(X_test)\n",
        "y_train=torch.LongTensor(y_train)    #LongTensor cause the labels are saved as float and we want them a integers\n",
        "y_test=torch.LongTensor(y_test)"
      ],
      "metadata": {
        "id": "veA1EEiSVYlV"
      },
      "execution_count": 21,
      "outputs": []
    },
    {
      "cell_type": "code",
      "source": [
        "X_train.shape,X_test.shape"
      ],
      "metadata": {
        "colab": {
          "base_uri": "https://localhost:8080/"
        },
        "id": "n1n43MxpV1aB",
        "outputId": "db0379c7-3fbd-4c4e-ee1e-1fb908c7d9d2"
      },
      "execution_count": 22,
      "outputs": [
        {
          "output_type": "execute_result",
          "data": {
            "text/plain": [
              "(torch.Size([120, 4]), torch.Size([30, 4]))"
            ]
          },
          "metadata": {},
          "execution_count": 22
        }
      ]
    },
    {
      "cell_type": "code",
      "source": [
        "# Error criterion (how far the predictions are from the actual data)\n",
        "crit=nn.CrossEntropyLoss()\n",
        "#optimizer\n",
        "optimizer=torch.optim.Adam(model.parameters(),lr=0.01)   #lr (learning rate)"
      ],
      "metadata": {
        "id": "fL635AC0Xean"
      },
      "execution_count": 23,
      "outputs": []
    },
    {
      "cell_type": "code",
      "source": [
        "# Start training\n",
        "## chose an epoch (one epoch = one run through all hidden layers(hls))\n",
        "epch=200\n",
        "losses=[]\n",
        "for i in range(epch):\n",
        "  #pushing the training data through the nural network\n",
        "  y_pred=model.forward(X_train)\n",
        "  #measuring the loss\n",
        "  loss=crit(y_pred,y_train)\n",
        "  losses.append(loss.detach().numpy())\n",
        "\n",
        "  if i%10 ==0:            #print the loss for every 10th epoch\n",
        "    print(f\"Epoch: {i} and loss: {loss}\")\n",
        "\n",
        "  #Back propagation: take the error--->feed it back to the network to make it fix the weights so the learning is better\n",
        "  optimizer.zero_grad()\n",
        "  loss.backward()\n",
        "  optimizer.step()\n"
      ],
      "metadata": {
        "colab": {
          "base_uri": "https://localhost:8080/"
        },
        "id": "WhN4_3vwYb27",
        "outputId": "218704e9-e233-478d-c6d9-8bad53f80c97"
      },
      "execution_count": 24,
      "outputs": [
        {
          "output_type": "stream",
          "name": "stdout",
          "text": [
            "Epoch: 0 and loss: 1.1203802824020386\n",
            "Epoch: 10 and loss: 0.8475049734115601\n",
            "Epoch: 20 and loss: 0.5189031362533569\n",
            "Epoch: 30 and loss: 0.36416807770729065\n",
            "Epoch: 40 and loss: 0.22875846922397614\n",
            "Epoch: 50 and loss: 0.12755440175533295\n",
            "Epoch: 60 and loss: 0.08284353464841843\n",
            "Epoch: 70 and loss: 0.06693687289953232\n",
            "Epoch: 80 and loss: 0.05992640554904938\n",
            "Epoch: 90 and loss: 0.05596214532852173\n",
            "Epoch: 100 and loss: 0.053439829498529434\n",
            "Epoch: 110 and loss: 0.05174222216010094\n",
            "Epoch: 120 and loss: 0.05052375793457031\n",
            "Epoch: 130 and loss: 0.04958060756325722\n",
            "Epoch: 140 and loss: 0.0487956739962101\n",
            "Epoch: 150 and loss: 0.048106417059898376\n",
            "Epoch: 160 and loss: 0.0474805012345314\n",
            "Epoch: 170 and loss: 0.04690198227763176\n",
            "Epoch: 180 and loss: 0.04636310040950775\n",
            "Epoch: 190 and loss: 0.04585956782102585\n"
          ]
        }
      ]
    },
    {
      "cell_type": "code",
      "source": [
        "plt.plot(np.arange(epch),losses)\n",
        "plt.xlabel(\"Epochs\")\n",
        "plt.ylabel(\"Loss\")"
      ],
      "metadata": {
        "colab": {
          "base_uri": "https://localhost:8080/",
          "height": 466
        },
        "id": "F5ZJHruNbZCH",
        "outputId": "3f29559b-4623-4026-e79f-50fcaba2aa3b"
      },
      "execution_count": 25,
      "outputs": [
        {
          "output_type": "execute_result",
          "data": {
            "text/plain": [
              "Text(0, 0.5, 'Loss')"
            ]
          },
          "metadata": {},
          "execution_count": 25
        },
        {
          "output_type": "display_data",
          "data": {
            "text/plain": [
              "<Figure size 640x480 with 1 Axes>"
            ],
            "image/png": "[encoded data removed]"
          },
          "metadata": {}
        }
      ]
    },
    {
      "cell_type": "code",
      "source": [
        "# using the test set for tesing the neural network\n",
        "\n",
        "with torch.no_grad():  # turning off back propagation\n",
        "  y_eval=model.forward(X_test) #predictions\n",
        "  loss=crit(y_eval,y_test)"
      ],
      "metadata": {
        "id": "RH-wNbMccMn1"
      },
      "execution_count": 26,
      "outputs": []
    },
    {
      "cell_type": "code",
      "source": [
        "loss"
      ],
      "metadata": {
        "colab": {
          "base_uri": "https://localhost:8080/"
        },
        "id": "qMqKoaItdO5W",
        "outputId": "b9697a6f-15e1-404f-f4b3-c99f4ba30ad5"
      },
      "execution_count": 27,
      "outputs": [
        {
          "output_type": "execute_result",
          "data": {
            "text/plain": [
              "tensor(0.0698)"
            ]
          },
          "metadata": {},
          "execution_count": 27
        }
      ]
    },
    {
      "cell_type": "code",
      "source": [
        "correct=0\n",
        "with torch.no_grad():\n",
        "  for i,data in enumerate(X_test):\n",
        "    y_val=model.forward(data)\n",
        "\n",
        "    print(f\"{i+1}.) {str(y_val)} \\t {y_test[i]} \\t {y_val.argmax().item()==y_test[i]} \")\n",
        "\n",
        "    if y_val.argmax().item()==y_test[i]:\n",
        "      correct +=1\n",
        "print(f\"We got {correct} correct!\")"
      ],
      "metadata": {
        "colab": {
          "base_uri": "https://localhost:8080/"
        },
        "id": "3KDW-g_IdZrs",
        "outputId": "32b1933b-34f0-42e4-ce51-070a6662653f"
      },
      "execution_count": 28,
      "outputs": [
        {
          "output_type": "stream",
          "name": "stdout",
          "text": [
            "1.) tensor([-9.2954,  2.5284,  7.6981]) \t 2 \t True \n",
            "2.) tensor([ 9.3996, -0.3839, -6.8436]) \t 0 \t True \n",
            "3.) tensor([-3.0405,  8.0024, -1.0975]) \t 1 \t True \n",
            "4.) tensor([-11.0728,   0.7043,  10.3599]) \t 2 \t True \n",
            "5.) tensor([11.4591, -1.3218, -8.0335]) \t 0 \t True \n",
            "6.) tensor([-3.6548,  6.6579,  0.0685]) \t 1 \t True \n",
            "7.) tensor([-5.0269,  5.8502,  1.8004]) \t 1 \t True \n",
            "8.) tensor([-10.6253,   1.7571,   9.4368]) \t 2 \t True \n",
            "9.) tensor([ 9.3374,  0.4071, -7.0307]) \t 0 \t True \n",
            "10.) tensor([-7.0553,  3.4844,  4.9597]) \t 1 \t False \n",
            "11.) tensor([-12.5791,   1.3037,  11.5407]) \t 2 \t True \n",
            "12.) tensor([-4.3309,  7.2489,  0.4828]) \t 1 \t True \n",
            "13.) tensor([-7.4524,  3.4563,  5.3935]) \t 2 \t True \n",
            "14.) tensor([-3.9419,  6.5493,  0.3844]) \t 1 \t True \n",
            "15.) tensor([-10.3509,   1.3665,   9.2896]) \t 2 \t True \n",
            "16.) tensor([12.1001, -1.5276, -8.4352]) \t 0 \t True \n",
            "17.) tensor([10.2665, -0.5211, -7.4394]) \t 0 \t True \n",
            "18.) tensor([-2.5855,  7.7099, -1.3135]) \t 1 \t True \n",
            "19.) tensor([-1.8523,  7.3788, -1.6352]) \t 1 \t True \n",
            "20.) tensor([-7.9609,  1.5613,  6.8647]) \t 2 \t True \n",
            "21.) tensor([-5.6853,  4.4559,  3.1188]) \t 1 \t True \n",
            "22.) tensor([-4.0305,  7.2096,  0.1141]) \t 1 \t True \n",
            "23.) tensor([11.3879, -1.0177, -8.0684]) \t 0 \t True \n",
            "24.) tensor([-2.4728,  7.2701, -1.1708]) \t 1 \t True \n",
            "25.) tensor([-12.2915,   0.9726,  11.3694]) \t 2 \t True \n",
            "26.) tensor([10.3671, -0.8707, -7.3754]) \t 0 \t True \n",
            "27.) tensor([ 9.3183,  0.3368, -6.9988]) \t 0 \t True \n",
            "28.) tensor([-8.8415,  2.5228,  7.2498]) \t 2 \t True \n",
            "29.) tensor([-3.7397,  8.1131, -0.5948]) \t 1 \t True \n",
            "30.) tensor([-11.8472,  -0.2946,  11.6303]) \t 2 \t True \n",
            "We got 29 correct!\n"
          ]
        }
      ]
    },
    {
      "cell_type": "code",
      "source": [
        "# New data point sending in the neural network to identify what type of flower it is\n",
        "samp=torch.tensor([5.0,3.6,1.4,0.2\t])"
      ],
      "metadata": {
        "id": "IusWuILShEkf"
      },
      "execution_count": 29,
      "outputs": []
    },
    {
      "cell_type": "code",
      "source": [
        "with torch.no_grad():  # turning off back propagation\n",
        "  print(model(samp))"
      ],
      "metadata": {
        "colab": {
          "base_uri": "https://localhost:8080/"
        },
        "id": "Qg4Ul2gsheIJ",
        "outputId": "3b1b67d7-9e8f-4746-9b74-4a6f6b9439f9"
      },
      "execution_count": 30,
      "outputs": [
        {
          "output_type": "stream",
          "name": "stdout",
          "text": [
            "tensor([11.4591, -1.3218, -8.0335])\n"
          ]
        }
      ]
    },
    {
      "cell_type": "code",
      "source": [
        "# Saving the model\n",
        "torch.save(model.state_dict(),\"iris_model.pt\")"
      ],
      "metadata": {
        "id": "4f7ir4Maj-JE"
      },
      "execution_count": 31,
      "outputs": []
    },
    {
      "cell_type": "code",
      "source": [
        "# Loading the model\n",
        "new_md=Model()\n",
        "new_md.load_state_dict(torch.load('iris_model.pt'))"
      ],
      "metadata": {
        "colab": {
          "base_uri": "https://localhost:8080/"
        },
        "id": "YT5sWxXPkdTd",
        "outputId": "c9f2774a-ad8a-454a-9ac8-d1dcd56aa6ed"
      },
      "execution_count": 32,
      "outputs": [
        {
          "output_type": "execute_result",
          "data": {
            "text/plain": [
              "<All keys matched successfully>"
            ]
          },
          "metadata": {},
          "execution_count": 32
        }
      ]
    },
    {
      "cell_type": "code",
      "source": [
        "new_md.eval()"
      ],
      "metadata": {
        "colab": {
          "base_uri": "https://localhost:8080/"
        },
        "id": "c16OQorPkxZ7",
        "outputId": "21c86660-35a0-4bff-ad4d-59e43a3f9ccc"
      },
      "execution_count": 33,
      "outputs": [
        {
          "output_type": "execute_result",
          "data": {
            "text/plain": [
              "Model(\n",
              "  (fc1): Linear(in_features=4, out_features=10, bias=True)\n",
              "  (fc2): Linear(in_features=10, out_features=10, bias=True)\n",
              "  (out): Linear(in_features=10, out_features=3, bias=True)\n",
              ")"
            ]
          },
          "metadata": {},
          "execution_count": 33
        }
      ]
    },
    {
      "cell_type": "code",
      "source": [
        "with torch.no_grad():    # Using the loaded trained model to perform a prediction\n",
        "  print(new_md(samp))"
      ],
      "metadata": {
        "colab": {
          "base_uri": "https://localhost:8080/"
        },
        "id": "n7BaFtDQ3AXF",
        "outputId": "8dc47221-357c-4167-e0b3-d6069ada78a8"
      },
      "execution_count": 34,
      "outputs": [
        {
          "output_type": "stream",
          "name": "stdout",
          "text": [
            "tensor([11.4591, -1.3218, -8.0335])\n"
          ]
        }
      ]
    },
    {
      "cell_type": "markdown",
      "source": [
        "# Convolutional Neural Networks![59954intro to CNN.JPG](data:image/jpeg;base64,/9j/4AAQSkZJRgABAQEAYABgAAD/4RDsRXhpZgAATU0AKgAAAAgABAE7AAIAAAALAAAISodpAAQAAAABAAAIVpydAAEAAAAWAAAQzuocAAcAAAgMAAAAPgAAAAAc6gAAAAgAAAAAAAAAAAAAAAAAAAAAAAAAAAAAAAAAAAAAAAAAAAAAAAAAAAAAAAAAAAAAAAAAAAAAAAAAAAAAAAAAAAAAAAAAAAAAAAAAAAAAAAAAAAAAAAAAAAAAAAAAAAAAAAAAAAAAAAAAAAAAAAAAAAAAAAAAAAAAAAAAAAAAAAAAAAAAAAAAAAAAAAAAAAAAAAAAAAAAAAAAAAAAAAAAAAAAAAAAAAAAAAAAAAAAAAAAAAAAAAAAAAAAAAAAAAAAAAAAAAAAAAAAAAAAAAAAAAAAAAAAAAAAAAAAAAAAAAAAAAAAAAAAAAAAAAAAAAAAAAAAAAAAAAAAAAAAAAAAAAAAAAAAAAAAAAAAAAAAAAAAAAAAAAAAAAAAAAAAAAAAAAAAAAAAAAAAAAAAAAAAAAAAAAAAAAAAAAAAAAAAAAAAAAAAAAAAAAAAAAAAAAAAAAAAAAAAAAAAAAAAAAAAAAAAAAAAAAAAAAAAAAAAAAAAAAAAAAAAAAAAAAAAAAAAAAAAAAAAAAAAAAAAAAAAAAAAAAAAAAAAAAAAAAAAAAAAAAAAAAAAAAAAAAAAAAAAAAAAAAAAAAAAAAAAAAAAAAAAAAAAAAAAAAAAAAAAAAAAAAAAAAAAAAAAAAAAAAAAAAAAAAAAAAAAAAAAAAAAAAAAAAAAAAAAAAAAAAAAAAAAAAAAAAAAAAAAAAAAAAAAAAAAAAAAAAAAAAAAAAAAAAAAAAAAAAAAAAAAAAAAAAAAAAAAAAAAAAAAAAAAAAAAAAAAAAAAAAAAAAAAAAAAAAAAAAAAAAAAAAAAAAAAAAAAAAAAAAAAAAAAAAAAAAAAAAAAAAAAAAAAAAAAAAAAAAAAAAAAAAAAAAAAAAAAAAAAAAAAAAAAAAAAAAAAAAAAAAAAAAAAAAAAAAAAAAAAAAAAAAAAAAAAAAAAAAAAAAAAAAAAAAAAAAAAAAAAAAAAAAAAAAAAAAAAAAAAAAAAAAAAAAAAAAAAAAAAAAAAAAAAAAAAAAAAAAAAAAAAAAAAAAAAAAAAAAAAAAAAAAAAAAAAAAAAAAAAAAAAAAAAAAAAAAAAAAAAAAAAAAAAAAAAAAAAAAAAAAAAAAAAAAAAAAAAAAAAAAAAAAAAAAAAAAAAAAAAAAAAAAAAAAAAAAAAAAAAAAAAAAAAAAAAAAAAAAAAAAAAAAAAAAAAAAAAAAAAAAAAAAAAAAAAAAAAAAAAAAAAAAAAAAAAAAAAAAAAAAAAAAAAAAAAAAAAAAAAAAAAAAAAAAAAAAAAAAAAAAAAAAAAAAAAAAAAAAAAAAAAAAAAAAAAAAAAAAAAAAAAAAAAAAAAAAAAAAAAAAAAAAAAAAAAAAAAAAAAAAAAAAAAAAAAAAAAAAAAAAAAAAAAAAAAAAAAAAAAAAAAAAAAAAAAAAAAAAAAAAAAAAAAAAAAAAAAAAAAAAAAAAAAAAAAAAAAAAAAAAAAAAAAAAAAAAAAAAAAAAAAAAAAAAAAAAAAAAAAAAAAAAAAAAAAAAAAAAAAAAAAAAAAAAAAAAAAAAAAAAAAAAAAAAAAAAAAAAAAAAAAAAAAAAAAAAAAAAAAAAAAAAAAAAAAAAAAAAAAAAAAAAAAAAAAAAAAAAAAAAAAAAAAAAAAAAAAAAAAAAAAAAAAAAAAAAAAAAAAAAAAAAAAAAAAAAAAAAAAAAAAAAAAAAAAAAAAAAAAAAAAAAAAAAAAAAAAAAAAAAAAAAAAAAAAAAAAAAAAAAAAAAAAAAAAAAAAAAAAAAAAAAAAAAAAAAAAAAAAAAAAAAAAAAAAAAAAAAAAAAAAAAAAAAAAAAAAAAAAAAAAAAAAAAAAAAAAAAAAAAAAAAAAAAAAAAAAAAAAAAAAAAAAAAAAAAAAAAAAAAAAAAAAAAAAAAAAAAAAAAAAAAAAAAAAAAAAAAAAAAAAAAAAAAAAAAAAAAAAAAAAAAAAAAAAAAAAAAAAAAAAAAAAAAAAAAAAAAAAAAAAAAAAAAAAAAAAAAAAAAAAAAAAAAAAAAAAAAAAAAAAAAAAAAAAAAAAAAAAAAAAAAAAAAAAAAAAAAAAAAAAAAAAAAAAAAAAAAAAAAAAAAAAAAAAAAAAAAAAAAAAAAAAAAAAAAAAAAAAAAAAAAAAAAAAAAAAAAAAAAAAAAAAAAAAAAAAAAAAAAAAAAAAAAAAAAAAAAAAAAAAAAAAAAAAAAAAAAAAAAAAAAAAAAAAAAAAAAAAAAAAAAAAAAAAAAAAAAAAAAAAAAAAAAAAAAAAAAAAAAAAAAAAAAAAAAAAAAAAAAAAAAAAAAAAAAAAAAAAAAAAAAAAAAAAAAAAAAAAAAAAAAAAAAAAAAAAAAAAAAAAAAAAAAAAAAAAAAAAAAAAAAAAAAAAAAAAAAAAAAAAAAAAAAAAAAAAAAAAAAAAAAAAAAAAAAAAAAAAAAAAAAAAAAAAAAAAAAAAAAAAAAAAAAAAAAAAAAAAAAAAAAAAAAAAAAAAAAAAAAAAAAAAAAAAAAAAAAAAAAAAAAAAAAAAAAAAAAAAAAAAAAAAAAAAAAAAAAAAAAAAAAAAAAAAAAAAAAAAAAAAAAAAAAAAAAAAAAAAAAAAAAAAAAAAAAAAAAAAAAAAAAAAAAAAAAAAAAAAAAAAAAAAAAAAAAAAAAAAAAAAAAAAAAAAAAAAAAAAAAAAAAAAAAAAAAAAAAAAAAAAAAAAAAAAAAAAAAAAAAAAAAAAAAAAAAAAAAAAAAAAAAAAAAAAAAAAAAAAAAAAAFNhaWx5IFNoYWgAAAAFkAMAAgAAABQAABCkkAQAAgAAABQAABC4kpEAAgAAAAMxOAAAkpIAAgAAAAMxOAAA6hwABwAACAwAAAiYAAAAABzqAAAACAAAAAAAAAAAAAAAAAAAAAAAAAAAAAAAAAAAAAAAAAAAAAAAAAAAAAAAAAAAAAAAAAAAAAAAAAAAAAAAAAAAAAAAAAAAAAAAAAAAAAAAAAAAAAAAAAAAAAAAAAAAAAAAAAAAAAAAAAAAAAAAAAAAAAAAAAAAAAAAAAAAAAAAAAAAAAAAAAAAAAAAAAAAAAAAAAAAAAAAAAAAAAAAAAAAAAAAAAAAAAAAAAAAAAAAAAAAAAAAAAAAAAAAAAAAAAAAAAAAAAAAAAAAAAAAAAAAAAAAAAAAAAAAAAAAAAAAAAAAAAAAAAAAAAAAAAAAAAAAAAAAAAAAAAAAAAAAAAAAAAAAAAAAAAAAAAAAAAAAAAAAAAAAAAAAAAAAAAAAAAAAAAAAAAAAAAAAAAAAAAAAAAAAAAAAAAAAAAAAAAAAAAAAAAAAAAAAAAAAAAAAAAAAAAAAAAAAAAAAAAAAAAAAAAAAAAAAAAAAAAAAAAAAAAAAAAAAAAAAAAAAAAAAAAAAAAAAAAAAAAAAAAAAAAAAAAAAAAAAAAAAAAAAAAAAAAAAAAAAAAAAAAAAAAAAAAAAAAAAAAAAAAAAAAAAAAAAAAAAAAAAAAAAAAAAAAAAAAAAAAAAAAAAAAAAAAAAAAAAAAAAAAAAAAAAAAAAAAAAAAAAAAAAAAAAAAAAAAAAAAAAAAAAAAAAAAAAAAAAAAAAAAAAAAAAAAAAAAAAAAAAAAAAAAAAAAAAAAAAAAAAAAAAAAAAAAAAAAAAAAAAAAAAAAAAAAAAAAAAAAAAAAAAAAAAAAAAAAAAAAAAAAAAAAAAAAAAAAAAAAAAAAAAAAAAAAAAAAAAAAAAAAAAAAAAAAAAAAAAAAAAAAAAAAAAAAAAAAAAAAAAAAAAAAAAAAAAAAAAAAAAAAAAAAAAAAAAAAAAAAAAAAAAAAAAAAAAAAAAAAAAAAAAAAAAAAAAAAAAAAAAAAAAAAAAAAAAAAAAAAAAAAAAAAAAAAAAAAAAAAAAAAAAAAAAAAAAAAAAAAAAAAAAAAAAAAAAAAAAAAAAAAAAAAAAAAAAAAAAAAAAAAAAAAAAAAAAAAAAAAAAAAAAAAAAAAAAAAAAAAAAAAAAAAAAAAAAAAAAAAAAAAAAAAAAAAAAAAAAAAAAAAAAAAAAAAAAAAAAAAAAAAAAAAAAAAAAAAAAAAAAAAAAAAAAAAAAAAAAAAAAAAAAAAAAAAAAAAAAAAAAAAAAAAAAAAAAAAAAAAAAAAAAAAAAAAAAAAAAAAAAAAAAAAAAAAAAAAAAAAAAAAAAAAAAAAAAAAAAAAAAAAAAAAAAAAAAAAAAAAAAAAAAAAAAAAAAAAAAAAAAAAAAAAAAAAAAAAAAAAAAAAAAAAAAAAAAAAAAAAAAAAAAAAAAAAAAAAAAAAAAAAAAAAAAAAAAAAAAAAAAAAAAAAAAAAAAAAAAAAAAAAAAAAAAAAAAAAAAAAAAAAAAAAAAAAAAAAAAAAAAAAAAAAAAAAAAAAAAAAAAAAAAAAAAAAAAAAAAAAAAAAAAAAAAAAAAAAAAAAAAAAAAAAAAAAAAAAAAAAAAAAAAAAAAAAAAAAAAAAAAAAAAAAAAAAAAAAAAAAAAAAAAAAAAAAAAAAAAAAAAAAAAAAAAAAAAAAAAAAAAAAAAAAAAAAAAAAAAAAAAAAAAAAAAAAAAAAAAAAAAAAAAAAAAAAAAAAAAAAAAAAAAAAAAAAAAAAAAAAAAAAAAAAAAAAAAAAAAAAAAAAAAAAAAAAAAAAAAAAAAAAAAAAAAAAAAAAAAAAAAAAAAAAAAAAAAAAAAAAAAAAAAAAAAAAAAAAAAAAAAAAAAAAAAAAAAAAAAAAAAAAAAAAAAAAAAAAAAAAAAAAAAAAAAAAAAAAAAAAAAAAAAAAAAAAAAAAAAAAAAAAAAAAAAAAAAAAAAAAAAAAAAAAAAAAAAAAAAAAAAAAAAAAAAAAAAAAAAAAAAAAAAAAAAAAAAAAAAAAAAAAAAAAAAAAAAAAAAAAAAAAAAAAAAAAAAAAAAAAAAAAAAAAAAAAAAAAAAAAAAAAAAAAAAAAAAAAAAAAAAAAAAAAAAAAAAAAAAAAAAAAAAAAAAAAAAAAAAAAAAAAAAAAAAAAAAAAAAAAAAAAAAAAAAAAAAAAAAAAAAAAAAAAAAAAAAAAAAAAAAAAAAAAAAAAAAAAAAAAAAAAAAAAAAAAAAAAAAAAAAAAAAAAAAAAAAAAAAAAAAAAAAAAAAAAAAAAAAAAAAAAAAAAAAAAAAAAAAAAAAAAAAAAAAAAAAAAAAAAAAAAAAAAAAAAAAAAAAAAAAAAAAAAAAAAAAAAAAAAAAAAAAAAAAAAAAAAAAAAAAAAAAAAAAAAAAAAAAAAAAAAAAAAAAAAAAAAAAAAAAAAAAAAAAAAAAAAAAAAAAAAAAAAAAAAAAAAAAAAAAAAAAAAAAAAAAAAAAAAAAAAAAAAAAAAAAAAAAAAAAAAAAAAAAAAAAAAAAAAAAAAAAAAAAAAAAAAAAAAAAAAAAAAAAAAAAAAAAAAAAAAAAAAAAAAAAAAAAAAAAAAAAAAAAAAAAAAAAAAAAAAAAAAAAAAAAAAAAAAAAAAAAAAAAAAAAAAAAAAAAAAAAAAAAAAAAAAAAAAAAAAAAAAAAAAAAAAAAAAAAAAAAAAAAAAAAAAAAAAAAAAAAAAAAAAAAAAAAAAAAAAAAAAAAAAAAAAAAAAAAAAAAAAAAAAAAAAAAAAAAAAAAAAAAAAAAAAAAMjAyMjowMToxMyAxNTo1Njo0NQAyMDIyOjAxOjEzIDE1OjU2OjQ1AAAAUwBhAGkAbAB5ACAAUwBoAGEAaAAAAP/hCx1odHRwOi8vbnMuYWRvYmUuY29tL3hhcC8xLjAvADw/eHBhY2tldCBiZWdpbj0n77u/JyBpZD0nVzVNME1wQ2VoaUh6cmVTek5UY3prYzlkJz8+DQo8eDp4bXBtZXRhIHhtbG5zOng9ImFkb2JlOm5zOm1ldGEvIj48cmRmOlJERiB4bWxuczpyZGY9Imh0dHA6Ly93d3cudzMub3JnLzE5OTkvMDIvMjItcmRmLXN5bnRheC1ucyMiPjxyZGY6RGVzY3JpcHRpb24gcmRmOmFib3V0PSJ1dWlkOmZhZjViZGQ1LWJhM2QtMTFkYS1hZDMxLWQzM2Q3NTE4MmYxYiIgeG1sbnM6ZGM9Imh0dHA6Ly9wdXJsLm9yZy9kYy9lbGVtZW50cy8xLjEvIi8+PHJkZjpEZXNjcmlwdGlvbiByZGY6YWJvdXQ9InV1aWQ6ZmFmNWJkZDUtYmEzZC0xMWRhLWFkMzEtZDMzZDc1MTgyZjFiIiB4bWxuczp4bXA9Imh0dHA6Ly9ucy5hZG9iZS5jb20veGFwLzEuMC8iPjx4bXA6Q3JlYXRlRGF0ZT4yMDIyLTAxLTEzVDE1OjU2OjQ1LjE4MjwveG1wOkNyZWF0ZURhdGU+PC9yZGY6RGVzY3JpcHRpb24+PHJkZjpEZXNjcmlwdGlvbiByZGY6YWJvdXQ9InV1aWQ6ZmFmNWJkZDUtYmEzZC0xMWRhLWFkMzEtZDMzZDc1MTgyZjFiIiB4bWxuczpkYz0iaHR0cDovL3B1cmwub3JnL2RjL2VsZW1lbnRzLzEuMS8iPjxkYzpjcmVhdG9yPjxyZGY6U2VxIHhtbG5zOnJkZj0iaHR0cDovL3d3dy53My5vcmcvMTk5OS8wMi8yMi1yZGYtc3ludGF4LW5zIyI+PHJkZjpsaT5TYWlseSBTaGFoPC9yZGY6bGk+PC9yZGY6U2VxPg0KCQkJPC9kYzpjcmVhdG9yPjwvcmRmOkRlc2NyaXB0aW9uPjwvcmRmOlJERj48L3g6eG1wbWV0YT4NCiAgICAgICAgICAgICAgICAgICAgICAgICAgICAgICAgICAgICAgICAgICAgICAgICAgICAgICAgICAgICAgICAgICAgICAgICAgICAgICAgICAgICAgICAgICAgICAgICAgICAKICAgICAgICAgICAgICAgICAgICAgICAgICAgICAgICAgICAgICAgICAgICAgICAgICAgICAgICAgICAgICAgICAgICAgICAgICAgICAgICAgICAgICAgICAgICAgICAgICAgIAogICAgICAgICAgICAgICAgICAgICAgICAgICAgICAgICAgICAgICAgICAgICAgICAgICAgICAgICAgICAgICAgICAgICAgICAgICAgICAgICAgICAgICAgICAgICAgICAgICAgCiAgICAgICAgICAgICAgICAgICAgICAgICAgICAgICAgICAgICAgICAgICAgICAgICAgICAgICAgICAgICAgICAgICAgICAgICAgICAgICAgICAgICAgICAgICAgICAgICAgICAKICAgICAgICAgICAgICAgICAgICAgICAgICAgICAgICAgICAgICAgICAgICAgICAgICAgICAgICAgICAgICAgICAgICAgICAgICAgICAgICAgICAgICAgICAgICAgICAgICAgIAogICAgICAgICAgICAgICAgICAgICAgICAgICAgICAgICAgICAgICAgICAgICAgICAgICAgICAgICAgICAgICAgICAgICAgICAgICAgICAgICAgICAgICAgICAgICAgICAgICAgCiAgICAgICAgICAgICAgICAgICAgICAgICAgICAgICAgICAgICAgICAgICAgICAgICAgICAgICAgICAgICAgICAgICAgICAgICAgICAgICAgICAgICAgICAgICAgICAgICAgICAKICAgICAgICAgICAgICAgICAgICAgICAgICAgICAgICAgICAgICAgICAgICAgICAgICAgICAgICAgICAgICAgICAgICAgICAgICAgICAgICAgICAgICAgICAgICAgICAgICAgIAogICAgICAgICAgICAgICAgICAgICAgICAgICAgICAgICAgICAgICAgICAgICAgICAgICAgICAgICAgICAgICAgICAgICAgICAgICAgICAgICAgICAgICAgICAgICAgICAgICAgCiAgICAgICAgICAgICAgICAgICAgICAgICAgICAgICAgICAgICAgICAgICAgICAgICAgICAgICAgICAgICAgICAgICAgICAgICAgICAgICAgICAgICAgICAgICAgICAgICAgICAKICAgICAgICAgICAgICAgICAgICAgICAgICAgICAgICAgICAgICAgICAgICAgICAgICAgICAgICAgICAgICAgICAgICAgICAgICAgICAgICAgICAgICAgICAgICAgICAgICAgIAogICAgICAgICAgICAgICAgICAgICAgICAgICAgICAgICAgICAgICAgICAgICAgICAgICAgICAgICAgICAgICAgICAgICAgICAgICAgICAgICAgICAgICAgICAgICAgICAgICAgCiAgICAgICAgICAgICAgICAgICAgICAgICAgICAgICAgICAgICAgICAgICAgICAgICAgICAgICAgICAgICAgICAgICAgICAgICAgICAgICAgICAgICAgICAgICAgICAgICAgICAKICAgICAgICAgICAgICAgICAgICAgICAgICAgICAgICAgICAgICAgICAgICAgICAgICAgICAgICAgICAgICAgICAgICAgICAgICAgICAgICAgICAgICAgICAgICAgICAgICAgIAogICAgICAgICAgICAgICAgICAgICAgICAgICAgICAgICAgICAgICAgICAgICAgICAgICAgICAgICAgICAgICAgICAgICAgICAgICAgICAgICAgICAgICAgICAgICAgICAgICAgCiAgICAgICAgICAgICAgICAgICAgICAgICAgICAgICAgICAgICAgICAgICAgICAgICAgICAgICAgICAgICAgICAgICAgICAgICAgICAgICAgICAgICAgICAgICAgICAgICAgICAKICAgICAgICAgICAgICAgICAgICAgICAgICAgICAgICAgICAgICAgICAgICAgICAgICAgICAgICAgICAgICAgICAgICAgICAgICAgICAgICAgICAgICAgICAgICAgICAgICAgIAogICAgICAgICAgICAgICAgICAgICAgICAgICAgICAgICAgICAgICAgICAgICAgICAgICAgICAgICAgICAgICAgICAgICAgICAgICAgICAgICAgICAgICAgICAgICAgICAgICAgCiAgICAgICAgICAgICAgICAgICAgICAgICAgICAgICAgICAgICAgICAgICAgICAgICAgICAgICAgICAgICAgICAgICAgICAgICAgICAgICAgICAgICAgICAgICAgICAgICAgICAKICAgICAgICAgICAgICAgICAgICAgICAgICAgICAgICAgICAgICAgICAgICAgICAgICAgICAgICAgICAgICAgICAgICAgICAgICAgICAgICAgICAgICAgICAgICAgICAgICAgIAogICAgICAgICAgICAgICAgICAgICAgICAgICAgPD94cGFja2V0IGVuZD0ndyc/Pv/bAEMABwUFBgUEBwYFBggHBwgKEQsKCQkKFQ8QDBEYFRoZGBUYFxseJyEbHSUdFxgiLiIlKCkrLCsaIC8zLyoyJyorKv/bAEMBBwgICgkKFAsLFCocGBwqKioqKioqKioqKioqKioqKioqKioqKioqKioqKioqKioqKioqKioqKioqKioqKioqKv/AABEIAWECxAMBIgACEQEDEQH/xAAfAAABBQEBAQEBAQAAAAAAAAAAAQIDBAUGBwgJCgv/xAC1EAACAQMDAgQDBQUEBAAAAX0BAgMABBEFEiExQQYTUWEHInEUMoGRoQgjQrHBFVLR8CQzYnKCCQoWFxgZGiUmJygpKjQ1Njc4OTpDREVGR0hJSlNUVVZXWFlaY2RlZmdoaWpzdHV2d3h5eoOEhYaHiImKkpOUlZaXmJmaoqOkpaanqKmqsrO0tba3uLm6wsPExcbHyMnK0tPU1dbX2Nna4eLj5OXm5+jp6vHy8/T19vf4+fr/xAAfAQADAQEBAQEBAQEBAAAAAAAAAQIDBAUGBwgJCgv/xAC1EQACAQIEBAMEBwUEBAABAncAAQIDEQQFITEGEkFRB2FxEyIygQgUQpGhscEJIzNS8BVictEKFiQ04SXxFxgZGiYnKCkqNTY3ODk6Q0RFRkdISUpTVFVWV1hZWmNkZWZnaGlqc3R1dnd4eXqCg4SFhoeIiYqSk5SVlpeYmZqio6Slpqeoqaqys7S1tre4ubrCw8TFxsfIycrS09TV1tfY2dri4+Tl5ufo6ery8/T19vf4+fr/2gAMAwEAAhEDEQA/APe7vVNQXWZbDTrG2n8m3jmd57povvs4AAEbZ/1Z9OtN+2eIP+gXpv8A4MpP/jFEX/I46h/14Wv/AKMuK0qU58rtYIxur3M37Z4g/wCgXpv/AIMpP/jFH2zxB/0C9N/8GUn/AMYrSoqPaeQ+TzM37Z4g/wCgXpv/AIMpP/jFH2zxB/0C9N/8GUn/AMYrSoo9p5ByeZm/bPEH/QL03/wZSf8Axij7Z4g/6Bem/wDgyk/+MVpUUe08g5PMzftniD/oF6b/AODKT/4xR9s8Qf8AQL03/wAGUn/xitKij2nkHJ5mb9s8Qf8AQL03/wAGUn/xij7Z4g/6Bem/+DKT/wCMVpUUe08g5PMzftniD/oF6b/4MpP/AIxR9s8Qf9AvTf8AwZSf/GK0qKPaeQcnmZv2zxB/0C9N/wDBlJ/8Yo+2eIP+gXpv/gyk/wDjFaVFHtPIOTzM37Z4g/6Bem/+DKT/AOMUfbPEH/QL03/wZSf/ABitKij2nkHJ5mb9s8Qf9AvTf/BlJ/8AGKPtniD/AKBem/8Agyk/+MVpUUe08g5PMzftniD/AKBem/8Agyk/+MUfbPEH/QL03/wZSf8AxitKij2nkHJ5mb9s8Qf9AvTf/BlJ/wDGKPtniD/oF6b/AODKT/4xWlQSFUliAAMkntR7R9g5PMzftniD/oF6b/4MpP8A4xR9s8Qf9AvTf/BlJ/8AGKxfCPjmLxf4i1+0sYCtjpRgjimdSGnZg5Zh/s4C7fUc9wAz4ga/r3hvSLnVdK/s6GxsbSSaeW9iaUyy5AiiRVdMZOcsc9VwDzV3lzctlcmyte5u/bPEH/QL03/wZSf/ABij7Z4g/wCgXpv/AIMpP/jFYXhbWfEc8NhdeLpdItrfUrWJ7dIY2hk+0PlvJ+eRtxCDPABPPpWzJ4s8Ow7PN1/S03q7JuvIxuCZDkc8hdrZ9MHPSk5NO1vzGku5J9s8Qf8AQL03/wAGUn/xij7Z4g/6Bem/+DKT/wCMVnav4lRk0lfDus6A0t/cptW9u+LmDJD+TsPzPnAHUeta39t6V/bH9k/2nZ/2ljd9j+0L52MZzszu6c9OlHPLt+Ycq7kX2zxB/wBAvTf/AAZSf/GKPtniD/oF6b/4MpP/AIxTofEOi3OpHTrfV7CW9DvGbZLlGkDJ95doOcjuO1YXw+8S6n4o0jUNS1M2f2VL6WCyltomjEsUZx5hDO3U56HtRzSte35hyq9rm39s8Qf9AvTf/BlJ/wDGKPtniD/oF6b/AODKT/4xXL6H4u1rxzdXk/hNLGw0S0me3TUL+B7hr1xt5jjV02oOfmLHOV4BDAb0OvrpOi28/ja80zR7qZ3Xa90qR8MdoVnI3HbtJ/HgdKblJaWVwST6lr7Z4g/6Bem/+DKT/wCMUfbPEH/QL03/AMGUn/xinT+INGtb2WzudWsYbqGIzywSXKK8cYGS7KTkKBzk8Ypy65pLxwyJqdmyTwtPCwuEIkjX7zqc8qMjJHAzU877fmPlXcj+2eIP+gXpv/gyk/8AjFH2zxB/0C9N/wDBlJ/8You/Emh2Fjb3t9rOn21pdDME810iRzDGcqxOG454rB8QeKr/AE34gaJollJYi0ubea61B7iNt1vDGM794cAAnjlSBjOaalJ9PzE0l1N77Z4g/wCgXpv/AIMpP/jFH2zxB/0C9N/8GUn/AMYpI/EuhS29vcRa1pzw3LMsEi3aFZSvLBTnDEY5x0rnbr4h6bqlrNH4S1zQvtsd6tqjandBIrg/KXEe07mOGwCBgnpkUKUn0/MLJdTo/tniD/oF6b/4MpP/AIxR9s8Qf9AvTf8AwZSf/GKkl1vSoNWj0ufU7OPUJRujtHuEEzjnkJnJ6Ht2NQDxV4eMcrjXtM2QzCCRvtkeEkOcIeeGODx14NLnl2/MfKu4/wC2eIP+gXpv/gyk/wDjFH2zxB/0C9N/8GUn/wAYp2o+IdF0eVYtX1ewsJGTeqXVykRK5xuwxHGeM1hr4k1Sf4sv4ctfsj6bb6cLu6cwt5sbs21U378ZP3vu9KalJ9PzFypdTa+2eIP+gXpv/gyk/wDjFH2zxB/0C9N/8GUn/wAYrlfiF411XwXf6feW8Ntc6KHj/tQGBzNbRs+3zA4cDnOAu08jrzx0Md7qk/ix44LrTzo0Nqk0n7hjKzPuwBIH24+Xcfl6EeuQ+Z2vZfiKyva5Z+2eIP8AoF6b/wCDKT/4xR9s8Qf9AvTf/BlJ/wDGKhHi/wANHT2vx4h0o2ayCE3AvY/LDkZC7t2N2Ocdalu/Euhae0y3+tadbNBs80TXaIY94yu7J4yOmetTzy/l/MfKu4v2zxB/0C9N/wDBlJ/8Yo+2eIP+gXpv/gyk/wDjFLJ4i0SLT5b6XWLBLOGXyZLhrpBGj/3C2cBuenWuc8Z+MrjT9K0qXwhdabfXOpanHYRB1M8bEkhjlHXG3ByecdDjrTUpN2t+YNJdTovtniD/AKBem/8Agyk/+MUfbPEH/QL03/wZSf8AxiqvjC/1bTfDktz4eFtJqAdFhhuYmkWZmOAmFdSDkg5ycAHg1gaP4y1XxX4J0PUtAewttQvbkW13Hd27yJG6hjKAA6kYCMwBJyMDjOaak2r2X4g0k7XOp+2eIP8AoF6b/wCDKT/4xR9s8Qf9AvTf/BlJ/wDGKSfxLodndzWd7rWnQXdvH5k8Ml0iPGuAdzKTlRgg5PY1X0DxhofiW3SbSdQhlEskqQqZFDyiMgMwTO7AyOoHBB6EZnnla9vzDlXcs/bPEH/QL03/AMGUn/xij7Z4g/6Bem/+DKT/AOMVPa6vpt9LHHZaha3EksPnxpFOrl487d4APK54z0zVOPxb4cl0+a/i1/S3s4GCS3C3sZjjY9AzZwCfQ0c8u35j5V3JftniD/oF6b/4MpP/AIxR9s8Qf9AvTf8AwZSf/GK57xt43OleE/t/hO703UL972CzhiZvOR5JCMIdjgg7Tu+nbnNdLpWs6drFuz6XqdlqIiISWSzmWRVbHQ7ScfQmm5SSvb8xWV7XI/tniD/oF6b/AODKT/4xR9s8Qf8AQL03/wAGUn/xiue1L4i2Vkmragu3+xdDkMN7dY3PPPjHkQrkDcGZcsTgfdwcllSw1Lx3qugLrMVppFm1yiyW+kzJI8iowGC8+9RkZLbfL6ALkE5DvK12kKy7nRfbPEH/AEC9N/8ABlJ/8Yo+2eIP+gXpv/gyk/8AjFcm3jjU9O+KsXh/V47RtHvi8NldxQsjCdVV/LYl2DfK2MgDLdhinaxrnjKy0DVL/Tn0i7uI714dOtBYy7rhYywcMfO4b5XPHGIzx8wCv3tNFr6hp3Z1X2zxB/0C9N/8GUn/AMYo+2eIP+gXpv8A4MpP/jFc5pni3UPFPhnw5qfhuewhk1J9t0l1bvL5e1WMm0LIpGGUgZzncvTNb3hbWx4h8OwX52CXc8Mypwokjco+AeQNykjPYipcpLdDST6kv2zxB/0C9N/8GUn/AMYo+2eIP+gXpv8A4MpP/jFaVFT7TyHyeZm/bPEH/QL03/wZSf8Axij7Z4g/6Bem/wDgyk/+MVpUUe08g5PMzftniD/oF6b/AODKT/4xR9s8Qf8AQL03/wAGUn/xitKij2nkHJ5mb9s8Qf8AQL03/wAGUn/xij7Z4g/6Bem/+DKT/wCMVpUUe08g5PMzftniD/oF6b/4MpP/AIxR9s8Qf9AvTf8AwZSf/GK0qKPaeQcnmZv2zxB/0C9N/wDBlJ/8Yo+2eIP+gXpv/gyk/wDjFaVFHtPIOTzM37Z4g/6Bem/+DKT/AOMUfbPEH/QL03/wZSf/ABitKij2nkHJ5mb9s8Qf9AvTf/BlJ/8AGKPtniD/AKBem/8Agyk/+MVpUUe08g5PMzftniD/AKBem/8Agyk/+MUfbPEH/QL03/wZSf8AxitKij2nkHJ5mb9s8Qf9AvTf/BlJ/wDGKPtniD/oF6b/AODKT/4xWlRR7TyDk8zN+2eIP+gXpv8A4MpP/jFH2zxB/wBAvTf/AAZSf/GK0qKPaeQcnmZv2zxB/wBAvTf/AAZSf/GKPtniD/oF6b/4MpP/AIxWlRR7TyDk8yLSr7+09Gsr/wAvyvtVuk2zdnbuUHGe+M0VV8K/8ido3/XhB/6LWitpK0miYu6TGRf8jjqH/Xha/wDoy4rSrNi/5HHUP+vC1/8ARlxWlWFX4vu/IuGwUUUVmWFFFFABRRRQAUUUUAFFFFABRRRQAUUUUAFFFFABRRRQAUUUUAFczrltqniK/k0I219pukGMtPqUT27faDxiJUYsdpyd25OQpXGDk9NXMeJfhx4U8YalHf8AiLSvtl1HCIUk+0Sx4QEsBhGA6sefeqg0nqTK7Whg/DTQ9e0jxN4pu9dsL2GPVLiOeC4u5bZnkCgghxC2A3PYYqT4q6brniOwsdD0rQrq9097yGbUZo54EDQK2WjUPIpLcA84HA564d/wo34d/wDQvf8Ak7cf/HKP+FG/Dv8A6F7/AMnbj/45W/PDn57/AIf8Ejlly8v6/wDAI/iHarq154bbQrW2vdZ0rW7Z3gEqiSCPYXZXIzsUqFPpwCAeKxb+wupfiClloekRaq/hu0aYhRFFEmo3bFxMys3CqF3fLuYZGB3re/4Ub8O/+he/8nbj/wCOUf8ACjfh3/0L3/k7cf8AxynGpTStd/d/wROMm/6/yMTT/AfiDQ9U8LaXY2qXOn6Fp07x3zzIIhfTFtzMhO8qoJK/KeSBxyRPovh/xBZfDiSyt/DAtPElvaXEialc3EDSyXcvDPE6sx3MM5ZymMIOR93U/wCFG/Dv/oXv/J24/wDjlH/Cjfh3/wBC9/5O3H/xyh1Yvd/h/wAEOR/0/wDgHL6Z4V8VabJdS6Z4V+xtZeHRpmlb7yDJkYlpZDtY/vDI2eoGNx3ZOD3fhDw/PZ/DK28P3do2mstmbYqZEdwWXDOdhKglixADHjGTkkDM/wCFG/Dv/oXv/J24/wDjlH/Cjfh3/wBC9/5O3H/xylKpCXX8P+CCjJf1/wAAi8A6d4l8H+EYfC7+H99xbSyrFqS3EX2WRWcsJGG/zf4iNuznAGQDkZXiDwd4p1nxJ4lQ2iOdYihsbXVpZE8myswu6ZVj3eZuZu2MEnO4Vtf8KN+Hf/Qvf+Ttx/8AHKP+FG/Dv/oXv/J24/8AjlHtIczlf8P+CHLK1v1/4BzXiX4f69f3XiG9s9Okna00y30nQreS6j/fRgjfKxzgMpy67sfMAcZCkaq/D7ULbW/CF/odjZ2D6fps1nfvO4c7CipGCAP3jjc7Y+7kEbsYJ0P+FG/Dv/oXv/J24/8AjlH/AAo34d/9C9/5O3H/AMcp+1ja1/w/4Icj7f19xzl/8PdefUtd0zT9PRbW+tbfTNP1KaVGhsLBUzIgTd5hdiP7uCTksKuP4e8Vaf4i8S3mlaK8zrpMel6LcS3kQAhROf4t28yFWwQq4DEtnAbX/wCFG/Dv/oXv/J24/wDjlH/Cjfh3/wBC9/5O3H/xyj2se/4f8EOR/wBP/gHK6T4U8Z6Xf6U9voAFvoehSw6dG13CNt5Ip3u2GPzMfT5cEfN1zb0fwh4jtYvAunS6FtsNJd7y9L3UR/0o52u+GJO0s7DbuzlRkZO3f/4Ub8O/+he/8nbj/wCOUf8ACjfh3/0L3/k7cf8Axym6sX/w3/B8xcj/AKf/AADnvDfgTxHcf2RH4gsmtWsNVfWdTu3njkk1G6BYRCPaxIQLjO/b1wB1NZ5+HPiO5h069v8ARzc3+pa6+parE95GFtow37uLIJ+RsKWKBmAUYBIArsf+FG/Dv/oXv/J24/8AjlH/AAo34d/9C9/5O3H/AMco9tG97/h/wQ5H/T/4By174R8WX2tXTXvhz7YLvxCLu5u3u4Ar2kX/AB7xL824Jx82V3AHgMSQOu8DaVrdp4t8Uanr2lG2k1K8LR3DXEbhoEAWFFCknpvJ3bcfLgHJ2xf8KN+Hf/Qvf+Ttx/8AHKP+FG/Dv/oXv/J24/8AjlKVSDVr/h/wRqMk7/1+Rpx6TL4nt/Elt4i0i4sYdQAtovPkifdAqEKRsdsEOXbnGNw965CfwR4rtvhjpGikyXs4v4zqqW0kQkktY/kRE8392w2JHlX4PQ5ya3P+FG/Dv/oXv/J24/8AjlH/AAo34d/9C9/5O3H/AMcpKcFs/wAP+CDi3/w//AMrXPCGqS6BpVjpegXEkV1q63+sC4vYWuJwmCDKxITLMBkJuCgfL6VmL4O8Zatpus2ms6WsVx4h1yF7+7FxERHZRkEBVDEkAKAAeSGII4yeo/4Ub8O/+he/8nbj/wCOUf8ACjfh3/0L3/k7cf8AxymqsUt/w/4Icj/r/hjI8S+C9T03xMs/hHw4t3YQ6fcS2sS3MaompS4UyyCRgT+7UYIz83pkmo9F8J+INP1rwTFJ4fI03QtPfObuLCXUhKu0gBzwoLDaG+ZgM9WG3/wo34d/9C9/5O3H/wAco/4Ub8O/+he/8nbj/wCOUe1ja1/w/wCCHI73/r8job839z4w0uD+yrhtNthJO16JItgm2FUBUvvIwz9F6le2SOZsPAuq6B4k8W32hSxJb31u1xpULEbIryRSHJHb5kXnptfA6Gpf+FG/Dv8A6F7/AMnbj/45R/wo34d/9C9/5O3H/wAcqFKCVk393/BG1J9Px/4BzFr4K1+08AX32XQr6TxK2mGzSW/vrfIeZh55hEZ24OXcySESE4GWzxrt8NJrvVNDmigGlWtlokllcCFl86YkBUjZlP8AdyWIJAJIBOd1aH/Cjfh3/wBC9/5O3H/xyj/hRvw7/wChe/8AJ24/+OVftY9/w/4IuR9v6+45d/hx4iX4Z6XY3FlBJqEIhs7qCynUTPYmXzJo/MYqu4nbkZ2/IcE7jVzUvA3iK/0vXZks47e68TXVrZtaxSIF02wj4y2CAzbRghd3X5c81uf8KN+Hf/Qvf+Ttx/8AHKP+FG/Dv/oXv/J24/8AjlP2se/4f8EXI/6f/AMnxZ8NLm61PT7HwpavpdhAJ9QnvoZkDPe+SI4ThjkNlclgO5IIYk12ngmz1Wz8F2VtrVna6depEA0FrgqjY5Y4+UszbmOOPmxk9Tg/8KN+Hf8A0L3/AJO3H/xyj/hRvw7/AOhe/wDJ24/+OVEpwlHlbf3f8EpRad0v6+45pPh9e6/+z7ZaNYtGuqRztdypO3yzTrK+9GI78kfVRnHUehQazr08KOPC9zYiGPfNDPPbu8xxxHDsl29erOVAAGAc/Lhf8KN+Hf8A0L3/AJO3H/xyj/hRvw7/AOhe/wDJ24/+OU5ThLd/h/wQUZL+v+AQ+IPB2peJvhdBGtq2n+Jbaf8AtGASvGTHd+YXYBlJXa2WC88ArnGMDetLO+g8Q6VYvplw2nabaNi/MkWyS4Kgbtu/fnHmDO3kue3Jx/8AhRvw7/6F7/yduP8A45R/wo34d/8AQvf+Ttx/8cpc0GrXf3f8EOWXb+vuKem6FJ8NrzxPqvM2nyyl9GsIhuZpZgpeJVHJJdI1A9AT610vw88O3PhbwPY6bqMnm33zzXTZz+9kYuwz3wTjPtWN/wAKN+Hf/Qvf+Ttx/wDHK6jw14U0Xwfpslh4ds/sdrJMZnj815MuQFJy5J6KOPalOcWtH+H/AARxi0zXooorA0CiiigAooooAKKKKACiiigAooooAKKKKACiiigAooooAKKKKACiiigAooooAoeFf+RO0b/rwg/9FrRR4V/5E7Rv+vCD/wBFrRXXP4mYR+FDIv8AkcdQ/wCvC1/9GXFaVZsX/I46h/14Wv8A6MuK0qwq/F935GkNgooorMsKKKKACiiigAooooAKKKKACiiigAooooAKKKKACiiigAooooAKKKKACiiigAooooAKKKKACiiigAooooAKKKKACiiigAooooAKKKKACiiigAooooAKKKKACiiigAooooAKKKKACiiigAooooAKKKKACiiigAooooAKKKKACio7i5gtITLdzRwRjq8jhVH4mmWt9aX8ZksbqG5QHBaGQOB+Ip2driur2J6KKKQwooooAKKKKACiiigAooooAKKKKACiiigAooooAKKKKACiiigCh4V/5E7Rv+vCD/0WtFHhX/kTtG/68IP/AEWtFdc/iZhH4UMi/wCRx1D/AK8LX/0ZcVpVmxf8jjqH/Xha/wDoy4rSrCr8X3fkaQ2CiiisywooooAKKKKACiiigAooooAKKKKACiiigAooooAKKKKACiiigAooooAKKKKACiiigAooooAKKKKACiiigAooooAKKKKACiiigAooooAKKKKACiiigAooooAKKKKACiiigAooooAKKKKACiiigAooooAKKKKACiiigAqO4uYbSEy3MixxjqzH9KqS6kZJmt9NjFzMpw7k4jiP+03r7DJ+nWnW+mhZhc3khurkdHYYWP8A3F/h+vX1NXypayM+a+kTyPxBrMuv6vLcyuzQK5W2jJ+VEHAIHqcZJ9/aqlhqFzpF8l9YOUljOSAcCRe6t6g//Xp+p6bJo2qz6dMu0wsfL/2oz91h+H65FV44ZbmZLe2RpJpW2RooyST/AJzX1kI0vYpL4bHzc5VPatv4rnuNhew6jYQ3dswaOVQwIPT2/CrFc/Ywx6Lptpc2B82w8iNZ1UdAFAEoHrgfMPTnqOd9WV0DIwZWGQQcgivlKkVF6bH0kJNrXcWiiiszQKKKKACiiigAooooAKKKKACiiigAooooAKKKKACiiigCh4V/5E7Rv+vCD/0WtFHhX/kTtG/68IP/AEWtFdc/iZhH4UMi/wCRx1D/AK8LX/0ZcVpVmxf8jjqH/Xha/wDoy4rSrCr8X3fkaQ2CiiisywooooAKKKKACiiigAooooAKKja4hS4jt3mjWaVWaOMsAzhcbiB1IGRn0yKkoAKKKKACiiigAooooAKKKKACio5bmCCSGOaaON7hzHCrsAZG2ltqjudqscDspPapKACiiigAooooAKKKKACiiigAoqMXEJumthNGZ1QSNFuG4KSQGx1wSCM+xqSgAooooAKKKKACiiigAooooAKKKKACiiigAooooAKKKKACiiigAooooAKKKKACiisXW/GPh7w5fWlnrmr2tlc3jBYIpXwz5O0HHYZ4yePegRtUVm/8JJof/QZ0/wD8Ck/xqW31vSry4WC01OznmbO2OK4RmOBk4APpRZgXaKCQqkscAckntWcb+a+OzSVUx9DdyD5B/uj+P+Xv2qoxchOSRau72CyRTO3zOcIijczn0AHJqp9nu9R5vS1rbHpbxt87j/bYdPov5npVi00+K1dpctNcOMPPKcu3t7D2GBVqq5lH4fvJ5XL4hsUUcESxQIscajCqowAPpTqKKzLKOqaLp2swrHqdqk4Q5UnIZfowwR+BrMGg6b4bEd9pdt5PlyDz2Ls5aM8HJYk4GQ34VqanrGn6PCsmpXSQKxwoOSzfQDk/hUGn65pGvxyw2N1HcZUh4iCrbTwflYA4963g6ijfXl/Aykqbl05vxHwf8S/U2tjxb3RMkPor9XT8fvD/AIFUcf8AxJrpYW/48J2xEf8Ang5/g/3T29Dx6UlvA17pDWcshW5tH8sS91deUf8AEbT+JFWraSPVNNZLqJcnMU8J52sOCP8AA+mDTem/z/R/1+olrt8v1X9foXKKzrKaS0uRp145dsE28zdZUHY/7Q7+o59caNYyjys1jK6CiiipKCiiigAooooAK4C++JV5Dp+ta1p2gLeaDol09vd3LX3lzyeWwEzwxeWVcLzjdIu7aenFd/XAXPw1vH0/WdEsvEC23h/Wrp7i5tjY77iMSMGlSObeFVWOfvRsQGOD0NNW6iN6bx34bt47x5dSwtlLbwzkQSHY84UxDhedwdeRkDPOKxtO+K+izHXn1iO40q20fUfsJuJreYpJkoFYnywFJZ8bckgfMeDmquufCqTUtQ1FtP1pLGw1GexuJrZrIysHtQqqFfzBhSqAEbScjOeoNHxf8OtZfRfEEPh+6S6/tnWbbUlg8lUkt3V4vMbzGfaygR7gu0Htk09A1OxtPHfh288gQ30iyT339nJFNayxSLcbC/lsjKGQ7QTlgB71kXfxT0iPxFoWnafBc38GrXNzbPcw20x8h4AcgKIyX+ZSDjG0fMfl5qq/wyu3lbUm1yH+3W1lNWNz9gP2fckRiEfk+bu27D18zOec9qNL+F9xpJ0Ke311Jb3R9Su73zprLKzLchg6FFkGCA3DZxkfd7UaBqehUUUVIwooooAoeFf+RO0b/rwg/wDRa0UeFf8AkTtG/wCvCD/0WtFdc/iZhH4UMi/5HHUP+vC1/wDRlxWlWbF/yOOof9eFr/6MuK0qwq/F935GkNgooorMsKKKKACiiigDzhj4XbxtrC+Nza/2yL6I6St4374QeXH5ZtB97mQSZ8v5t+c9qXTfE9/c+LLeAeIPOv5NUuLa78PeTF/olsnmBZeF81eFjbzGYo3mcD5lx6NRTuI8w0fVPFt3pOmGLXXu7/WvDk+oQrLbQqkFxEbfYF2oDtbzyG3FuRkbelPfxrd6rpUGtrrDaF4f1LUEt4754Yw1pEsDFmJkUqjPODHlwVAUAAMwx6ZRRcDyqXWdXurK21C1u2vr2HTda/s69WBQboIYxDKFA2sWwpyBtbqBggUzxD4oTxTomuJpevh9OtNJsbt57IROqOZpfNJYqw4VFyP4dvbmvWKKLgea32uvY3d9NZa1EbOSLTEm14QwMywu0wacuqBD0ABYFF3E4xnK2et61qY0+xsPEkk1nc65NaQa1FbwM95bLZvLuHyeUSsoaPeq4PldDzn0mii4GL4QvrrUfC9vNqE32i5SSaCSYqFMpjlePeQAACQmTgAZPAFbVFFIAooooGeLeDdI1TQfAkXirS9O0vTDHoJQCxV5pL52KMLidAiZaNUYhQXJ8xhuHfa/4Su7ig1Iab4t/tbRo5rJH8QeXbyfYvMdlmXfGgiO1RG2WUhPNy+VwK9Pop3EeaWGpz6rqfh/zNT/ALbsYfE00VlqhSMfa4v7MuCxzGAj7ZGkTcoAOzHUEnLttd16PwNHfafqv2CPSvBdlrAtbazgWOaYxzMykbPljIjA2ptxxtK859foouB5jN4p1O6+LUmhL4h+wJb6lGn2Tz7FEmt/s6SFfLkBuGkaRsZUBNnQgjNenVhv4N0WTWjqjwXBna4W5MX22f7OZVAAkMG/ytw2g525yAevNblDAKKKKQzzbw2/hr+1pW1kWr+OE1G5PlzOPt3338tU/jEPklMY+TYcn+Ks238aaq2h3d3Y+J/7UvP7Bu72+tfs0Q/si5SMMiYVQ0eGLLsmLsdn+y2fW6KdxHnl3q/iDRH1gSatNqS6ZaWGrSGS2iDGF5ZhcRKEQfKEgJXq2eCxqvc+KLx4tNudY8Uf8I3pWqfa7u3v/LgX5A6C3h3yoyDdETIQQWY5CnCnPpdFFwPKZvEGr29u2uXL/Zb4aLpkt1IYNgSM3j+axR87B5ZckHlRnoRRr3iCPXo7q+j8Tmz0fTvEVqkV/beR5UcbW8RLeZIjKV8x2wx4+bHIwK9WoouB5rda69jfXkUutRaDps2syxz6ukMCEYtYmQF3QxguSfncEkKFGMrhLXV/Eesw6Xbpr81iJNN1C4+1wWkO+7WG4jjt5sSIyqHjYOQAAd/GOMel0UXAz9Av5NU8NaZqE4VZbu0incL0DMgY4/OtCiikAUUUUDPN7vX9ff4iahY6Ze6nMbXU7OGOwTT1az+zPFE87ST+VlGCtIwHmA5CgKc4OvF46uRNa3V7pCQaLfSzw212l3vm3RJI+Xh2AKrLC5BDsfu5AydvUW2m2tneXl1bRbJr6RZbhtxO9lRUBwTgfKqjjHSs208HaHZaqdQt7R/O3SMsb3ErwxNISZGjhZjHGzZbJVQTub+8cvQRyniHxlq7+DdZW703+yJbvw5eajptxa35lkURxDIfCL5cg82MjaXGd2G4GdW68WX1nqt9Z2Vk2oXDa2mmQR3F0sUaZsUud25YyQvJBB3t1IJ4QX7fwF4dtbK8tI7KV7e8s2sZI5ryaUR27DBii3OfKQj+GPaOF/ujGifD+mG/N4bb/SGvRfl/Mb/XiAQB8Zx/qgFx074zzRoBxur/ABTbS9JtJ202yjvJkvt8F5qXkxmS0m8l4Yn8tjLIz/cXau4AnjpXe2Us81hby3cKwXDxK0sSOXEbEcqGIBIB4yQM+g6Vx/iL4ePqN1azaBqp0jyRdF1Bufma4lEzsGhuIm+/uO1iy8jCjHPX2Nu9pp9vbS3Ely8MSxtPLjfKQMFmx3PU0OwE9FFFIYUUUjusaFpGCqOpY4AoAWisjxN4lsvCeitqepR3UsIdYwlrA0sjM3AAUVjeFvGms+J9XZX8F6ppGk+UzLfakyRSM+RhfJ+9gjJznt70WEdhRXJeKvB+r+JtUjMPjHVNG0sQhJLPTVSOR3ycv52CwyCBjHbPetXwv4XsfCWkHT9MkupY2lMzyXdw00juQASWb6DgYFAHJ3nxn0R7yax8MaXrPia8hcxvHpti5SNgcEM7YA+vNdhrsOsX3h2VPDl5FpupSBDFPcw+YsXzDdle525H1rTRFjXbGqqvXCjAqO5u7eygae8uIreJeskrhVH4mmBx/hvwJq2ma5FrPiLxtrGuXkasBAdsFp8wwT5K5GeeDmtrxTp9lPoOo3k1nBJdQ2M6xzvEpdAUPAbGRRpXjTw1rury6Zomt2WoXkURleK1mEm1AQCcrkdWA696xvGXiDWku5PDujeEdR1QXltte/V0it4Q+VPzMeSvUrx29aNbgclV7QpWh8TadIkTzMJHxGmMsTE478VJ/wAI1r3/AECJv+/0P/xdaGgaBrFt4ksbm606SCCF3Z3aWM4zG6jhWJ6kVtzIizOuGny3rCTVmVlzlbWM/u1/3v75+vHt3rRAAAAGAOgoorKUnIpRSCikd1jQvIwRVGSzHAFUP7XSbjTYJL0/34xiP/vs8H8M0KLlsDkluaFQXV9bWSg3U6RlvuqT8zfQdT+FVvsuoXX/AB93a2yH/llajn8XPP5AVPa6da2bFreFVdvvSN8zt9WPJ/E07RW7+4m8nsjxfVNSk1nVrjUJm3GVj5f+zGPugfh+pJqvDPNaXEd1auY7iFt8bjsR/Q9CO4q/r+jy6DrEtrKhWFnLW0mPldDyAD6jOCPb3qpY2c2p6hDY2ih5pmCgZ+6O5PsBk/hX1kHT9imvhsfNTVT2rT+K567Z3YkubHUEG2HVLdMj0fbvX81LD8BU9z/xL9SW8HEFwRFcf7LdEf8A9lP1X0rIiiv/AOwVtrRVuPsoVFibCS28iYKj+6w4H93IPfNa9pqNhrdm0QYHzI8SW8nyuARyCDz+NfNSjy67rZ/1/Wx9BGV9Ou6/r+tyze2aX1sYnJRgQySL96Nh0Ye4qLT7x5t9teAJeQY8wDo47Ovsf0ORSaZNIFks7li1xbEKWPWRD91/xAwfcGnahZPOEntWEd3BkxOeh9Ub/ZP+B7Vlt7kv6/4Bpv76LlFV7G8S9t/MVTG6nbJE33o2HVT/AJ561YrNpp2ZommroKKKKQwooooAKw73xloFhcNBcaipkQ4YRRvLtPodoPNZfxE1iaw0uCxtmMb3pYO4OCI1xuA+pYD6ZrzMAKAFGAOgFephMCq8OebsjzcVjHRlyRWp6x/wsDw1/wA/0v8A4Bzf/EUf8LA8Nf8AP9L/AOAc3/xFeUUV2/2XR7v8P8jk/tGr2R6v/wALA8Nf8/0v/gHN/wDEUf8ACwPDX/P9L/4Bzf8AxFeUUUf2XR7v8P8AIP7Rq9kev2fjPQL+4WG31FRI5woljeLcfQFgOa3K8DIDAhhkHqDXpfw61ea+024sLljI1iV2OxyTG2cA/Qqw+mK4sXgVRhzwd0deFxjrS5JLU7GiiivLPSKHhX/kTtG/68IP/Ra0UeFf+RO0b/rwg/8ARa0V1z+JmEfhQyL/AJHHUP8Arwtf/RlxWlWbF/yOOof9eFr/AOjLirUc11MrNFbwlA7IC05BO1iOmw+lctepGM7Pdrs327GtOLcbliiov9N/597f/wACG/8AiKiuLqa0j8y5W0iT1e6I/wDZKx9rFdH/AOAy/wAjTlf9NFqisZtffP7myM3ursB+bIKrzeJL2ISN/Y0rqqAqEkVixz2/T0+tcjzPBp8rnr8/8ivZT7fkdDRWVZa0b+9ktLWKKSWJA0hMjqFz0HKZzx+FaH+m/wDPvb/+BDf/ABFdSrQkrq//AIDL/Inlf9NEtFRf6b/z72//AIEN/wDEUtvN9otYptu3zED4znGRmqjUi5cut/NNfmhOLSuSUUUVoI86j+Kk8kSuuhx4YAjN8f8A43Tv+FoXH/QDi/8AA4//ABuvPo3ZNOgKY3FUUZGRzgf1qTbcf89Yv+/R/wDiq+n+oYf+X8X/AJnzv12v/N+B3v8AwtC4/wCgHF/4HH/43R/wtC4/6AcX/gcf/jdcFtuP+esX/fo//FUbbj/nrF/36P8A8VT+oYf+X8X/AJh9dr/zfgd7/wALQuP+gHF/4HH/AON0f8LQuP8AoBxf+Bx/+N1wW24/56xf9+j/APFUbbj/AJ6xf9+j/wDFUfUMP/L+L/zD67X/AJvwO9/4Whcf9AOL/wADj/8AG61/DHjWTxDrDWMmmra7YGmDrceZnDKMY2D+9+leV7bj/nrF/wB+j/8AFVf0XVtQ0LUje2jWzyGFocSwsVwSpPRxz8orKrl9Lkfs46+ppTxtTnXPLT0PcaK57wZr154g0q5uNQWBZIbkwjyEKqRsRuhJ5+Y966Gvn5wdOTjLdHtwkpxUlswoorl/HurX+kaPaS6Zcm2lluxGzhFYlfLdsfMCOqispyUIuTHKSirs6iivGT4611WIbxAQQcEGKDj/AMco/wCE81z/AKGH/wAhwf8AxFcn1yn2ZzfWodmezUV4z/wnmuf9DD/5Dg/+Io/4TzXP+hh/8hwf/EUfXKfZh9ah2Z7NRXjP/Cea5/0MP/kOD/4ij/hPNc/6GH/yHB/8RR9cp9mH1qHZns1Fcz4M8Swarolol9qttcanI0oaPzEEjAO2PkXH8IB4HTmumrrjJSV0dMZKSugrP1//AJFvU/8Ar0l/9ANaFZ+v/wDIt6n/ANekv/oBqK38KXozSHxI8+lhsIWVXtYyzAkBYN3Tr0HuKZt0/wD58/8AyUb/AOJqd/8AkIw/9cpP5pSJPcS7jHDFtDsoLSkE4JH932r8ZTdv+CfWEO3T/wDnz/8AJRv/AImjbp//AD5/+Sjf/E1Pvu/+eEP/AH+P/wATRvu/+eEP/f4//E0Xf9MCDbp//Pn/AOSjf/E1s+F9T0/Srq9aVZII5UiC7bWTkgvngL7is3fd/wDPCH/v8f8A4mjfd/8APCH/AL/H/wCJrrweLqYOsq0NWu7010MqtKNWDgz0m3njuraK4gbfFKgdGwRlSMg81JXK6Brs6nTdJms41XyxB5yzk/cjJzt2jrt9e9dVX6rg8XSxdL2lJ36P1+Z83VpSpS5ZIKKKK6zIKKK4T4paVN4gttH0aO/u7OK6uDv+yzmLzDwoVyOSvzkkfT0qKk404uUv66GlKnKrNQjv/TOzj1Gylvnsory3e7jXe9usqmRVzjJXOQPeuV8TeN9W0nWTpHh/wXq+u3YRX85NsFrz0BmbjPqMVzPhrwPD4GmmHh/UdA0+5YGKWVpVaYjOSpZ1LdQOM9RXRfbfEH/Q26L/AN/Y/wD4iuf63FfZf4f5nV9Rk/tr8f8AI6Hw5ca1eaFFL4nsINO1Fy3mW9tN5qoMnb83c4xn3rj4Pgtot1dJd+LNW1rxNcI29f7Rvm8tG7bUTAH05q/9t8Qf9Dbov/f2P/4ij7b4g/6G3Rf+/sf/AMRR9cj/ACv8P8x/UJfzr8f8jtqr22oWd5LNHZ3cE8kBAlSKUMYyegYA8dD1riNV8M6J4ysbeLx3rtvem2kcrFaaj5MciMF4cJt3YKnHpk+tdL4b8G+H/B0EsHhrSrfT0m2+aYgS0m3ONzHJOMnqe5rphKM48yOOpTlTlys5/Xfilb6Vrlzo2meGfEGt6hbMFkWxsSYlJAIzISABgjnmun0+81HVPDKXUlidJ1GeBiLa5YSeRJzgNt6jODxWnRVGZ59Y+DfHl1qFtd+JPiC4jhlWQ2Ol2CQxtgg7S5yzKcYII6V1viDwzo3iqxis/EOnxX9tFMJ0ilztDgEA8deGP51qUU7gZ+leHtG0KPy9E0my09cYItbdY8/XaBmn63cS2fh/ULm3bZNDayyRtgHDBCQcH3q7Wb4k/wCRV1b/AK8pv/QDS6gcF/wkuvf9Beb/AL8w/wDxFaGga/rFz4ksba61GSeCZ3V0aKMZxG7DlVB6gVztXtCgS58TabDMCUaR8gMVz+6c9RzW7SsRdnpE+qWsEph8wyzj/ljCpd/xA6fU4FRb9Tuv9XHHYxn+KX95J/3yDtH5n6VcgtobWIR20KQoOiooA/SpKz5orZff/X+YcsnuyimkW5cSXZe9lByGuDuAPsv3R+Aq9RRScnLcpRS2CiiipKIrm0t72Ew3kEVxEeqSoGU/gaqNotlFYvb6fbQWWSHQwRKm1xyrYHoafqesafo8KyaldJArHCg5LN9AOT+FR6X4g0rWWZdNvEmdRkoQVYD12sAce9aJVFHmV7fgZtwb5XuQCSR0XVLaIieMeXeW68lwvUD1ZeSPUHHcUy2t7K7uJraREmhf/S7WQHBCv97aw5BDZPH94Vbm/wBB1NbgcQXREc3+y/RG/H7p/wCA1namh0W/t7+Mf6H537zH/LLfw3/AScN7MvvW8fe0XXb/AC/roYy93V9N/wDP+upJe2l/psqX9rMbxLdTvikH7xoz1AYfexgEZGeOvNaFnq9resqKximZdwilG1iPUdmHuCRV2sdLe2hmk0y+jje1bM1t5g4UZ+ZQexUnI9iPSs1JVI2lui+Vwfu7MnvoJba4/tGyQvIABPCv/LZB6f7Q7evT6VJ/Gnh+3kVJdSTcwBwiM+M+pAOPoaxPFOr/ANl6NJFpOr+cJ28jYW8xosg5KyA5BwD1yfTpXnQAVQBwBwK9DD4FV4802cVfGexlaCPb59UgGhz6naSJcwxwPKrI2Q20E4z+Fcn4Z1LW4/EGi2+qavJqkWtaNJqDpJBFGLWRGh4j2KDsPn4w5Y/KPm65wvAmqfYNdazndVs71GEiyH5Q4GQeeBkAg+vHpXY6Z4T8M6dFPHpZljE8AtwU1KZmhiByI4W8zMK89Iyo4HoMcWIw7oTcdzroV1WhzEOsT6ra+M9LjsNYlm+1T5k0kQReUlqqYklZtvmZDlcEMBllXaeSerrCbwfo7+IZddT7fHfTvG8rw6ncxxymMYQNGsgRgAPulcHJyOTW7XKdB558UP8Aj80f/rncfzirh67j4of8fmj/APXO4/nFXll39uu/EU1pa6nNZRxWccqiOONgXZ3GW3KSR8o4BFfTYGVsNH5/mz5/GRviJfI26K5y28S3l1p0U9tYRTulkl1dfv8AywA27Aj+U7idjddo6c88TP4il+0MYrFWs45YI3mafDfvdm0hNpzguM8jjpnpXZ7WFrnL7KV7G7RXOnxG82pXNgIFEeyYRXMLyEFk7EmNVz1ztZsEYqrc6zfPonl2kJcQQW/2i5NwVkDOFPyjHzcEEksOpxnpSdaPQapS6nWV3Hwv/wCPzWP+udv/ADlrh67j4X/8fmsf9c7f+ctc2Yf7tL5fmb4H+Ovn+R6HRRRXy59GUPCv/InaN/14Qf8AotaKPCv/ACJ2jf8AXhB/6LWiuufxMwj8KGRf8jjqH/Xha/8Aoy4q9p3/AB6t/wBdpf8A0Y1UYv8AkcdQ/wCvC1/9GXFXtO/49W/67S/+jGrln/vUf8L/APbTWP8ACfr/AJkWqaibNUigCvcy52BuigdWPsP1P51iiLMvnTM0056yvyfoPQewpxl+03lxdHne5RPZFJA/qfxpa+EznMamIrSpRdoR09fNndRpqMbvcKrzwXMtzG8V2YIk5aNY1PmHPcnoMemD71Yo/su51a1Jt7k2aBgY5gm4sQc9P7vGPcZ+teZg8LWxVTkpK7/BGs5xgrsZLCkuC4+ZTlWBwyn1BHIrR03U5BMtpftuZuIZ8Y3/AOy3o36GsfTYLm2shBfSrLNExRmUH+Hjv16Zz71NcJvt3G1mOMjZ97I5GPfPSuzBY6tl1dwveKdmv66kTpxqRudVVHTv+QXa/wDXFP8A0EU3QtS/tbRbe8KsruuHVl2kMODkdue1O07/AJBdr/1xT/0EV97UkpVYNdn+cTij8L9V+pYooorQR88r/wAg23/7ZfzWpbgbmhXLAM+DtYjPyk9qiX/kG2//AGy/mtTTf623/wCuh/8AQWr7U+SD7Mn96X/v63+NH2ZP70v/AH9b/GpaKdkTdkX2ZP70v/f1v8aPsyf3pf8Av63+NQB7ua4uFhlhjSJwgDRFiflU9dw9af5d9/z82/8A4Dt/8XWCqX2g393+Z3PCqNuerFNpO3vdVdbRa2ZJ9mT+9L/39b/Gj7Mn96X/AL+t/jXNi08WzqLq01yz8uYCRIZbPAjB5C5BycZxmt//AE6PR+kMuoLB05WN5dv5hd36VVOoprmsYVqUqU3BvVOxetbi6sY2Syvr23Rm3MsV1IgJwBkgN1wB+Ver+Bbia68G2ct1NLPKXmBklcuxAlcDJPJ4AFeAWupeK/tkMd7oFt5LOqyTQ3o+RSeW2kZOBzivX9J8Q3Hhr4a6dd2mhalrbPdTRtBp0YeRF82U78EjjgD8a8vMeV0k0rO/a3RnfgeZVGm76d7noFcZ8Tv+QDYf9f4/9FSVP4U8fJ4p1OWwPhrxFo00UJlZtWsPIQgEDAbccn5s/QGuY+MPjrw7o7WOi6lqHkXwmW68swuR5ZSRc7gpHXtnNfO1ot05JHqVdabscjC4S3d3OFV5CT7bjTvtKf3Zf+/Tf4Vn2Gp2eraJc3GnXC3EQMqll9eTj8iKtrqmnvI0a31szqxVlEy5BHUEZ614Li09UePZkv2lP7sv/fpv8KPtKf3Zf+/Tf4VKCCAQcg9CKKnQRF9pT+7L/wB+m/wo+0p/dl/79N/hUtFGgF3w1qlrp/inT7y7MscELuZH8hzgGJ1HAGepFet6R4h0zXWmGl3DTGAKZA0Lpt3Zx94DP3T09K8XruPhf/x+6x/1zt/5y134Oq1L2a2OzDVGpcnQ9CrP1/8A5FvU/wDr0l/9ANaFZ+v/APIt6n/16S/+gGvRrfwpejPUh8SOCf8A5CMP/XKT+aVCGZbFvLYoxuCu4AcZlwev1qZ/+QjD/wBcpP5pUH/Lj/29f+1q/GY7L5fqfWMn+zy/8/k35J/8TR9nl/5/JvyT/wCJpjQRTajL50SSYiTG9QccvUS/2cyhltAVIyCLRuf/AB2j+tgLH2eX/n8m/JP/AImj7PL/AM/k35J/8TUG3T/+fP8A8lG/+Jo26f8A8+f/AJKN/wDE0Wf9IC1Ck8FzHPFezLLESUbahwSCP7voTXYeF726vbK6N7O07xXGxWZVU7diHHygDqxrhdun/wDPn/5KN/8AE1Hcx2bWsqw2Z8woQuLVhzjjnbXr5ZmVTA1L6uPbZX7nLiMPGtHs+56xRWfY67p+pXJt7SV2lCF9rwunyggE/MB6j860K/UKdSFWPNTaa8tT5yUZRdpKwVy/iz/kYPDX/X2f/Q466iuX8Wf8jB4a/wCvs/8AocdZYr+C/l/6UjqwX8dej/8ASWY0bw20niu9ks7W6lt7tfLFzEHUbpWB/wA+1TwQ65c28c8HhTRWilQOjeSgyCMg8vVSf/jx8Zf9fcf/AKPai+0z+2NY8P2Hm+T5ulRfPt3YwrnpkeleVrol9ystXKS6pntaat29Xd2ShF7Jov8A2LxB/wBClov/AH6j/wDi6PsXiD/oUtF/79R//F1g/wBk+H/+hm/8kJP8aP7J8P8A/Qzf+SEn+NTzv+pw/wAiuRf1Cf8Amb32LxB/0KWi/wDfqP8A+Lrf0a58RXF4665p9tbweWSrxMCS+RgffPbNcF/ZPh//AKGb/wAkJP8AGj+yfD//AEM3/khJ/jWlOvKm7r/0uH+RnUw8KkbP/wBIn/meqkEdaSua8P61odlp9npMGqfaJQ5RG+zum8s5IHI464610x4NexTqRqR5k18mnb7jwatKVKTi0/K6av56iUUUVoZBVTV50tdFvriaBbiOK3kd4X6SAKSVPB4PTpVus3xJ/wAirq3/AF5Tf+gGhCOI/tzTf+hO0n/vpf8A41WhoOs2E3iCzgh8NafZSSs6rcQMpZMIzf8APMdQCOveuXq/oIlbxPpot3SOTzH2s6FgP3T9gRnj3rflViLs9Soqj9m1I/e1GMf7ltj+bGj7Ddn72rXA/wByKIfzU1nyr+Zfj/kPmfb8v8y9RVH+zZD9/Ur1v+BIv8lFH9kxn79zet/29Ov8iKOWPcLy7F6iqP8AY1ofvfaH/wB+6lb+bUf2Jpx+9aRv/v8AzfzotDu/u/4IXn2/H/gHjmqalJrOrT6hM24ysfL/ANmMfdA/D9STUEM81pcR3Vo5juIW3xuOxH9D0I7ir3iDR5tB1ia2mVhC7lreQj5ZEJyAD6jOCPb3qrY2Fxq18ljYoZJpDg4HEY7sx7AV9ZCVL2Ka+Gx81NVPatP4rnraavaatpKYguJxcwgskUTfLkdNxwAR9aZbz6jqFnLY3FnCGQeVObiTlgRwdqgjkH+91yO1O0fVLWK3i02ZGs57YLbiOU8EqAAFboeMH19qtah/odxHqK/dQeXcD1jz97/gJ5+havmvhfLb0Pf+Jc1/UyNHN60r6VqOozI9sTHGYlVfNUAdSQTnBU8diPer2paLZCxeZsedD+9Sa6kMgBHPJYnAPQ/WotbSG2vEuJGaNbgBEeNdzLMuTGQO5ILD34FRxXLXUT3euJtltWVV09OcSH7p/wBok9Ow+oJrT3pNVI6ehn7qThLUxfEtw/iHQ4kt4RDGGEkMRHzllO05x90ZJQDqSewFcAcozLIrI6HDI4wVPcEHpXpqhbLXnutRYeSMS3LKBsS42sVXPoFP5lT1Na1poVhdWsdxqum2txdyEyu00CuyljnbkjtnH4V208UsNGyWhyzwzxErt6nF/D3RJLvVf7VmiItIEZYmZeJXPBx6gDPPqfY16I+nWUn+ss7dv96JT/Sp1VUUKgCqowABgAUteZXxEq1Tn2O+jQjShyblE6JpfUadag+qwqD+go/sWw/hgKf7kjL/ACNXqKy9pPuzXkh2PNfiPaRWl5pQhMpDxz58yZ3xgx9NxOOvavPr3Q7HULo3FykxkMYiby7iSMOgJO1grAMOT1B616R8UP8Aj80f/rncfzirh6+lwPvYaPNrv+Z8/jPdrvl0/wCGM+60LTrxkM0BASPydsUrRq0f9xlUgMv+ycjk+pqV9MtJBKGh4mkSVwGIyybdp68Y2r+VW6K7eWPY5OaXczY9A06O7a5SF/MbfwZnKrv5fapO1cnk4AyaSXw7pk7q0lux2oke0TOFYJ93coOGI7EgkceladFLkj2Hzy7hXcfC/wD4/NY/652/85a4eu4+F/8Ax+ax/wBc7f8AnLXHmH+7S+X5nVgf46+f5HodFFFfLn0ZQ8K/8ido3/XhB/6LWijwr/yJ2jf9eEH/AKLWiuufxMwj8KGRf8jjqH/Xha/+jLirunnFm3/XaX/0Y1Uov+Rx1D/rwtf/AEZcVe07/j0b/rtL/wCjGrln/vUf8L/9tNY/wn6/5nOWP/IPt/eNT+lT1HAhgD2zfet3MZ+g+6fxUg1JX5XiIShWnGW6bPUi7xTRz/jrxCnhbwVqOrOwVokCRls4DuwUE47AnP4VyXwX8c3viXxnq1mNSk1Kzt2xFcmExCVCpwdhJ24K4HfB5rd+KXhbUfGPgK60fSGgFxI6SKJmKhtrZwD6n34rH+Cvg4+DvCU5mP8AxNr5ylzgY+zAcFD/ALXH9ehFfYZBiMPhcHUqTkr9e/l+pxYmEpzSR6NJMm6ecnCNIzA+ozgfn/Wq+p6bqe2yuob2O2UybXg2b9ynn7wPX5e3qee9eRfGLx1d2PiSw8IaNZvczTQbysUrRkSvlYvu8kLgtjjORngc+r6THdjStN09cS3EMG1c/d3H70h/2RnA9e3WuWng4Sw8sXUV6lRvlj69f18kW6jU1BbLc6DQP9VeEfdNycf98KD+uasad/yC7X/rin/oIqeytEsbOO3jJYKOWPVieST9Tk1Bp3/ILtf+uKf+givo6dJ0fZUn0i1/6SY35lJ+f+ZYooorqJPnlf8AkG2//bL+a1NN/rbf/rof/QWqFf8AkG2//bL+a1NN/rbf/rof/QWr7U+SJaKKKokrWv8Ax83v/Xcf+i0qzVd7GF5XkJlVnOW2TOoJwB0Bx0ApPsEP9+4/8CZP/iq5oqrBNWW7693fsejVlharUnKSdor4V0il/N5Faz1GyttKtRcXlvERCmd8qrj5R6mrj3dvHYteNMn2ZY/NMoOV2Yzuz6Y5rIHgrw55zStpFu7u25i4LZP4mtlLaGO1W2SJFgVPLEQUbQuMbcemOMVVGNSMFGVtEYYqpTq1pVIXs23r5v5mHF458OT3sNpBqaSzzyLHGqRudzE4AzjFet6T4pg8J/DXTry507U9REt1NCsOm2pnk3GWU52gjj5Tz9K4CKCGAYhiSMeiKBXrfw//AORIs/8ArpP/AOjnrzsy5vYrm7/ozqwHL7V8vYr+FfHUninU5bb/AIRTxFo8McJlW51ay8hHIIG0cnnnP0BrlfjLqviOFbKx0zwul9Yecsn2+S+RFMuyUeV5ZGenzbunavVq4z4nf8gGw/6/x/6Kkr5us0qcnY9arpTZ47pH206BdHUbKCylLy4jgbcuPXPrnI/Cub1LwFf6nfXEjJocCSSMytHasXIJ4J5HPrXaN/yDbj/tr/Nqt14sa0oNuJ5Sm4u6M2XSTN4Z/skzmIm2EHnRDG3C4yB/SsrQ/Bh0a+iuTruqXXl5/cyTfumyCOV79c/UV09FQqs0mk9yeZpWCiiisyQruPhf/wAfusf9c7f+ctcPXcfC/wD4/dY/652/85a6sJ/GR0Yb+Kj0Ks/X/wDkW9T/AOvSX/0A1oVn6/8A8i3qf/XpL/6Aa9et/Cl6M9iHxI4J/wDkIw/9cpP5pUH/AC4/9vX/ALWqd/8AkIw/9cpP5pUH/Lj/ANvX/tavxmOy+X6n1j6k6f8AIRm/65R/zeooJXi0+yEaK7SIqgM20D5M+h9KlT/kIzf9co/5vUEP/Hrpn/Af/RbUf8D8gJ993/zwh/7/AB/+Jo33f/PCH/v8f/iasUVnddirFffd/wDPCH/v8f8A4mjfd/8APCH/AL/H/wCJrK0fTIbrQ7G4nnvnllto3dvt84yxUEnh6peKfCml6lpMUN59slQXcGA19McbpFQnl+u1mH411Rp0XV9nJ9bbf/bHROjFScIyble21l993+R1mmX93p2pC7+ywyYhaLZ55HUqc52f7P6122kagdU0uO7aIQs7OpQPuxtcr1wPT0ryXQPBWneG9Qe60651Bt8RiMM900kYBIOQD346+5roV8Ia1rtja3uj+M9S0IIJY/s9vGkkTETyHeVbvzj8BX1/DmJbrSw0J3ppXWltbr1f4nz2PprkVRr3r9z0auX8Wf8AIweGv+vs/wDocdXvCuk6zo2lSW3iHxC+v3BmLx3MlqkBRNqgJhODggnPX5vavO/GMXxNg8V6a9vceGrq3a+drCOVJkZV8xdquRwf4Rke9fX4iN6TV+35o4cJLlrJ26P8mbM//Hj4y/6+4/8A0e1X7L/kcPDP/YKT/wBFyVgtNqcfhHxdLcW0M2qq0LSQQvtjabzGyqs3Rd2QCe1Zug+KvE83jrwxDq3ga6sVNrHAJI76KdfLKsPNO3GBgk468V5tKDlKLXdf+lyPXqzUYyT7Po/5Im1ptxDp3gtr3+z7K6mbUDDm6hD4XyweO/Ufqan+2av/ANCbZf8Agreue1rW4tD+Gcc09reXKyaxtxawmQr+5zk46Co7j4mJ4j8UXkWiXerWioiv5E6SQbRtUHg8dawSlGip62SW1vM6G4yrOnpdt7t9LW/M6X7Zq/8A0Jtl/wCCt6Ptmr/9CbZf+Ct642++IS6Ze/ZNR8TS20+0Nslu2Xg9D1q9a+KL6+tluLLXLi4hfO2SK7ZlODg8g+tZOtZXfNb0RsqF3yrlv6s6aPUNaikWSLwhZo6EMrLpjgqR0IOa6nw3qeramt1/bFh9kMezy/3LpuznP3jz0H515t/bur/9BS9/8CH/AMaP7d1f/oKXv/gQ/wDjV0sdGnK92120M62XyqxtZJ99T2Tp1pKqaTI8uh6fJKzO72sbMzHJYlRkk1br6FO6ufLSXK2gqtqUMFzpV3BeSeVbywOksm4LsUqQTk8DA7mrNZviT/kVdW/68pv/AEA0yTlP7D8Kf9DX/wCTlv8A/E1e0XR/DsGtW09hr/2y5jLGOH7TC24lGB4VQTwSa42r/h9zH4o011jaUiSQhExk/uZOmSBWzi7bkXPUqKo/2si/661vIv8At2Z//Qc0f23pw/1l3HD/ANdsx/8AoWKj2c+w+ePcvUVFDd29x/qJ4pf9xwf5VLUNNblJp7BRRRQMiubS3vYTDeQRXER6pKgZT+Bplnp9np8ZjsLSC1RjkrBEEB/ACvOPFPjO+u9SmtNLuGtrOBynmRHa8rDgnd1AzkDHXrVLRfGep6Rdobu6mvbMkeak7F2Ve7Kx5yPTof1r0Y4Cu6XN+BwPG0VU5fxPSdUtAD9sSETgLsuICu7zo/p3YdR+I71Tmk+wxwjSJvtiXIzHYyHeHU91bqq898jtV6fUjNILbSgs87KGLn/VwqehY/yXqfYc1VsrNNBvtrnzIrxhmdlAKy/3Tjop5wOxyO4rCDaj733d/wCvvNpWcvd+/t/X3GXZQ+ZHNaaizQ6rCoNmJ24UDBUJ2IBGCckkDn0E8tw19DH4jiQKIQFt4WHM2TtIJ9SSQvp/wI1Y8QW41WVYIYBP9j/eXH+0pwfKH+0wGfbA9RVCzjkXWDb6XKl3Y2xF1FbyORksOgbHON27n+8v1roTUo83X9P+Dp+Jg04vl6f1+Rc+zx32jWeniTzGv3M1zIvB4O5z7fNtXHb8K19NuZJoWiucfabdvLmwMZPZh7EYP6dqwLTU7eHW7u/KiCJm8uWJ+HjxjdIBnBG4ENjP3QfWsm8+IVsmtLc6bYySxBTHI7vs85eoIGCRg5wT6njniXQqVPdivP5/1oNVqdP3pPy+R6DRWDZ+I4df8P3s2jbxeRQt+4YfOj7Tt+uSOCK4TwTdeG7LW9Nv9BubK2t4NAkbxFOsioFn3w+WbpjyJc/aOZPm+/muGUJRbUtztjJSV0es0VwGral4fsfjVogl1Szi1GayuYJYpb0bwzG38qMIzfKW5IUAbjk8nNd/UjPPPih/x+aP/wBc7j+cVcPXcfFD/j80f/rncfzirh6+oy//AHaPz/M+dx38d/L8gooorvOMKKjuLmC0t2nupo4IUGWkkYKq/UnpT0dZI1eNgyMMqynII9aQC13Hwv8A+PzWP+udv/OWuHruPhf/AMfmsf8AXO3/AJy1w5h/u0vl+Z2YH+Ovn+R6HRRRXy59GUPCv/InaN/14Qf+i1oo8K/8ido3/XhB/wCi1orrn8TMI/ChkX/I46h/14Wv/oy4q9p3/Hq3/XaX/wBGNVGL/kcdQ/68LX/0ZcVe07/j1b/rtL/6MauWf+9R/wAL/wDbTWP8J+v+ZR1iycSfb7ZC7Bds0ajl1HRh6kfqPwqgjrIivGwZWGQQeCK6ese/0go73NgUQsd0kLnCOfUH+E/oe/rXg5xk7xL9vQ+Lqu//AATejW5fdlsUa84vLvxIniqayiuJbxZJGEe8+SIsfdGU4546gnvXfR6javc/ZjPGlz/zwdxv/AZ5HuMip/Kj83zPLXzMY37RnH1r5ClUlhZSjUhr5noRkt0crP4X0K11GHxXrdvIdXSOKKS4Xe5JJCKgRcg5JA4HNdDovifToJrmOW11PzZG3q40q5Yuo4xgR5G38uc9zVHxFcRtp8UcbebJ9us/kj+Y/wDHzH6dPxrqNK0+dLn7ZdqImCFI4s5KgkEliOM8DgdPxr3sl+tzrqpZ8tmtdkvL59iascPGgpTTbbezS2t5PuZWq/E7wnoM1vFruozaW1zu8n7dYXEAk243YLoBxuH51b8K+JNE8Q6VGdC1az1D7PFGJhbTq5iJHAYA5XOD19DT9StoLvxrpkV1BHPGdNvMpIgYH95bdjTvD+i6XpVgkul6bZ2UlzFGZ3toFjMpC8FioGcZPX1NfVTd6yT3s/8A2045wjGClDZ66+rW+nbsa2aK4jxB8I/CviLXLjWrmO+tdTudplurO+liZtqhRxnaMAAcDtXS6Joq6D4eh0q1vby5ECsqXN7L50pyScsx64zx7ACtDnPC1/5Btv8A9sv5rU03+tt/+uh/9BauVj0vxXb2tuU8Q211FmPCT2QUgZGBlTzW3r95c2FjHcWMEU8yyjCSzCJSMHPzHgV9ip6Xaa/ryPlnDWyd/wCvM1KK5bRPGUmp6xHpt5p0VpM6sQY7+KYHAz0U5rQ1vxXpPh25hh1ad4TMpZGEbMMA+wpqrBx5r6CdKaly21Nmiqumanaaxp8d7p0vnW8mdj7SucEg8EA9QatVommrozaadmFFFFMAr1f4f/8AIkWf/XSf/wBHPXlFer/D/wD5Eiz/AOuk/wD6OevJzT+CvX9Gell38V+h0lcZ8Tv+QDYf9f4/9FSV2dcZ8Tv+QDYf9f4/9FSV8xX/AIUvQ9et/DZ5a3/INuP+2v8ANqt1Ub/kG3H/AG1/m1W68FnkBRRUF5LJDb7odocuiAsMgbmC5xketSXSpurUjTju2l95PRVby7//AJ+bf/wHb/4usvVYNfnureLTdWt7Q7Hd/wDQ9wfBUAHLHHU9KcVd2bsbrDRlfkqJve3vdNXvFdDdruPhf/x+6x/1zt/5y15nosGtweeNdu7W6Hy+S1vEUI67t36frW/4V1TxxYa1q/8AwjHh2w1a12QZ82+8hwPnx1GOu78hXZhY2rpXJw6tVR7fVfULX7dptzab/L+0QvFvxnbuBGcd+tVdBvdUvtAgute0oaVqDBvOskuFn8vDEDDrwcgA+2cdq4ofF6WBgup/D7xlaknG9dMEiD/gQavYceZNM9VOzuWNU0eXStRtfOukuPNilxshKbcFP9o561lf8uP/AG9f+1q7Txld+HtI0U6z4qkeGzs/lMyGXKb2UdI+TzjseleXWHjrwprV19g0LVo55JLsmCIq4Zk83cPvgH7vPPNfnmcZPPDT9rQj+7utFd2stW/+HPdwuLVRcs37x0if8hGb/rlH/N6gh/49dM/4D/6Lam3Gp2FhqjJfXtvbNLEnlrNKqF8Fs4yeeoptncQ3Fpppt5o5QNuSjBsfu29K+a5ZKPNbT/gHoXV7GnRRRXOaGBomt6VF4f06OXU7NHS1iVla4QFSEGQRmqfivxfoenaTDJJfxT7ryABLVhMxxIrn5Vyein9B3rq6K6o1aSq+0lFvW+//AADonVi5upBNO997/ojnfD/jSz8Sag9rZafqkISIyefdWhijOCBgMe/OcegNdCPFuvaJY21lofgu/wBeDiWU3EM6RRKTPINhLdxgH6EUtdb4U/5FyH/rrN/6Nevp+GpU5Y2bpxsuXa9+q9DwcwUlRXM76jfCuqa5q+lSXHiXw/8A2BdCYrHam8S5LR4BDlk4GSSMdRj3ri/EGk/FXWteimsF8J2dpYXTtaPcSXDSOm8FSwUYzhRx9a9OpRwa/QGoyVpLQ8WMpQd4vU8qeHU5PCPi6G5uYYdUZoVkuII90azeY2WVW6ruyQD2rN0Hwp4mg8d+GJtU8c3d8otY5xGllHCvlhWPlHGcggEZ6816Trfh+OTQ9UTSLX/S750eQeZ98iTcT8xwOrelZUUElt458OwTrtli01Udc5wQkgI4rzOSpRnFPa61t3m+tuzPZ9pTrwlJb2el+0Etr90cZrOixa38Mo4Zrq8tlTWN2bScxlv3PQkdRWff+CtL8J+Lr7+zpL2ZyiIZLu6aZiCqtzn3rof+ad/9xX/2lR42/wCRwvv+2f8A6LWvNqTksNyp6e7+Uj06VOLxXM1r735xONv/AAzouqXou9R02C5nChN8i54HQfrV60s7awtUtrKCO3gTO2OJAqjJyeB71NRXnOcmuVvQ9JQgnzJahRRRUlns2i/8i9pv/XpF/wCgCrlU9F/5F7Tf+vSL/wBAFXK+1h8C9EfAVPjl6sKpa3by3nh/ULa3XfNNayxxrkDLFCAMn3q7Wf4gleHw1qcsLtHIlpKyOhwVIQ4IPY1aMzgP+Ea17/oETf8Af6H/AOLrQ0DQNYtvEljc3WnSQQQu7O7SxnGY3UcKxPUisP7bff8AQT1D/wADZf8A4qtDw/qNzH4msPtOpXRgZ3Egnu3ZCPKc8hmx1Ard81iND0uimxyJKgeJ1dT0KnIp1YFlabTrG4/19nby/wC/Ep/mKi/sWwH+riaH/rjK8f8A6CRV6iqU5LZk8kXuij/ZZX/U397F/wBtQ/8A6GDR9k1BP9VqW/8A6726t/6CVq9RT55ByI8Gkt5LSeW2nyJYZGjfPXIOCfx60xvunjPHQDrXq/iLwTZ67cG7imazvCAHlVdyyAcDcuRkj1BBqlpfw7hsJRcXGoNcXMZDQsIQqRsDkHaSc9PX9ea9+GZUvZ67niSwFTn02NbRYr7S9FtLUaYmY4lDlZgCzYGWIx1JpdVvrl7Q2baVI8t0GSNPNQgnGc9cgDrn6VZGrC0BTWAttIoJEg5jlx/dPr/snn0z1qTT4JHke/vFKzzDCxn/AJYx9l+vc+/0FeNez55L89fxPVtdckX+X+RkWmqyaPZyWt3p101zGS5bMeZtzYVj855JwDjOOPasyW8n0C3WWW1lWZGMys6BVYuAJE4PTdtYfQDtW7qUMmo6oPsxRW00eYHccNKcEIT2G0ZP+8p7VnX123ir7Pb6Si/uP9Ileb7qtggJ/tfxA44461002m7taPf+vMwmmlZPVbf15Gb4yuUh8I2ljHDMG81FaSaErnAJYgnuSO3rXBV6LbabF4i0ibTnRzcxqUmu5yWaJlP7tR+QLAccHuc1xM+g6tb3MkDadcTtG5QvbRNKhI/2lHH44Nelg6lOClTbs73PPxUJzamloXvBd5NZ+LLfyI5JvOR43jjIyw2lu5A4IHevUP7TYff0+9X/ALZhv5E1zHgfwpc6bM2p6qgjnZNkMOcmMHqW7ZOBx2H147WvLxtWnUrNxVz0sJTnCklLQo/2vAPvw3i/9ucp/kpo/tmy/ikkT/fhdf5ir1FcV4dvx/4B12n3/D/gnm3xHvLe9utKNrMsoRJw20/dyY8Z/I/lXn2uG6Gg3p0/zDc+Q3l+X97OP4ff0969H+KH/H5o/wD1zuP5xVw9fS4FJ4ZJef5nz+MbWIbfkcZbahpttfTr4Z0/T55hYSzRPazlpnZQuFmTaDkscfMxOQehJqVdanW2un07WBqsC28bvdeWh+zsXAY/IAOEJbackbeeDXXUV0ezl3MfaR7HG3M02o25it9Zlu7WO/tfKvY1iJYlxlchNjbTtOQOpwc4rSsr+/k146VJMxa1lklmlKKPMhIHlLwMfxkZGD+5Prz0FQx2sMV1NcomJpwokYknIXoPYDJ6eppqm073E6iatYmruPhf/wAfmsf9c7f+ctcPXcfC/wD4/NY/652/85a5sw/3aXy/M3wP8dfP8j0Oiiivlz6MoeFf+RO0b/rwg/8ARa0UeFf+RO0b/rwg/wDRa0V1z+JmEfhQyL/kcdQ/68LX/wBGXFXtO/49W/67S/8Aoxqoxf8AI46h/wBeFr/6MuKtLayR7hFeTopZm2gIQCSSeq56muOs5RrqaV9LaW627tdjanZwav1/zMXWW1K31XfPfyx2k2Y4I7bAKYGdx+UktnjGSOnHWqojkYRf2laXckzLkLcssr/XapOPwArpfIn/AOf+4/75j/8Aiar3GkJdPvuLmd227c4Qcdf7teRjMPLEcztPW2nMkvzf5G0LR6r8TnL9NKfyY9RtVBZwsXm2rAhz0wdvB9+KfqkNvN9ljuUmk3zbYxHIygNtJBbB5HHfI56V0U2mm4SNZr25cRncudnXGM/d5696Z/Y6f8/Vx/45/wDE14lbJ68Zp4dOy7tXv5WN1Ujb3mvxMGK8l1zw5b21klus7T29zbeafJSXypkkZGKqdr/IRwD6jvjVudT8R2kSyTaPpZVpEjG3VJCcuwUf8u/TLDPtSw+GbO3tRbQzXCxBi4G5chixYkHGRySfamahp7WmnIsd9dMpu7fiRw+D5ydMj8a+nwc8TdRrxd9rprbpfz9DOdSEaTikna715uqXZrsY3iLTPiBqerWF7oM2haNJbQTwyPLLJd7xI0R4Xy0Ax5XXJ61b8Dad4osdPd/FWu22qrLHF9mjt7MQCAAHdkgktnK9em33rovIn/5/7j/vmP8A+JqSGJYLeOJCSsahQT1wBitlKUpp8rWj3t5dr9iKkk1+SV7Lfv6nG+IPAmta5rtxeQeO9a0uzl27LKxCIsWFAOGIJOSCfxro9A0h9E0G302bUr3VGhDA3d/Lvmkyxb5mAGcZwPYCtKitrmJ8uS/C60t7GOXUtL1ghTGHe689VXLAHJ4A64rb1SxttSgitb+FZ4JJPmjccHAJH6ivbfGVhdap4UurTT4TNcO0RWMMFztlVjySB0B715TqugavpS20+pae9tE02wO0sbZbYxxhWJ6A19Hg8RTqRaaSbdrdzwsVRqQkmm2l17GJZeHtH06ZZrHS7SCVc7ZEhUMOMcHrV2SCKVlaWJHZfullBxUlFekopKyR57k27tiKqooVFCgdABilooqhBRRRQAV6v8P/APkSLP8A66T/APo568or1f4f/wDIkWf/AF0n/wDRz15OafwV6/oz0su/iv0OkrE8U+Hm8SadBbJdi1aGcTBzF5gPysuMbh/e9e1bdFfOSipKzPbklJWZ4Df2psV1C0ZxIYJZ4i4Xbu2uwzjJx06ZqSvVvFOg6P8A8I3rN3/ZVj9p+yTy+d9mTfv2Md27Gc55zXkn2u3/AOfiL/vsV4uIouk/U8qtS9myWq2of8eyf9d4v/Ri1J9rt/8An4i/77FRzS2dxEY5Z4ypIPEuDkHI5Bz1Fc1mPDTjSrwqS2TT+5lmqVzPFBqlu08qRr5EvLsAPvR+tN8qx/5+5P8AwMf/AOKqnf6HoGqNE2pJHdmHPl+dcs+3OM9W9h+VOKV/e2NoSw9JuUZSbs18KW6a/mfc1La+tLxnW0uoZzHjeIpA23PTOOnQ/lWz4T+IvhPwjqerw+ItZhspSkACFHduPMJ4UHsyn8a5rTbHRdIVxpkVpaiTG/yiBuxnGfXqfzr0L4X21jcalrE4gt5ZNlv+82Kxz+87/QCuvCqKrq2xlh7e1VjudB8Qab4n0GDWdDuDdWFwGMUvlshfaxU/KwB6qeoril+MSXDAad4E8aXQP/LQaTtT8y39K9Hor2tD1DM8RX+qaboc11oOj/21fIVEdl9pW38zLAH52GBgEnn0rgw3jzW7lRqngLS9MhLKzTJqEc1wuGDfKQAOcY616fRWVWnGrTlTls0195UZOMlJdDwjx54O1fW9VgiWw0dDHAC51WHznUFmwUKEgA4OcnsKr+AvCE3hWHfcS2jm+kjcLawGMLiN+uSc/er2LWPDsup6l9rhvUg/crEUeAv0LHOdw/vfpXEQ/wDHrpn/AAH/ANFtX53mlPE4GDw3/Lp7bXdtfz9D3sNKnWftPtLc5PVfhm2p+I7vVV8T6xZC5cN5NpN5YTgDAP4eldnY2v2HT7e18+a58iJY/OuH3SSYGNzHuT1JqxRXz9bFVq0IwqO6jtsd0aUINuK3CiiiuY0Cut8Kf8i5D/11m/8ARr1yVdb4U/5FyH/rrN/6NevrOFf97n/h/VHl5l/CXqbFFFFfop4QVSk0e2n1+21Z3lFxbxmNVBGwjDdRjP8AEe9XaUHBzSsnbmHGUo35X5HlX/NO/wDuK/8AtKjxt/yOF9/2z/8ARa12PirQZLzQI7TRLGJSLoStHEFjH3WBPYdxXHeNv+Rwvv8Atn/6LWvnsXRlRpOL/u6/KR9Rg68a1VSX97T5xMGiiivJPZCiiigD2bRf+Re03/r0i/8AQBVyqei/8i9pv/XpF/6AKuV9rD4F6I+AqfHL1YVm+JP+RV1b/rym/wDQDWlVbUrz+z9Ku73Z5n2aB5dmcbtqk4z26VZmeQ/bbX/n5h/7+CtTwxPBN4u0xY5Y5D5kmQrA8eTJW5/wsC6/6A8P/gaf/jdXNJ8aTalrFrYy6bHCLhmXzFuS+3CM3TYP7uOtbNu2xOhvyaPp8jl/skaOerxDY35rg0z+zZI/+PXULuIf3XYSj/x8E/rV+io9pLuHJHsUNurRdHtLkejK0R/Mbv5Uf2hcx/8AHzps4HdoWWRf5hv0q/RRzLqg5X0ZRGtWGQJbj7Ox6C4UxH/x4CrqSJIoaNldT0KnINKQGBDDIPUGqT6Pp7sXFrHG56vEPLY/iuDR7j7r8f8AIPfX9f8ADhqesafo8KyaldJArHCg5LN9AOT+FR6X4g0rWWZdNvEmdRkoQVYD12sAce9eP6nqMmsapPfysW81sR5OdsY+6B+H5kk1WSWW3lWe2do5ozujdSQQfqK9iOVp07uXvHlyzFqdktD2V4k1u6ZZV32EDFcdppBwT9F/n9Kq32rN4dzHIzX8ZX92gOZo+wDeqk8bjz9adpd1Lq+mW/8AZu2xs/LUblIaTp0UchR7nn271JBZwNqwgt0xBZkSSsTkyTEfLuJ5JCnPP95fSvPVou09l0/rqdru1eO76kelaUbiwSXUbmO6SQmUxxH907E5JY/x/Q8AAccZqi11JYFtUtSudSY/uyvCRKMJLx2AGT/vfSrXiKP+zbGWewlMEl03lNCPuylhyQOzYycjr6GrOi+XI0zXC+XeYCPbsOYIx91R6j3HBOfoL5vddR6p9P6/PyI5feUFo11/r8ihNE/h2+V7HdOupKIsu2c3H8Ln2ILE49K6CytVsrOOBCW2j5mPV2PJY+5JJ/GuYNp9tmntPMdYEDppUh4CyKQxwfZlwv8Asq1b+i6j/ammRzsNsw+SZP7rjr/j+NTXT5E/v/T/ACKotczX3fr/AJl+iiiuM6wooooA88+KH/H5o/8A1zuP5xVw9dx8UP8Aj80f/rncfzirh6+oy/8A3aPz/M+cx38d/L8gooorvOMKKKKACu4+F/8Ax+ax/wBc7f8AnLXD13Hwv/4/NY/652/85a4Mw/3aXy/M7MD/AB18/wAj0Oiiivlz6MoeFf8AkTtG/wCvCD/0WtFHhX/kTtG/68IP/Ra0V1z+JmEfhQyL/kcdQ/68LX/0ZcVpVmxf8jjqH/Xha/8Aoy4rSrCr8X3fkaQ2CiiisywooooAK53xRr1npwitbrzFkaWGYEJkFVlVjz64U10VYvibw8niCzhj3COWKUEP6KThh+XP1ArfDuCqL2mxjW53TfJuaOn38Wp2Md3bBxFJnbvXBIzjOKs0yGGO3gjhhUJHGoVVHYDgU+sZWu7bGkb21CiiikUFYnirw83iTToLZLsWrQziYOYvMB+VlxjcP73r2rboqoTlCSlHdEyipx5ZbHnn/Cr7j/oORf8AgCf/AI5R/wAKvuP+g5F/4An/AOOV6HRXX9fxP834I5vqdD+X8zzz/hV9x/0HIv8AwBP/AMco/wCFX3H/AEHIv/AE/wDxyvQ6KPr+J/m/BB9Tofy/meef8KvuP+g5F/4An/45R/wq+4/6DkX/AIAn/wCOV6HRR9fxP834IPqdD+X8zzz/AIVfcf8AQci/8AT/APHK7Hw9pB0LQoNOacXBiLkyBNm7c7N0ycfex1rSorKriatVcs3dGlPD0qTvBWCiiiuc3CiiigAooooAKKKKACiiigAooooAKKKKACuM8SaNpmjWllPao0GLjYS87soXy34wzEDoK7OiuLG4OnjKLpytdrR2va/Y1o1ZUpKSPMvt1p/z9Q/9/BR9utP+fqH/AL+CvTaK+V/1Tj/z+/8AJf8Agnpf2m/5fx/4B5l9utP+fqH/AL+Cj7daf8/UP/fwV6bRR/qnH/n9/wCS/wDBD+03/L+P/APMvt1p/wA/UP8A38Fdp4SYN4agZSCplmIIPX969bNFetleSLLqrqqfNdW2t1XmzmxOMdeKjy2CiiivoThCiiigArzP4k+H/Ev9qLq/hjTotYil/wCPq184RTIAqgFN3DdCccHoBXplFZ1KUKseWaujWjWqUZc1N2Z5N4Q0WHxba3LZ1TSbm0cRz22paaYnViM8fPhh7j2rov8AhWo/6C//AJLf/ZV29efar8Mr2LV7vWPBXi3VNBvrqVp5oJH+1WkrsckmJ+mT6HjsK5/qGF/k/F/5nV/aWL/n/Bf5Fr/hWo/6C/8A5Lf/AGVH/CtR/wBBf/yW/wDsq6HUdVk8OeFG1HU4bnUpbSFDOun25eSVuAxSMdsknHYZ9KzvDHxG8KeMHEOh6xDJd87rOXMU6kdR5bYJx3IyKX1DDfyfi/8AMP7Sxf8AP+C/yHQ+M/Culaivhi58Q2MWp2MUcUkM8oiYnYCMbuCSCDgE9a6RWV1DIQysMgg5BFZGueEvD3iWMrr2i2OocYDzwKzr9Gxkfgal0zQbPQPDiaN4djXT7aGN0tgMyCIsSc/Mcn5iTgmu3RKyOBtt3Zp1m+JP+RV1b/rym/8AQDXH2UPxW0TULeG7udC8Tac0qpLcFGs7lEJwX2jKHA5wOa6bxZrOk6TpKQ69PJb2+pyiwEkaFtrSKQCSAdo/2jwOM0+ojzqr2hRNP4m06NJXhZpHxJHjKnynPfIrW/sPwp/0Nf8A5OW//wATV7RdH8Owa1bT2Gv/AGy5jLGOH7TC24lGB4VQTwSa15+xHLc3vtl5Y8ajF50Q/wCXm3UnH+8nUfUZH0q9DPFcwrLbyLLG3IZDkGn1Rm0tDM1xZSNZ3DHLPGPlf/eXo316+9TeMt9P6/r/ACC0o7al6is7+0pbP5dWhES/8/MWTEfr3T8ePetBWV1DIwZWGQQcg1MouJSkmLRRRUlHiuv6PLoOsS2sqFYWctbSY+V0PIAPqM4I9veqtjYXOrXyWNiheaQ4JAyI17s3oB/9avb7m0t72Ew3kEVxEeqSoGU/gaZZ6fZ6fGY7C0gtUY5KwRBAfwAr145nJU+W2vc8t5fF1Oa+hn3Wmabp2kqzWiu1tEscbINkjEAKqhhg5JwKLHR7uxtFEOpSCZvnlEqCRGc9Tzhv/Hqmk/0/Wlj6wWOHf/alI+Ufgpz/AMCX0pmq3Il821DlIYo/MvJQfuJjOwe7D8h9RXCnNpRv59zrajdyt5GXb3V5qusfaXtUvLbTyVjMDbd8hwd4DHBwOnPfI61PrWo2k0cUUglsr1nCxTTKY/KH8Tb+hAHbJBOAa1NHtja6XH5iCOSTMsijgKW52/QDA+gqPTR9tuJdTflZB5duD2iB+9/wI8/TbVucea9tI7f1+JKhLltfVmXeXtvpvh9odQXNvBHm2urQZDsv3cf3XyO/B9eorg18WaxFdS3FnOloZm3PHHGrKTkn+IHuSePWur+ItlbW+hxTW0MMMhuV8wooUuuCPx+YrXndergaVOpTcmr3PNxlScJqKdrHpOheL7nXNKv7Vo1TVobZ3h8vpNwcEA9CDjI9x+HMeCbrw3Za3pt/oNzZW1vBoEjeIp1kVAs++HyzdMeRLn7RzJ83381B4NaZPF1pJBFJNsSRpEjxkrtI7kDqV716l/abD7+n3q/9sw38ia87GUFTqtQ2O/C1nUpXnuclrnhzQdZ+JGmQRaNp3262ZdV1C+Fonn4Q7YEMmNwLON3usLDvXd1R/teAffhvF/7c5T/JTR/bNl/FJIn+/C6/zFcXJPsdfPDucV8UP+PzR/8Arncfzirh67L4j3lve3WlG1mWUIk4bafu5MeM/kfyrzjWNSv9OeE2tlbXEUsiRbpLpo2Ds2BwI246c5/CvpcE+TDR5vP8zwMX7+IfL/Whq0VQXV7dFCXkiRXAmS3eNdzASsoYKCVGRgjnGPyNJPrlhAuWkkk+d02wwSStlDhjtVScA8E9M967eePc5OWXY0KKoSa1YRTRxmYt5gUh442eMBvu7nAKrntkjNQWfiK1uppInSaBlujbIZIJArtgkclQOx/T1FLnje1w5JWvY1q7j4X/APH5rH/XO3/nLXA211DdxtJbvvRXaMtggblJVh74II/Cu++F/wDx+ax/1zt/5y1x4/XDS+X5nXgtMQvn+R6HRRRXy59EUPCv/InaN/14Qf8AotaKPCv/ACJ2jf8AXhB/6LWiuufxMwj8KGRf8jjqH/Xha/8Aoy4rSrNi/wCRx1D/AK8LX/0ZcVpVhV+L7vyNIbBRRRWZYUUUUAef+FviNJrXhiTxHqX2W00nT7Mfb3CMHa52q7Kik/Kiqy4LZLlwRhQC9uw+KWj6npkl1YWt1dTR3cVp9ktZba4dnlz5eHilaPBII5cbcZbA5q1F8OtHh0tdPjmvFtzpw0+dVlCm4Rf9W7kL/rE52su37xznAxoReG3aGBNT1vUdUa3ukuonuVgQqy5wv7qJAV57jPvT0FqUpfHVvBqRs59H1SMRT29vdXBSIx2sk4Ty1ciTJ5kVSUDAHk4GCasPxO0C98VS+HrSfN2JZbeOUTwMHmjVi6+WJDKuNjjc0YUleCdy7ti78LWV4b8yy3A+3XdteS7WXh4DGUA46HylznPU4I7R2HhYaZqE8tlrGoR2M8sszaZiEwB5SWcgmPzBl2Z8b8ZPTHFGgE/hK+uNT8FaJf30nm3N1p8E00m0Dc7RqWOBwMknpWvVTSdNh0bRbHS7VneCyt47eNpCCxVFCgnAAzgegq3SAKKKKBhRRRQAUUUUAFFFFABRRRQAUUUUAFFFFABRRRQAUUUUAFFFFABRRRQAUUUUAFFFFABRRRQAUUUUAFFFFABRRRQAUUUUAFFFFABRRRQAVQfQdJk1qLV3020OpQgrHeeSvmqCMEb8Zxg4q/RQByni6x8cNe2994J1bTY0hjKy6ZqNuTHcHOd3mL8ynHGBx6mtDwpqeu6ppLyeKNDXRb6OUxmFLlZ1kAAPmKw6A5PB54rbooEU9O1nTNYWVtK1C1vRC5jk+zzK+xgcFTg8HI6GofEn/Iq6t/15Tf8AoBrmNa+D/hXVNQOpafBcaBqmci+0aY20mepyB8pz3OM+9b3ixNUbwvc22hWS31zcL5BSScR7Ub5WfcepAJOO5p6XA85q/oE0dv4o0yWd1jjErgsxwBmJwP1NP/4RrXv+gRN/3+h/+Lq/oXh7VofENlNe6a0VvGzmRnkjYYMbrjAYk8sO1bXj1Is+h6BRWb9muNL+bTwZ7Xvak/Mn/XMn/wBBPHoR0q5a3cN5D5lu+4ZwQRgqfQg8g+xrNxsrrYalfR7k1Z7aX5DmXS5fsjk5aPG6Jz7r2+q4/GtCilGTjsNxT3KCap5LiLVIvsjk4WTduic+z9vocH61fpHRZEKOoZWGCpGQRWf/AGdNZ/NpUoRP+faXJjP+73T8OPaq92Xl+RPvR8yTU9Y0/R4Vk1K6SBWOFByWb6Acn8Kpw+K9JvLOabT7pbiSJciHBV2JOANrAHkkDPvXk+p6nLrOqT6jOctM3yDOQifwqPw/M5NV4p5bWeO5tm2TwsHjbHQg5H8q9iGWLkTk9Ty5Zi+eyWh7Ipk0rTooE2zX9yxPs8h5Zj/sj+QA9KZNaLFHa6YrGRriXzbiRurquGYn6nauPQ47VFp+oQGGLVL2QNdX0SvBBEC7LERkBVHPPUn19gKjga71G6utReX+zrVAYckBpAqE7jnlV5znr932rz1Fptv+n/wDuurWX9L/AIJZ1+/ijWHT2kKvdnDhAS/lj72AOcn7o+pPapl/tC7UJCg022AwCQGlI9h91fxz9BUWg6ekEUl60bCa7O/MjFnVP4QSec45PucdhVm8u5Wm+xWGDcsMu5GVgX+8fU+g7/Sodk+SPTq/6/zKV370uvQzrzTbS5WfS7aITSzx7bq5mJdo0Pqx53eg7dfryl58NdSS6YafeWstuT8puGZHUeh2qQfrxXolpax2duIockZJZmOWdj1YnuTU1VDFVKT9xkyw1OovfRgeF/CsHhyGR2l+0XkwAklxgAD+FR2H8/yA36KK55zlUlzSd2bwhGEeWOwUUUVBZ558UP8Aj80f/rncfzirzzULH7dHAvmeX5VxHNnbnO1s4/GvVviLpE19pcF9bKXaxLF0A58tsbiPoVB+ma8zBDAEHIPQivpcvlGWHUex8/jlKNdyMfUPD4vtQmuRcmLzLfYFCZ2yjcElBz1AYjHfjniq114TjuIrIlrOea2iaNze2YnjkLEMz7dwKtuBOc9yOa6Kiu50oPdHIqk1sznpPCsJ1RbyOLTW+WMOk+niTbsGP3Z3DYMAcc4xT9Q0e8Gm6otrKszzSfabSMR7WjmBDDLFsEblB6DjPWt6il7KGtg9pIrafZrp+nQWqnd5SBSx6se5PuTk/jXoPwv/AOPzWP8Arnb/AM5a4YkAEk4A6k16X8OdImstMuNQuFKNfFfLRhg+WucE/UsT9MVx5hKMcO497HVgVKVdSOxooor5k+hKHhX/AJE7Rv8Arwg/9FrRR4V/5E7Rv+vCD/0WtFdc/iZhH4UMi/5HHUP+vC1/9GXFaVZsX/I46h/14Wv/AKMuK5z4uX95pvw7nudOup7ScXloolgkKMA1xGCMjnBBIPqDWNT4/u/IuHwna0V5hD8RPEDeImEkWmnS08Vt4eMKwSCcgxl1l8zzNoIyoK7OeeRVTR/ih4gu7jS5LuHS5bfUrvUbJYLaKQTRPbK7K5JcgghQGXAxkNnnaM7Mu561RXjOp/EjXtY8K/Z7SSzs7q+8E3GtSS26SeZDKMDEeJAVGN4U8kMAecEHb17UNZtP2cLjUZ9Tc6mNGSZby23wuCVUg5Ls27B5bPJycDOKLBc9LoryTVPiN4nsNU1iGwj0p7TR7vTLXbcwytLcfakjyS4cBSrMedrZB6DGWsD4j679nutNb7G+uQa7NpkX2awLx3SRwiUsEkuYxGdpyS0p+7wDngswuep0V44Pir4p1bQ9Fk8P6daNqd9pKXr24sJ7tZJWm8rbmN18hPldt8hI7Z+Uk7kHjTxhqHjm703SdDhu9N0vUIrK+k2ojbWRWeYM04Zcb8hBE+QPv5PBZhc9HooopDCiiuX+JPia88H/AA/1DXNNFsbm2eBV+1KWjAeZIyWAZTwHJ6jpQI6iiuAvfilo/hvSbGXVta07Xp755TDLo7QwRFIwN3M1wUyCQMeZuJPC8HEuofF3w7p0Wk3EqzvaatFDNDOssCkLK4QEwtKJmwSCxRGAGeuDh2YHdUV51bfFCe1u/Fj69otzFp+h6hFaRTW4iLN5jRIoYeaSWJl3ZAA29fm4rT1P4naTpl5eWjWOpXFxa6nDpXlwRITLPLF5iBcuOD0ycYJ9MmizA7KiuGu/i54dsPFMegXYniuzPDbS5kg/cTSgFUZPM3tjcoLIrICfvcHGYPiRca18Q/CVlocF9b6NqFzfxS3E8MXlX4gifBjILOoDpnkIT7jOCzC56ZRRRSGFFFFABRRXH/EjxZeeEdJ0m4sZ9Ptft2rQWM1zqKForeNwxaQgOnTaDywGM0COworz3QPiZNd6TZi+0ubUtTvLy6hs49JRVS9ggPN0nmyBVjIK4y5JJGM9rT/FbR5NNt7vStO1TVfM019UlgtIoxJbQIxVi4kdRu3K67VLElGwOhLswO4orzOT4oWum+KNdvL/AFDzvD0WnafcWCIiLva4L4IZtuN3y/fYKBycDNaNl8W9E1SxtZNJsr/ULy6vpbGOwtTBJJ5kcfmOd4l8oqEKncHI+YDrkAswud3RXH/CrXtQ8T/DXTdX1idp7y4kuA7tGsZIW4kRQVUADCqB07V2FIAooooGFFFFABRXH/FbXNQ8N/DTUtU0a6a0vIZLdUmSJZCoe4jRsKwIJ2sR0PWsnUPiDJ4ct9NsbCDWfEl/qHnyqdSsZrWVY49ucxw2u/qyhf3WOpLDjLsI9GorzfWfi2dIWwlfQ5NksNrLe20rTJdWXnybMOggaNSM8CSWMsQQB0zTi+IfiHSJ/Gt5q9nbXtjpGqwWltFHdbHQStCgX/UjIxKXJJJz8vT5qLMLnqlFee6t8UZtP1S90+10MXVxb63baNDuvPLWV5ofMVydh2gHAI54yfYuf4m3Y8XPott4Zu7xLW6hs764tFnlEMjqrMykQbDGm8ZLujYydvTJZhc9AoryWDxxq/iX4ieB7i3tX0/Q7661OOLy75mN4sUUigzRBQF+ZdyjL49iOfWqGrAFFFFIYUUVz3iTxhD4c1XStM/svUNTvdV877PDYiLP7pQz5MkiDoeOecUCOhornLP4geF7rw/pmsza3ZWFpqkZktft86QNJjAYAMRkqSAcZ/UVpXniLRdO1O303UNYsLW+utogtZ7pEll3NtXahOWyeBgcnigDRorl9O8d6fPN4gOrvbaRa6LqH2Frm6ulVJDsVgxLABc78YyenWrOveNdC0Lw9/as2q6cyTW7z2SveIgvSq5Cxtn5s5A+XPUUWA36KzvDmr/2/wCFtK1nyPs/9o2UN15O/d5fmIG27sDOM4zgVo0DCiiigAorO17X9N8M6PJqmtTtb2cbIjOsTyHLMFUBUBY5JA4Hes6Lxtpk+vaVpUdvqCz6rHPJA1xZvb7RDt3bllCuM7hj5SDzQI6KiqGt65p/hzSJdU1m4+zWcLIry7GfBdwi8KCeWYDp3oh1vT59eudFiuN2oWsKTzQ7GG1HJCndjByVPAOeKAL9U7rTxLN9ptZPs12BjzAMhx6OP4h+o7EVcopqTi7oTSa1KVtqBaYWt9H9nuuy5ysvuh7/AE6j0q7UVzaw3kJiuYw6E5wex7EHsfcVS8650vi7L3Np2nAy8Q/2wOo/2h+I71dlL4d+3+RN3HfY0qKSORJY1kiZXRhlWU5BFLWZZ4rr+jy6DrEtrKhWFnLW0mPldDyAD6jOCPb3qrY2Fzq18ljYoXmkOCQMiNe7N6Af/Wr2+5tLe9hMN5BFcRHqkqBlP4GmWen2enxmOwtILVGOSsEQQH8AK9eOZyVPltr3PMeXxdTmvoUha23h/RW+wQIJFjWNDj5pH4VQT9SBUbWoYWmixnfFEiyXTf3lB4B92YEn2B9afqdzGt9EJj+5s0N1LjueVQe+TuP1UUyB57WPy1VZNVvT50ik5WIdAW/2VAAHqR9TXEublu9/6/Lf5o63a9lt/X5/5ly9vJBKLOxAa6cZJIysS/3m/oO5/Eiazs47KDy4yWZjueRuWkY9WJ9aSys0s4iAxkkc7pZW+9I3qf8ADsOKsVhJq3LE2Sd7sKKKKgsKKKKACiiigArDvPBfh++uGnn09RIxyxileIE+pCEDNblFVGcoO8XYmUYyVpK5zf8Awr/w1/z4y/8AgZN/8XR/wr/w1/z4y/8AgZN/8XXSUVp9YrfzP72Z+xpfyr7jm/8AhX/hr/nxl/8AAyb/AOLo/wCFf+Gv+fGX/wADJv8A4uukoo+sVv5n97D2NL+VfcYVn4L8P2Nws8GnAyKcqZpXlAPrh2IzW7RRWcpym7ydzSMYxVoqwUUUVJRQ8K/8ido3/XhB/wCi1oo8K/8AInaN/wBeEH/otaK65/EzCPwoZF/yOOof9eFr/wCjLird7YWepWpttRtYLuAsrGKeMOpKkEHB4yCAR6EVUi/5HHUP+vC1/wDRlxWlWFX4vu/I0h8JRGhaSGLDS7IE3X20n7OnNxjHndP9Zjjd196y/DHgTQfCe6TTbON7x3lZr6aKM3BEkhcp5gUHbk8D2FdFRWZRlWXhXw9psskmnaDplo8qukjQWcaF1fG4Egcg7Rn1wPSpYtA0eHRTo8Ok2MemMCpsUtkEJBOSPLxt5Jz0rQooAoPoGjytO0mk2LtcPHJMWtkJlaPHls3HJXA2k9MDFQ3fhbw/qEEsN/oWm3UU1x9qljms43WSbbt8wgjl8cbjzjitWigDhPEnwg8NeJbpJZlks4ltBZi2toLcxpHuZvkEkTGJssfmjKn3yM108nhfQZtTg1K40axn1C3CiK9nt1knTb90+YwLZHrnNalFF2AUUUUDCsjxT4bs/F3hy40XUpJ4ra4eJ2e3YBwY5FkGCQR1QZ46ZrXooEYWveFYdb1TT9Ti1C90vUdPEiQ3dkY92yQAOjLIjqwO1TyuQRwRzWPrXwv0/XryW5vNZ1ZWuobWK9WJoFF4bdy8bv8AuuG3HJCbVOBxXakhQSTgDkk9qwf+E78I+XI//CU6LsiVXkb+0YsIrY2k/NwDkY9cinqBn6h8ONL1I6+st7fxwa88c1zBG0YWOaPZtlQlCwYGNTgkr14qCP4XaWLs3VzqeqXdy2r2+sSTTSRZeeFNighYwApHUAD2wOK6K58TaFZajbafea1p1ve3YQ29tLdoskwY7VKKTlskYGOpoXxLoT6qulprWnNqDOyLaC7Qyll+8Amc5GDkY4xRdgUYvCEdp4lu9Y0zV9RsPt0yT3lnD5LQXDqoXJDxsy5UAHYy5x681m6X8MdK0nXNO1G31DU3TSri4nsLKSWPyLbzw4kVQEDFTvyNzEjaMHGQeksNd0jVLu5tdM1WyvLi0bbcw29wkjwtkjDqCSpyCOfQ1fouwCiiikMKKqatqUOjaLfapdK7wWVvJcSLGAWKopYgZIGcD1FZOleMbS+8Of29qdpPoGmNFFNHc6rPbxo6SY2tlJWC5yow205YDFAjoayPEHhuz8R/2Z9uknj/ALM1CLUIfJYDdJHnaGyDlfmOQMH3pt14w8M2Vla3l74i0m3trwM1tPLfRIk4XGSjFsNjIzjpkVTPxB8OJ4wv/DdxqMFte2FsLmZp540TbtZmAJbOVVdzZAwpB6U9QLOv+FYNdv7DUEv73TNQ0/zFgu7Ix7wkgAdCJEdSDhT0yCowRWJJ8KtHSyt7bStQ1PShFpr6XNJaSRl7qB23EOZEb5tzO25drZduemOnk8QaNDu87V7CPZEkzbrlBtjc7Uc8/dY8A9CeBUD+LvDccdlI/iDSlS/4s2N7GBc87f3Z3fPyccZ5o1Aw7v4W6BcyXLRtd2vnQWcEIt5FAtPspzC0WVOGH+1uBx0q3f8Agj+0o9Pku/EOrtqOmzvNa6motlnjDoUZMCERlSD3TPTmo/FfxB0vwzeWNgk9nealdX9vaPYC8VJollYL5pTlsDIPQZz1FbeqeIdF0MqNa1ew07epdftdykW5QQCRuI4ywH4j1o1DQh8LeGrLwh4ct9E0t53tbd5GQ3D73+eRpCCcDOC5A74xnJ5rXrLh8T6BcLeNb65psq2KeZdlLuNhbpjO58H5RgE5OKbF4s8Oz6b/AGjBr+lyWPm+T9pS8jMXmYzs3A43Y5x1xSA1qKx5fF/huHSYdUm8Q6VHp9w5jhu3vYxFIwzlVfdgkYPAPY1sAhgCDkHkEd6ACiiigZQ1vQ9P8R6RLpes2/2mzmZGeLeyZKOHXlSDwyg9e1Qa34Y0rxBNaTalDN59kzG3uLa6lt5YtwwwEkTKwBGMjODgegrWpGYIhZjgKMk0COZ1L4c+GNXuUuNRsrieVYoYWY39wPOWEkxmUB/3rKSSGfc3vVi88D+Hr+XVnu7F3/thVF8guZVSUqFCtsDbVcbF+dQG461lx/FvwXLbCeLU7h4mt2ukZdNuT5kS/edP3fzBedxGduDnGDWrfeNtB05bSS7uZ1trxYWivEspntsSsFj3TqhjTJK/eYfeBPBFPUNCvb/DvwxbOHj0+RpBfxaiZJbuaR2uY12pIzM5LEDrnIPU5NXH8I6Q3iB9ajjure+lZHma2vp4UnZBhTJGjhJMDj5gcjg8VVT4geGZNbGkrqLfazeNYc20ojFwAT5RkK7AxCkgE844zV/RfEumeIWn/siS4njgdkaZrSWOJyGKnZIyhZMFSMoTRqGhQsvh94Z07XIdXs9OaO8t5pZ4GNzKyQPKGEhSMsUQNvbIUAE4OMgY6SiikAUVXv8AULLSrGS91S7gsrWLBknuJRGiZOBlmIA5IH41Hpesabrdn9q0XUbTULbcU860nWVNw6jcpIzyOKALlcd4v8EyeKvF3hq/kmMdhpf2v7UsV1LbzP5sYVdjR4PUc/MOPXpXY1Bb39pdzXENrdQTy2r+XOkcgZomxnawH3Tgg4PrQB5/r/w8v0vbr/hErbSRY3mgHRDbXkrxraLuYh0Co+8HecqduSoO7nihqPws1hrXV9HsLqyuNN1q306Ce+u5XW5tfsyqjFIwhVyQgZSXXDsevf1aindhY8q1P4X6zc6xeanBc2zs2vtqkNst/Pa+ZE1uIirTRLvjcHJBXI7HqaLv4Y6jDFANBstJtoptGu9KuLO6v57hLbz5fMM0cjRlpCSWJVgmeBnvXo19rmn6bqenafe3Hl3Wpu8dpHsY+YyKXYZAwMKCecVfouwsZPhTSp9C8GaLpF20b3Fhp8FrK0RJRmSNVJUkA4yOMgVrUUUgCiiigZyHxS0HUvEngG40zRYmlvJLm2dQropASdGZgX+XgKTz6dDWJ4q8J+JZPEOkXmlSNrb2Wl6nEbnUjAoMsqIIkdUVAVJBHC9Opr0qoGv7RNQSwe6gW8kjMqW5kAkZAQCwXqQCQM+9O4jwiP4X+ILrwj4usJNAaIXf9m3Gn21yLFN00TE3BRLfEUZK/KCcFlIyeoHR3ngG8PinWb/w/wCHItIbU/Dq22n3Ua28Z0y5CSKVJRiyEqUXdHuGO+BXrdFPmYWPDo/hnqA8EXdnp+i6vaXlxNpxntLuXT44G8qUNI8YtioyADlnwzDb1PT0PwJ4duPDd54lt/sUdjpk+qGfToISgjERijB2op+Qbw3GB645rrqKVwsFFFFIZnyWMtpI0+lFV3HdJascRyH1H91vccHuO9T2d9FeblUNHNH/AKyGQYdPqPT3HBqzVa8sI7va+Winj/1c8fDJ/iPY8GtOZS0l95nyuPwmJ4h8a2WhXBtI4mvLwAFokbaIweRubsT6AE1W0Px/Z6peJaXtu1jNKdsRL70c9l3YGCfcV5nJcS3c8tzcEmWZ2kfPXJOcfh0qN+UPOOOCO3vXuxy2l7Oz37njSzCp7S627HqAupLzVmjii8yZ5fPMbcAY4iDeiqMOfdlHeuksrNbSNiXMs0h3Syt1c/0HoO1UfDNqkeiW92wZrm9iW4nkflizDOPoM4ArXrxq1RN8sdketSg0uaW4UUUVzm4UUUUAFFFFABRRRQAUUUUAFFFFABRRRQAUUUUAFFFFAFDwr/yJ2jf9eEH/AKLWijwr/wAido3/AF4Qf+i1orrn8TMI/ChkX/I46h/14Wv/AKMuK0qzYv8AkcdQ/wCvC1/9GXFaVYVfi+78jSGwUUUVmWFFFFABRRRQAUUUUAFFFFABRRRQAyZDJA6DqykDP0ryjSfhNqljoukWc8mmNJY+Hb7S5CrMQZp2yrDKfdxuyeDyeDmvWqKd7CPHdW+F/i6/0bTdJGpWctrbabptuVbUbiGOGa3YGVhEibZw+1cNJgrjgDApNG8Fa9q3iXUzNaQafp1v43bV/tU4kS4mWOMbRGuzayMTjfuGBv4Oa9joo5mFji/A3hXWfDOp6mtzcQRaPNte10+C5knSOUkmWRDIoaJX4byt0gDFiGrtKKKQBRRRQMzPEumzaz4T1fS7VkSe9sZreNpCQoZ0KgnAJxk+hrhr74XXX/CC+HtO0+8le/0m4tbmeOfV7tYpmjjMbrHKCXgHzMVKKAMD5fT0yincR5Lrnwz1+78PppmhLaadaXFpeRXdh/b14UE8zDE5l2b5+C+Y5AFyx65NaMnw71ZrnU4hNZG11bwxHo08plcPBKkci7lTZh1O8dWUjng16TRRdhY8b1P4WeKtb0rVob2TRoJrzRrHTYkjuJXQG3mDszExA4YA4wOCcdtx3fFnw5uNa8X3GpJa2+p6de6fHZT2M2r3WnhAjsR/qFYSKQ/3WHBGR1Nej0UXYWPK9T+GeuT6vOlm+ltp0niS111bi4lkNwojVFaHbsI4Cttbd3wR82R0Xijwdea74x07VoHtRBa6Ze2jLMTu3zKoUgBSMcHPOeehrsqKLsDyaD4YeJbCyh/snU7GwvIfCCaKk8TvlbpZd+8fJwv3vn+8CcgZrI1jwD4j021E4sYrye/8V6deJbJeXF+sMcY2EzTSJvKcAliCAD6AV7hRRzMLHk03w08SDTJrqxuLG116fWLvVYp4L2WNdOeUpgI3lkTqVj+dHjUPvblcc+rxK6wosr+Y4UBnC43HucdqdRRcAooopDCmyp5kLpnG5SM+lOooA86034T/ANn6Vptl/bXmfYdDu9I3/Zcb/PYHzMb+NuPu859RWdqXwTbUINPhOuW7JZ6dYWQkudM86WM2pzugfzB5Ik43DDZ9ea9Wop3YrHluj/DnWLvX9Sm1u6Wz0tPFr65b2ixK8lztRfKfzQ/yKW5Kld3ydRmul8I+B38L65quof2hG8eoBM2lpam3h3rkGZk3splYbQzIEU7c7cmutoouwsFFFFIZxPxisL3VPhNrNnpdrNd3Unk+XDBE0jtieMnCrycAE/QVjePrfxj5ugwT6pL9geS4+3Xei6ZefI+weTuit5/O2/6zkPt3bdy9K9Pop3EeG+J5fGVvJpsOnT69d3Npaae8GoRWN8v28mYmXzI1cQwlUX5lmR2YNjjjE1/oesaTN8Q30aDXo9Sm1C2u7R4HumWa33wNL5bZ2M+A67Rl8ZUfLxXtlFPmCx4vfy+K9Z1a8NoPE1tp134qsUQhLi3ZbFoCspUEBo488k8bTgnDDi7NY+Jm+J00VxrWsadaW95bDThHp97dwT2wRQyPIknkglt4ZplLjO7djGPW6KVwseIaRpuu3XxE8K3mr2viGbUbPVtSOpy3CTmyhRllEBi3fuwpXABj45w3JWtP4h2nim48QeJp9Hk19Y7XQ4JtNWwlnWNroSvnaqHDttxlecgjI4GPXKKdwsePXy+KNJfxVYQQ69eaebzTPs08sl5M0KSKPtMsZidZZFVhkxxuMEkcDIrFtdU163Hg6x8S3fiRLa51TVI5o4Vu4rqe2VC8XyAmcgcEZLOFyMnFe91BNYWdzeW13cWsEtzaFjbzPGGeEsNrbGPK5HBx1FFwseN6d/wmsFr4IuNXj1y+uFjWO509muoSyPM2yaWaFtolSMRF0uBtYFgDu3Y9roopN3AK8p+IOrtoPxLTVUW4Js/Ct9KPswUyLiSPldwKgjrkggYyQRwfVqKFoB4jpfj/AMTHRNd1T+2odTs/D2p2ks8lu0NyLiyeNfPQSpDEG2Es+5UUgqy5bimXvjfxnJp+iSTa3Z6DFrdpdahDe6hLDaxxZkHkW+9oJVO2JlbaQGbn5+OfZdX0qz13R7rS9Uiaazu4zFNGsjJvU9RuUgjPsatRRJBCkUKBI41CoqjAUDgCndBY4DwrrPiDV/iNqNjqesRG103TbGdraxjjaCaWaJt5EjLvKbhuXBB6dsg+g0UVIBRRRQMKKKKAPL/FPg2+stSmu9LtnurOdy+yEFniY8kbepGckY6dKpaJ4O1PWLtFubWayswR50k6GNivdVU85Pr0H6V67RXoxzCsqfJ+JwPA0nPn/ASNFijWONQqKAqgdgKWiivOO4KKKKBhRRRQAUUUUAFFFFABRRRQAUUUUAFFFFABRRRQAUUUUAUPCv8AyJ2jf9eEH/otaKPCv/InaN/14Qf+i1orrn8TMI/ChkX/ACOOof8AXha/+jLitKs2L/kcdQ/68LX/ANGXFaVYVfi+78jSGwUUUVmWFFFFABRRRQAUUUUAFFFFABRRQDnpzQAUUUUAFFFFABRRRQAUUUUAFFFFABRRRQAUUUUAFFFFABRRRQAUUUUAFFFFABRRRQAUUUUAFFFFABRRRQAUUUUAFFFFABRRRQAUUUUAFFGcdaKACiiigAooooAKKKKACiiigAooooAKKKKACiignHWgAooooAKKKKACiignHXigAooooAKKKKACiiigAooooAKKKKACiiigAooooAoeFf8AkTtG/wCvCD/0WtFHhX/kTtG/68IP/Ra0V1z+JmEfhQyL/kcdQ/68LX/0ZcVpVmxf8jjqH/Xha/8Aoy4rSrCr8X3fkaQ2CiiisywooooAKKKKACiiigAooooA5fxbZ+I7mI/2RcL9mx80MXySH8e/4Y+hqfw9bavH4fs0FzbQ7Y8eXLaOWXnoT5g5/AV0NFdH1h+zVOy08jD2K9o53f3lDydX/wCf6x/8An/+O0eTq/8Az/WP/gE//wAdq/RWXtH5fcjTkX9NlDydX/5/rH/wCf8A+O0eTq//AD/WP/gE/wD8dq/RR7R+X3IORf02UPJ1f/n+sf8AwCf/AOO0eTq//P8AWP8A4BP/APHav0Ue0fl9yDkX9NlDydX/AOf6x/8AAJ//AI7R5Or/APP9Y/8AgE//AMdq/RR7R+X3IORf02UPJ1f/AJ/rH/wCf/47R5Or/wDP9Y/+AT//AB2r9FHtH5fcg5F/TZQ8nV/+f6x/8An/APjtHk6v/wA/1j/4BP8A/Hav0Ue0fl9yDkX9NlDydX/5/rH/AMAn/wDjtHk6v/z/AFj/AOAT/wDx2r9FHtH5fcg5F/TZQ8nV/wDn+sf/AACf/wCO0eTq/wDz/WP/AIBP/wDHa8m8N+Jb7R/DnizxNeWOu6lNpt1qHlXFxqjNaMqSkLEITMduB38rgA81tr428Y2WgTT67pcNpPdXNpb6RNHaxyfbHmOCnkreEDGMh2mUEHpkYNc0vL7kLlXn97O+8nV/+f6x/wDAJ/8A47R5Or/8/wBY/wDgE/8A8dryey8YeKfE/iTwJOl5Dppnv9TtLuBIXMUxhR+XRZsHheBuYK3zBmHFbOn/ABL1S6vvDttNDYK+qapqdnMgRgyx22/aVG7g/Ku4nI56DIo5peX3IOVef3s7/wAnV/8An+sf/AJ//jtHk6v/AM/1j/4BP/8AHa8ysviV4su/B3ha/WysJ9R8TTOsMdtbEpbqiMxBElxGHZtmQN6YyR85A3a3jXWPEcXwC1TU9VgfQ9eS0JlW0nwYnEgXcrIxxuGGwGON2MnFHNLy+5Byrz+9nb+Tq/8Az/WP/gE//wAdo8nV/wDn+sf/AACf/wCO14H4y8WeI4/B+oeHLXV9TttS8JGeW/v453SWdBIqWm5wctvSXceeTHz1r0HXPiPqWneP7bTLGKG50s6vbaVcs9rsMUsybsCUz5ZgDuwISuMjdmjml5fcg5V5/ezu/J1f/n+sf/AJ/wD47R5Or/8AP9Y/+AT/APx2vNdF+KOu3V3pUt/FpMlpqN5qFn5EAeOSFrYO6yM7OVClUAYFeM7s4O0dX8PfE2peIdOu4/EXlQazYyrHeWUdk0H2ZiucbjLIJVPVXUgFSDgUuaXl9yDlX9Nm/wCTq/8Az/WP/gE//wAdo8nV/wDn+sf/AACf/wCO1fope0fl9yHyL+myh5Or/wDP9Y/+AT//AB2jydX/AOf6x/8AAJ//AI7V+ij2j8vuQci/psoeTq//AD/WP/gE/wD8do8nV/8An+sf/AJ//jtX6KPaPy+5ByL+myh5Or/8/wBY/wDgE/8A8do8nV/+f6x/8An/APjtX6KPaPy+5ByL+myh5Or/APP9Y/8AgE//AMdo8nV/+f6x/wDAJ/8A47V+ij2j8vuQci/psoeTq/8Az/WP/gE//wAdo8nV/wDn+sf/AACf/wCO1foo9o/L7kHIv6bKHk6v/wA/1j/4BP8A/HaPJ1f/AJ/rH/wCf/47V+ij2j8vuQci/ps5bxZaazNoTIs0NwxlTalvaur5z1B3n+VW/DFtr1va41y5jkXHyIfmkX6t/wDr+tb1Fauu3S9nZfcZqilU9pdhRRRXObhRRRQAUUUUAFFFFABRRXlWhXt9N8RPGE00GuXw06+Itpl1NhZ2wFsrbHg85d2Se0bcsOR2Yj1WivD/ABJ8QtR8QeBZdPuo7FRqfgifVrgQqwZJchAFyxwnLdcnI68U3RfEN54V1/xTq9vHBJYQ3GhpqZlVi0ds9miNImCOVLKTnIwGp8oXPcJA5jYRMqvj5Sy5APuMjNcHPp3ij/hKrOW/m86ITfu5UUtCn1QEY/H86F8f6hF8HtQ8b3FlC5CTXNjborLmDeVhL5JJJXaxIxweAKfeeJPEltrGh+HlvNEk1HU5bgtqCW0jwRpFCkmzyfNDB28wY/eY2ruxzgbUarpXsk7mNWkqlrt6HWeTq/8Az/WP/gE//wAdo8nV/wDn+sf/AACf/wCO15bb/FPxNqun2MmnQaTazP4fu9VnaaCWZHkt5TGRHiRTsfG5SckAj73d2p/FbxBHaanqVhbaallpuj6fqrwTQyPJKLjl4w4cBSB0baenIOeI5peX3Ivlj5/ez1DydX/5/rH/AMAn/wDjtHk6v/z/AFj/AOAT/wDx2uJTxr4t1Hx9e6doegx3OlaZqUVleM3lq4RkVml3tOpGA+QoiYMF+8CeOb8T+M/E+tfBDVvEdrqFjpq3McktpFZrKl3bpHc+WR5gk+ZsbdzAKFORtO7IOaXl9yDlXn97PWvJ1f8A5/rH/wAAn/8AjtZviG21eTw/eIbm2m3R48uK0cM3PQHzDz+BrldW8ZeN4PFdzoOgaPa6vc6ZbW090ViSFbnzGbOzzLlTEAqkA4m+brjjPP8AivxJqniDxJpAmfT4NN0/x3b6fDaiNvtRaMZ8xn37Sp3MQoQcFTuPeoVJRknp9yJlTUota/ez0PwlZ+I7aIf2vcL9mx8sMvzyD8e345+grqK8t8c61H4d+Kttq80qwpZ+GL2XzGiMoUiWPB2AqW5xxuXPqOogtvid4kt7TVJ9YsLOOLQ9VtIdRYw+W62k6LlwqTyqGRmBJ3sCuchSDSqzdWXO0l6DpwVOPKnc9ZoryJfiZ4w1VNNh8PaNazXWq211qNoDCCDbJLshUiSeL5ipVmYMcAjCdcdN4f8AFHiHWfH17o97a2OnW2nWNpc3VuVaWcSTRsTGJA+z5XX7205Ax3yMrGlzt6KKKQwooooAKKKKACiiigAooooAoeFf+RO0b/rwg/8ARa0UeFf+RO0b/rwg/wDRa0V1z+JmEfhQyL/kcdQ/68LX/wBGXFaVZsX/ACOOof8AXha/+jLitKsKvxfd+RpDYKKKKzLCiiigAooooAKKKKACiiigAooooAKKKKACiiigAooooAKKKKACiiigAooooAKKKKAK1vplhaWstta2VvDBMzvLFHEqrIz8sWAGCTnknrWdF4L8LwafPYQeG9Ijs7llae2SwiEcpXlSyhcEjtnpW1RQIyh4W8Piyt7MaFpgtrabz4IPsceyKXrvVcYVueo5pY/C+gRao+pRaHpqX8khke6W0jErOQQWL4yThmGc9CfWtSigDNm8N6HcaNHpFxouny6bEQY7J7VGhTHTCEbR1PbvUn9iaT/Yv9kf2ZZ/2Zs2fYvs6eTtznGzG3GecYq9RQBn3GgaPd/bftWk2M/9oBFvPMtkb7SE+4JMj59vbOcdqZP4Y0G61hdWudE06bUlKst5JaRtMCuNpDkbuMDHPGK06KAOc8M+A9A8Kq76fZRyXcjys17PFGbgrI5dkLhQduTwPYVraVoul6FatbaJptnptu7mRorOBYkZiACxCgDOABn2FXaKACiiigYUUUUAFFFFABRRRQAUUUUAFFFFABRRRQAUUUUAFFFFABRRRQAUUUUAFFFFABUFvYWlpNcTWtrBBLdP5k7xxhWlbGNzEfeOABk+lT0UAY0Hg7wxbLMtt4c0mEXCPHMI7GJfMV8b1bC8htq5B64GelN1fwjpOraHqumLbpYJq0At7uezijSV0C7ByVIOF+UZBwOmK26KBFaHTbODSY9MS3jNlHALcQMoK+WF27SDwRjjFUX8I+G5NIj0qTw9pT6dFJ5sdm1lGYUfn5gm3aDyecZ5Na9FAFH+wtJ+T/iV2X7u1Nmn+jp8sBxmIccJwPl6cdKjbw3obwTQto2ntFPClvLGbVNskSfcjYY5VewPA7VpUUAZtx4b0O71iPVrrRdPn1KIqY7yS1Rpk29MORuGO3NInhnQYvt/l6Jpyf2nn7dttIx9ryST5nHz5LN97PU+tadFAGPP4P8ADV0toLnw7pMwskCWoksY28hQcgJlflGecCpZPDWhTas2qS6Lpz6gzIzXjWiGYlMbSXxnI2rjnjA9K06KAKd3pGm38zS32n2tzI0D2zPNArkxP96Mkj7p7r0NZV54G0CbwvqWg6fp9vo9pqUJhuDplvFCxUjB/hIzgkZIOM10NFAGTc+FNAvtMs9P1HRbC+tLFBHbRXdskyxAKFG0MDjgAVcttL0+yuJJ7OxtreaSNI3kihVWdEGEUkDJCgkAdu1WqKACiiigYUUUUAFFFFABRRRQAUUUUAUPCv8AyJ2jf9eEH/otaKPCv/InaN/14Qf+i1orrn8TMI/ChkX/ACOOof8AXha/+jLitKs2L/kcdQ/68LX/ANGXFaVYVfi+78jSGwUUUVmWFNSVJHkVGDNE21wP4TgHH5EH8adVDT+NQ1Uf9PKn/wAgx/4VSV02S3Zov0UUVJQUUUUAFFFFABRRRQAUUUUAFFFFABRRRQAUUUUAFFFFABRVbUdTsdIsXvdWvbextY8B57mVY41ycDLMQBkkCm6bqunazZi70e/tb+2LFRPazLKhI6jcpIzQBbooqC2v7O9edLO6guGtpTDOsUgYxOACUbH3WwQcHnkUAT0UUUAFFZmreJ9B0GWOPXdb07TZJQWjW8u44S4HcBiM1pI6yRq8bB0YZVlOQR6igQtFQWN/Z6nZpd6bdQXds5YLNbyCRGIJU4YcHBBB9wanoGFFQXt/aadb+fqF1BaQ7lTzJ5Ai7mOFGTxkkgAdyagtNZsL7VtQ0y1n8y800xi6j2MPL8xdyckYORzwT70AXqKKKACiiigAooooAKKKKACiiigAooooAKKKKACiiigAooooAKKKKACiiigAprypG8auwVpW2oD/ABHBOPyBP4U6qGo/8f8ApQ/6emP/AJBk/wAaqKuyZOyLN3ci0hWRlLBpY48D1dwuf/HqmqhrX/IOB9LiA/lKhq/Q0uVP+ugX95oKKKwJfHXhaOxmvE16xuYLeaOCZrSYXHlySNsRWEe4jLcc+/pUjN+iiigYUViX3jHQdNOri9vxEdGSJ77MTnyhL/q8YHzFuwXJzx1qxo/iHTdee6TTZpHks3VLiOW3kheJmQOFKuoIO1gcduhweKBGnRRWVf8AijRNMs7i6u9Sg8q1uEtZzEfNMUrsqqjKmSCS68Ed89KANWiiigYVDBciea5jCkG3lEZJ7korZ/8AHv0qaqGm83mqH1ux/wCiYx/Sqik0yW7NEunXD3Nq7y43LPNGMDHCyso/QCrVUNH4trgel3P+sjH+tX6c1aTsKGsUFFcZffE7S9P8QX2m3OnakIdPu4LO61AJEYIpJlUx5HmeYQdwGQhwa3/+Eo8P/wCl/wDE803/AEJS11/pcf7gBipL8/KAwI5xyCKixRqUVyOufEbR9Jh0S7truxvtN1S+No9/HeoIbcBHZnLjKnGzBGR9a1rnxf4asrG1vbzxDpVvaXgJtp5b2NY5wOuxi2GxkdKLMDYorlD8QNLt/HV94c1Sez0/7PDbyQXFxeKn2ppt2EVTjkbexOc9KrX3xAksNdg06TTIHE+uJpKPHqCOwDQmTzWRQShyCNjYPfODTswO0orm9I8b6ZdaPp11rV7pelXWoySRwWx1SGYSskhTCOpw5zjIXoTg81mWnxS0fWInbw+9tdtBrKaXcJPqEMJVWk2eenzHep5KAYL4wKLMDt6KpWus6Xfahc2NjqVnc3locXFvDOryQn/bUHK/jV2kMq3lw8N1YRpjbPOY3yO3lO381FWqoX/Oo6WPS4dv/ITj+tX6uS0X9dWRF6v+uhQ8K/8AInaN/wBeEH/otaKPCv8AyJ2jf9eEH/otaK6J/EzOPwoZF/yOOof9eFr/AOjLitKs2L/kcdQ/68LX/wBGXFaVYVfi+78jSGwUUUVmWFULLjVtSX1eNv8AxwD+lX6ypbu307XZnvbiK3juII9jSuFBZS2Rk98MtaQTaaXb9UZzdrNmrRVD+3tI/wCgrY/+BKf40f29pH/QVsf/AAJT/Gl7OfZj9pDuX6Kof29pH/QVsf8AwJT/ABo/t7SP+grY/wDgSn+NHs59mHtIdy/RVD+3tI/6Ctj/AOBKf40f29pH/QVsf/AlP8aPZz7MPaQ7l+iqH9vaR/0FbH/wJT/Gj+3tI/6Ctj/4Ep/jR7OfZh7SHcv0VQ/t7SP+grY/+BKf40f29pH/AEFbH/wJT/Gj2c+zD2kO5foqh/b2kf8AQVsf/AlP8aP7e0j/AKCtj/4Ep/jR7OfZh7SHcv0VQ/t7SP8AoK2P/gSn+NH9vaR/0FbH/wACU/xo9nPsw9pDuX6Kof29pH/QVsf/AAJT/Gj+3tI/6Ctj/wCBKf40ezn2Ye0h3L9FUP7e0j/oK2P/AIEp/jR/b2kf9BWx/wDAlP8AGj2c+zD2kO5y/wAX9PvtT+G9za6TbS3N013aMkcULSni4jJO1eSAASfYHpWJ49tvGD3ui29xq1xHYNFcfarzRNMvCFm+Xyt0VvP5oG3dg7ymfvL0x6H/AG9pH/QVsf8AwJT/ABo/t7SP+grY/wDgSn+NPkn2YueHc8g8TTeMotU06Kwk1yee0g00xX0NlfAahmQmdnjVxBDtUfMkqMx3Y44wHRdY0NfGraXb6/HfHxDBeRmFrp1nsy8LOUOSsjYDghcvgFTxgV6//b2kf9BWx/8AAlP8aP7e0j/oK2P/AIEp/jT5J/ysOeHc8mnbxXrN1J5X/CTW1jd+M4QMC4gddOa2IYjo0cRb6bWI+6w4vQWPidvidML7WtXsILXU4/sUSafe3Nvc2YjUbGlWTyF3ZcM0iFw3zbugHpf9vaR/0FbH/wACU/xo/t7SP+grY/8AgSn+NHJP+Vhzw7nA+NYLuH4taLqSya5ZWcekzxPe6TprXZDmRCI2HkygZAJ+6Dx1FU7geI7j4tZQeIx4QmvkSQK08ZW5+ztyvR1tfmGTwokGeBXpX9vaR/0FbH/wJT/Gj+3tI/6Ctj/4Ep/jRyT/AJWHPDueM+FfD2sWXhvwposUfiSxZdduo9ZWOW7iURZmKkPkARsCh3IQCxzndzWp9p8W/wDC2oGtbbV7e0XU54JYHjvZbd7cQHy5WleQwYZ8YCIrKeC2evqX9vaR/wBBWx/8CU/xo/t7SP8AoK2P/gSn+NHJP+Vhzw7njOoaNqut/CbbqEHiq51yC5tJ9ThuDdYMq3H7wwr/ABAKWIEWUACkDcAa1NS/4SdNW8QDTv8AhIv7CF1owTH2kzfYvL/0jyd37zf93ft/eZzn5q9S/t7SP+grY/8AgSn+NH9vaR/0FbH/AMCU/wAaOSf8rDnh3PKraz8T3t1pdskviVNCm8STiJpZrmK5Fj5B4lckSqnm7tpchsEcj5a7r4bHVv8AhB7ePxB9s+2RXFzFuvg3nNGs7iMsW5PyBcE9Rg89a2/7e0j/AKCtj/4Ep/jR/b2kf9BWx/8AAlP8aXJP+Vhzw7l+iqH9vaR/0FbH/wACU/xo/t7SP+grY/8AgSn+NL2c+zH7SHcv0VQ/t7SP+grY/wDgSn+NH9vaR/0FbH/wJT/Gj2c+zD2kO5foqh/b2kf9BWx/8CU/xo/t7SP+grY/+BKf40ezn2Ye0h3L9FUP7e0j/oK2P/gSn+NH9vaR/wBBWx/8CU/xo9nPsw9pDuX6Kof29pH/AEFbH/wJT/Gj+3tI/wCgrY/+BKf40ezn2Ye0h3L9FUP7e0j/AKCtj/4Ep/jR/b2kf9BWx/8AAlP8aPZz7MPaQ7l+iqH9vaR/0FbH/wACU/xo/t7SP+grY/8AgSn+NHs59mHtIdy/RVD+3tI/6Ctj/wCBKf40f29pH/QVsf8AwJT/ABo9nPsw9pDuX6Kof29pH/QVsf8AwJT/ABo/t7SP+grY/wDgSn+NHs59mHtIdy/RVD+3tI/6Ctj/AOBKf40f29pH/QVsf/AlP8aPZz7MPaQ7l+qF9zqumr6SO3/kNh/Wj+3tI/6Ctj/4Ep/jUMd3b6jrkDWVxFcR28Ehd4nDBWYqFGR7BquMJRd2uj/ImUotWT7E2ucaNO39za/5MD/Sr9V7+2+2abc2wODNEyA+mRiqyaheCNfM0e8L4G7a8OM+37ypS5oWQ27Suyj4703UdZ+H+t6dojbb+6spIoPn27mK/dyememfeuD8TFdf+GlhZ6H4Z1WC6s201Hhl0qWFoEWaMmJdyguFCkkpuUBc56Z9M/tG6/6A19/33B/8co/tG6/6A19/33B/8coUGu33oOdf0meUw3fi9/itHJFb63a2j3WoRXECwXcsIiWFzBJ5kshtzvcKVCKmD8pPPNONfFC/D6WBW8QGew1JcXrpqZfV0EJOGjLfaLcElctHmPeDj5c49i/tG6/6A19/33B/8co/tG6/6A19/wB9wf8Axynyvy+9BzLz+5njfifS/EniDSfFMV5puvJCY9BlsbH7RcSiN9w+0KrA/vCoJ3nnlQ55AI0dRh8T2mp6rbf8VG2hR6/ZxyNBJcyT/YRbDcYnUmVl8wLvMZLH5s/xV6n/AGjdf9Aa+/77g/8AjlH9o3X/AEBr7/vuD/45Ryvy+9BzLz+5nkfiy58UDXLNdAg8Rwx2qae1pK0V7M12hlJl83Y4hQqgG4TIztu5wekN9ous6N/wnQ0aDxBHqdxrdrPbSW7XbJLbM8BdlYEoxxvDYJYKCDhRivYv7Ruv+gNff99wf/HKP7Ruv+gNff8AfcH/AMco5X5feg5l/SZ5nAPFD+NIix18asPEj+du+0DTv7L2nGP+WH3NuMfvN/XnNM8B23iq21Lwheao+vu96NTj1ZL6Wd40VJP9HLI52xnCjacAsCeTmvT/AO0br/oDX3/fcH/xyj+0br/oDX3/AH3B/wDHKOV+X3oOZef3Mv1Q0rlr5/712/6AL/Sj+0br/oDX3/fcH/xypNLgkt7ECddsskjyuuc7SzlsfhnH4UW5Yu4X5pKxHpfyyX8f9y7b9VVv/Zqv1QksrtLyaewuoIhPtLpNAZPmAxkEOvYD8qPJ1f8A5/rH/wAAn/8AjtElGTvf8/8AIUW4q1vyOUsfhxbv491/X9dVLuK8vLe6sYFupdiNFEqbpIsiNmDDKkhsdcg1nJ8NtUh8L31pFNY/bX8UHXoVLMIp1E4kWOVtuQSqgEgNjA64rtLy5vNPiSS/1jS7VJJFiRprYoGdjhVBMvJJ4A70tpcXt/G72OsaXcpHI0TtDbFwrqcMpxLwQeCOopWX8y/H/Id32/L/ADOAufhx4hmvoNZUaONQ/wCEj/tqWxaeQ26qsHlqiyeXkuSAxcoME5wdvNO8+F3iw+GF0y01K0KXKag11aJqFxawxS3L7kZWjTdKiAsNjhVbOSOePUvJ1f8A5/rH/wAAn/8AjtULzVzpzzJqHiLRbVreNZZlni2GNGbarNmbgFuATwTxTsv5l+P+QXfZ/h/meean8KfEV3DqNpBJo7Q6potjpUs00km+38n/AFkiKI8N04UlcnBJGMHTf4a6ufFX9pLd2bQDxLDq3zyOZDClt5RB+XG8tzjOMd+1d/5Or/8AP9Y/+AT/APx2jydX/wCf6x/8An/+O0WX8y/H/ILvs/w/zPNNI+GPiXRdP8Orp95Y2upabLIJr+C7lH7iS6kleIxGMpOrI44PllXQEMRVqX4c640N5ZpLp/2d/Fqa/FMZ33tGZfMeNk8vAYYwMMQc87e/dWtxe33nfYtY0u48iVoZfKtmfy5F+8jYl4YdweRU/k6v/wA/1j/4BP8A/HaLL+Zfj/kF32f4f5nPeBfDOq+GIG0/UE02a2t5bp7e+idmuJhNOZfnBUBMcAgM27C9NvPYVQ8nV/8An+sf/AJ//jtHk6v/AM/1j/4BP/8AHaXKv5l+P+Qcz7fl/mF382t6en91ZZPyAX/2ar9UrazuBe/ar64imkWMxoIoTGFBIJ6s2ScD8qu0p20S6DjfVsoeFf8AkTtG/wCvCD/0WtFHhX/kTtG/68IP/Ra0V0T+JmcfhQyL/kcdQ/68LX/0ZcVpVl3VrqkOvz32nW9ncRT20UJE9y0TKUaQ9o2yD5g9OlO83xD/ANAzTP8AwYyf/GKznByd0VGSSszSorN83xD/ANAzTP8AwYyf/GKPN8Q/9AzTP/BjJ/8AGKj2Uv6aK54mlRWb5viH/oGaZ/4MZP8A4xR5viH/AKBmmf8Agxk/+MUeyl/TQc8TSorN83xD/wBAzTP/AAYyf/GKPN8Q/wDQM0z/AMGMn/xij2Uv6aDniaVFZvm+If8AoGaZ/wCDGT/4xR5viH/oGaZ/4MZP/jFHspf00HPE0qKzfN8Q/wDQM0z/AMGMn/xijzfEP/QM0z/wYyf/ABij2Uv6aDniaVFZvm+If+gZpn/gxk/+MUeb4h/6Bmmf+DGT/wCMUeyl/TQc8TSorN83xD/0DNM/8GMn/wAYo83xD/0DNM/8GMn/AMYo9lL+mg54mlRWb5viH/oGaZ/4MZP/AIxR5viH/oGaZ/4MZP8A4xR7KX9NBzxNKis3zfEP/QM0z/wYyf8AxijzfEP/AEDNM/8ABjJ/8Yo9lL+mg54mlRWb5viH/oGaZ/4MZP8A4xR5viH/AKBmmf8Agxk/+MUeyl/TQc8TSorN83xD/wBAzTP/AAYyf/GKPN8Q/wDQM0z/AMGMn/xij2Uv6aDniaVFZvm+If8AoGaZ/wCDGT/4xR5viH/oGaZ/4MZP/jFHspf00HPE0qKzfN8Q/wDQM0z/AMGMn/xijzfEP/QM0z/wYyf/ABij2Uv6aDniaVFZvm+If+gZpn/gxk/+MUeb4h/6Bmmf+DGT/wCMUeyl/TQc8TSorN83xD/0DNM/8GMn/wAYo83xD/0DNM/8GMn/AMYo9lL+mg54mlRWb5viH/oGaZ/4MZP/AIxR5viH/oGaZ/4MZP8A4xR7KX9NBzxNKis3zfEP/QM0z/wYyf8AxijzfEP/AEDNM/8ABjJ/8Yo9lL+mg54mlRWb5viH/oGaZ/4MZP8A4xR5viH/AKBmmf8Agxk/+MUeyl/TQc8TSorN83xD/wBAzTP/AAYyf/GKPN8Q/wDQM0z/AMGMn/xij2Uv6aDniaVFZvm+If8AoGaZ/wCDGT/4xR5viH/oGaZ/4MZP/jFHspf00HPE0qKzfN8Q/wDQM0z/AMGMn/xijzfEP/QM0z/wYyf/ABij2Uv6aDniaVFZvm+If+gZpn/gxk/+MUeb4h/6Bmmf+DGT/wCMUeyl/TQc8TSorN83xD/0DNM/8GMn/wAYo83xD/0DNM/8GMn/AMYo9lL+mg54mlRWb5viH/oGaZ/4MZP/AIxR5viH/oGaZ/4MZP8A4xR7KX9NBzxNKis3zfEP/QM0z/wYyf8AxijzfEP/AEDNM/8ABjJ/8Yo9lL+mg54mlRWb5viH/oGaZ/4MZP8A4xR5viH/AKBmmf8Agxk/+MUeyl/TQc8TSorN83xD/wBAzTP/AAYyf/GKPN8Q/wDQM0z/AMGMn/xij2Uv6aDniaVFZvm+If8AoGaZ/wCDGT/4xR5viH/oGaZ/4MZP/jFHspf00HPE0qKzfN8Q/wDQM0z/AMGMn/xijzfEP/QM0z/wYyf/ABij2Uv6aDniaVFZvm+If+gZpn/gxk/+MUeb4h/6Bmmf+DGT/wCMUeyl/TQc8TSorN83xD/0DNM/8GMn/wAYo83xD/0DNM/8GMn/AMYo9lL+mg54mlRWb5viH/oGaZ/4MZP/AIxR5viH/oGaZ/4MZP8A4xR7KX9NBzxNKis3zfEP/QM0z/wYyf8AxijzfEP/AEDNM/8ABjJ/8Yo9lL+mg54mlRWb5viH/oGaZ/4MZP8A4xR5viH/AKBmmf8Agxk/+MUeyl/TQc8TSorN83xD/wBAzTP/AAYyf/GKPN8Q/wDQM0z/AMGMn/xij2Uv6aDniaVFZvm+If8AoGaZ/wCDGT/4xR5viH/oGaZ/4MZP/jFHspf00HPE0qKzfN8Q/wDQM0z/AMGMn/xijzfEP/QM0z/wYyf/ABij2Uv6aDnieN+PtevtR8S3GnajrLW5sPE+nR2uiiGP95bZjb7QTt8zl2xu3bR93GSKSTxpq+j6XNcxahHZ2kfiLUorm30+K2gurlFmVUEIkiMcrjcxZeJHyCCcGvZfN8Q/9AzTP/BjJ/8AGKPN8Q/9AzTP/BjJ/wDGKr2cu34oXOv6TPGNU1nUfCN/8UNQ03XpI9UiurSeC0uI4DujcwDzdmwMQA3lg5xg85b5qb8VXvrc+JtInujqDR+HrCQ3MlpCJ5nN/jlo0UkeiDj2yST7T5viH/oGaZ/4MZP/AIxR5viH/oGaZ/4MZP8A4xRyS/poOZf0meVJ4/1i3a8mt/Ea6noFn4h06A668UAja3mQefGzogQKrFfmABG/BPFZOp69e+Jf7H1jUPEUtpp9n41uraC+jSBI4bfY3kvueMj7vALZBD85OCPa/N8Q/wDQM0z/AMGMn/xijzfEP/QM0z/wYyf/ABij2cu34oOdf0meT2fi3ULXVru0udWg8P6TP4s1O2utVit7eHyhHErxIWdDHudt2XcFm24zk0y08ZeMNVtdJjk1qawabw9fagZ4bOENdGGUCGba6MFDptYgAAhjjHGPW/N8Q/8AQM0z/wAGMn/xijzfEP8A0DNM/wDBjJ/8Yo9nLt+KDnX9XIvCWpz634K0TVbsKLi+0+3uZQgwNzxqxx7ZNa9Zvm+If+gZpn/gxk/+MUeb4h/6Bmmf+DGT/wCMVPspf00HOjSorN83xD/0DNM/8GMn/wAYo83xD/0DNM/8GMn/AMYo9lL+mh88R/hX/kTtG/68IP8A0WtFWNFspNN0DT7Gcq0ttbRwuUOVJVQDjPbiit5ayZnHSKLtFFFSUFFFFABRRRQAUUUUAFFFFABRRRQAUUUUAFFFFABRRRQAUUUUAFFFFABRRRQAUUUUAFFFFABRRRQAUUUUAFFFFABRRRQAUUUUAFFFFABRRRQAUUUUAFFFFABRRRQAUUUUAFFFFABRRRQAUUUUAFFFFABRRRQAUUUUAFFFFABRRRQAUUUUAFFFFABRRRQAUUUUAFFFFABRRRQAUUUUAFFFFABRRRQAUUUUAFFFFABRRRQB/9k=)"
      ],
      "metadata": {
        "id": "BUVLXM1F2dFG"
      }
    },
    {
      "cell_type": "markdown",
      "source": [
        "\n",
        "### A basic representation of a Convolutional Neural Network (CNN)\n",
        "For additional information on kernels and how they work, use https://setosa.io/ev/image-kernels/"
      ],
      "metadata": {
        "id": "-RdqZTE8Bym8"
      }
    },
    {
      "cell_type": "code",
      "source": [],
      "metadata": {
        "id": "D-aXGPec2chn"
      },
      "execution_count": 34,
      "outputs": []
    }
  ]
}